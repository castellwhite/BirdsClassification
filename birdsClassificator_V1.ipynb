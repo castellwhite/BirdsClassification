{
 "cells": [
  {
   "cell_type": "code",
   "execution_count": 17,
   "metadata": {
    "colab": {
     "autoexec": {
      "startup": false,
      "wait_interval": 0
     },
     "base_uri": "https://localhost:8080/",
     "height": 287
    },
    "colab_type": "code",
    "executionInfo": {
     "elapsed": 2305,
     "status": "ok",
     "timestamp": 1530979519103,
     "user": {
      "displayName": "sergi castel",
      "photoUrl": "//lh5.googleusercontent.com/-t7uPTy_PD5c/AAAAAAAAAAI/AAAAAAAABjU/YrQqLvCov5A/s50-c-k-no/photo.jpg",
      "userId": "104485759475975710875"
     },
     "user_tz": 300
    },
    "id": "b_T5zCbHUXRu",
    "outputId": "de4466c9-1ba8-4b5a-b357-1beb65d7c143"
   },
   "outputs": [
    {
     "name": "stdout",
     "output_type": "stream",
     "text": [
      "/bin/sh: 1: Syntax error: word unexpected (expecting \")\")\n",
      "/bin/sh: 1: Syntax error: \"(\" unexpected\n"
     ]
    }
   ],
   "source": [
    "from IPython.display import Image\n",
    "from IPython.core.display import HTML \n",
    "Image(url= \"https://github.com/jesugome/InfluencersInSocialNetworks/raw/master/logoAnalytics.png\")"
   ]
  },
  {
   "cell_type": "markdown",
   "metadata": {
    "colab_type": "text",
    "id": "tCOAqRWuULWz"
   },
   "source": [
    "<h2><center>\n",
    "# Birds\n",
    "\n",
    "![Image of Yaktocat](http://tremendouswallpapers.com/wp-content/uploads/2014/12/Venette-Waste_Trend-F-W-14-15_Neat-Graphics_mandarin-duck.jpg)\n",
    "    \n",
    " ## Machine Learning Project\n",
    "\n",
    "Developed by [Jesus Solano](http://www.jesussolano.com/) -- [Sergio Castelblanco](http://www.jesussolano.com/) -- [Jose Sandoval](http://www.jesussolano.com/) -- [Aleksey Sepulveda](http://www.jesussolano.com/)\n",
    "\n",
    "\n",
    "version 8.3, June 24 2018"
   ]
  },
  {
   "cell_type": "code",
   "execution_count": 3,
   "metadata": {
    "colab": {
     "autoexec": {
      "startup": false,
      "wait_interval": 0
     },
     "base_uri": "https://localhost:8080/",
     "height": 37
    },
    "colab_type": "code",
    "executionInfo": {
     "elapsed": 1212,
     "status": "ok",
     "timestamp": 1530986236228,
     "user": {
      "displayName": "Edgardo Aleksey Sepulveda Duran",
      "photoUrl": "https://lh3.googleusercontent.com/a/default-user=s128",
      "userId": "107257046089642896553"
     },
     "user_tz": 300
    },
    "id": "P66vNgFKUE7D",
    "outputId": "cfd601a2-4dbd-4ac3-96a4-752c1723cc7a"
   },
   "outputs": [
    {
     "name": "stdout",
     "output_type": "stream",
     "text": [
      "--2018-07-07 14:41:16--  http://www-cvr.ai.uiuc.edu/ponce_grp/data/birds/birds.zip\n",
      "Resolving www-cvr.ai.uiuc.edu (www-cvr.ai.uiuc.edu)... 128.174.227.253\n",
      "Connecting to www-cvr.ai.uiuc.edu (www-cvr.ai.uiuc.edu)|128.174.227.253|:80... connected.\n",
      "HTTP request sent, awaiting response... 200 OK\n",
      "Length: 43988823 (42M) [application/zip]\n",
      "Saving to: ‘birds.zip’\n",
      "\n",
      "birds.zip           100%[===================>]  41,95M  1,24MB/s    in 23s     \n",
      "\n",
      "2018-07-07 14:41:40 (1,83 MB/s) - ‘birds.zip’ saved [43988823/43988823]\n",
      "\n",
      "--2018-07-07 14:41:40--  http://www-cvr.ai.uiuc.edu/ponce_grp/data/birds/birds_f_numbers.txt\n",
      "Resolving www-cvr.ai.uiuc.edu (www-cvr.ai.uiuc.edu)... 128.174.227.253\n",
      "Connecting to www-cvr.ai.uiuc.edu (www-cvr.ai.uiuc.edu)|128.174.227.253|:80... connected.\n",
      "HTTP request sent, awaiting response... 200 OK\n",
      "Length: 4656 (4,5K) [text/plain]\n",
      "Saving to: ‘birds_f_numbers.txt’\n",
      "\n",
      "birds_f_numbers.txt 100%[===================>]   4,55K  --.-KB/s    in 0,004s  \n",
      "\n",
      "2018-07-07 14:41:40 (1,09 MB/s) - ‘birds_f_numbers.txt’ saved [4656/4656]\n",
      "\n",
      "--2018-07-07 14:41:40--  http://www-cvr.ai.uiuc.edu/ponce_grp/data/birds/birds_training_pairs.txt\n",
      "Resolving www-cvr.ai.uiuc.edu (www-cvr.ai.uiuc.edu)... 128.174.227.253\n",
      "Connecting to www-cvr.ai.uiuc.edu (www-cvr.ai.uiuc.edu)|128.174.227.253|:80... connected.\n",
      "HTTP request sent, awaiting response... 200 OK\n",
      "Length: 3013 (2,9K) [text/plain]\n",
      "Saving to: ‘birds_training_pairs.txt’\n",
      "\n",
      "birds_training_pair 100%[===================>]   2,94K  --.-KB/s    in 0s      \n",
      "\n",
      "2018-07-07 14:41:40 (12,6 MB/s) - ‘birds_training_pairs.txt’ saved [3013/3013]\n",
      "\n"
     ]
    }
   ],
   "source": [
    "# Download datasets.\n",
    "\n",
    "import os.path\n",
    "\n",
    "# If datasets already exist do nothing. \n",
    "\n",
    "if not os.path.exists('birds.zip'):\n",
    "  ! wget http://www-cvr.ai.uiuc.edu/ponce_grp/data/birds/birds.zip\n",
    "    \n",
    "if not os.path.exists('birds_f_numbers.txt'):\n",
    "  ! wget http://www-cvr.ai.uiuc.edu/ponce_grp/data/birds/birds_f_numbers.txt\n",
    "    \n",
    "if not os.path.exists('birds_training_pairs.txt'):\n",
    "  ! wget http://www-cvr.ai.uiuc.edu/ponce_grp/data/birds/birds_training_pairs.txt \n"
   ]
  },
  {
   "cell_type": "code",
   "execution_count": 5,
   "metadata": {
    "colab": {
     "autoexec": {
      "startup": false,
      "wait_interval": 0
     },
     "base_uri": "https://localhost:8080/",
     "height": 37
    },
    "colab_type": "code",
    "executionInfo": {
     "elapsed": 909,
     "status": "ok",
     "timestamp": 1530986238738,
     "user": {
      "displayName": "Edgardo Aleksey Sepulveda Duran",
      "photoUrl": "https://lh3.googleusercontent.com/a/default-user=s128",
      "userId": "107257046089642896553"
     },
     "user_tz": 300
    },
    "id": "pbfo31Fsht8F",
    "outputId": "6968a0f0-148f-4768-d19c-8eacb35de6ae"
   },
   "outputs": [],
   "source": [
    "import os \n",
    "import zipfile\n",
    "\n",
    "# Extract images zip file\n",
    "with zipfile.ZipFile(\"birds.zip\",\"r\") as zip_ref:\n",
    "    zip_ref.extractall(os.getcwd())\n",
    "    \n"
   ]
  },
  {
   "cell_type": "code",
   "execution_count": 7,
   "metadata": {
    "colab": {
     "autoexec": {
      "startup": false,
      "wait_interval": 0
     },
     "base_uri": "https://localhost:8080/",
     "height": 51
    },
    "colab_type": "code",
    "executionInfo": {
     "elapsed": 1725,
     "status": "ok",
     "timestamp": 1530986241844,
     "user": {
      "displayName": "Edgardo Aleksey Sepulveda Duran",
      "photoUrl": "https://lh3.googleusercontent.com/a/default-user=s128",
      "userId": "107257046089642896553"
     },
     "user_tz": 300
    },
    "id": "Es2U3dQBWRjs",
    "outputId": "7d6836f8-9ac0-425a-893e-ebfbe279460c"
   },
   "outputs": [
    {
     "name": "stdout",
     "output_type": "stream",
     "text": [
      "birds\t\t\t     birds_training_pairs.txt\t README.md\r\n",
      "birdsClassificator_V1.ipynb  birds.zip\r\n",
      "birds_f_numbers.txt\t     deepLearningProject2.ipynb\r\n"
     ]
    }
   ],
   "source": [
    "! ls"
   ]
  },
  {
   "cell_type": "code",
   "execution_count": 8,
   "metadata": {
    "colab": {
     "autoexec": {
      "startup": false,
      "wait_interval": 0
     },
     "base_uri": "https://localhost:8080/",
     "height": 306
    },
    "colab_type": "code",
    "executionInfo": {
     "elapsed": 1656,
     "status": "ok",
     "timestamp": 1530986250056,
     "user": {
      "displayName": "Edgardo Aleksey Sepulveda Duran",
      "photoUrl": "https://lh3.googleusercontent.com/a/default-user=s128",
      "userId": "107257046089642896553"
     },
     "user_tz": 300
    },
    "id": "KIT5PUwvY7Ca",
    "outputId": "6ff860ed-c8a5-486b-ef22-d1ec3dd4c340"
   },
   "outputs": [
    {
     "name": "stdout",
     "output_type": "stream",
     "text": [
      "egr001.jpg  egr018.jpg\tegr035.jpg  egr052.jpg\tegr069.jpg  egr086.jpg\r\n",
      "egr002.jpg  egr019.jpg\tegr036.jpg  egr053.jpg\tegr070.jpg  egr087.jpg\r\n",
      "egr003.jpg  egr020.jpg\tegr037.jpg  egr054.jpg\tegr071.jpg  egr088.jpg\r\n",
      "egr004.jpg  egr021.jpg\tegr038.jpg  egr055.jpg\tegr072.jpg  egr089.jpg\r\n",
      "egr005.jpg  egr022.jpg\tegr039.jpg  egr056.jpg\tegr073.jpg  egr090.jpg\r\n",
      "egr006.jpg  egr023.jpg\tegr040.jpg  egr057.jpg\tegr074.jpg  egr091.jpg\r\n",
      "egr007.jpg  egr024.jpg\tegr041.jpg  egr058.jpg\tegr075.jpg  egr092.jpg\r\n",
      "egr008.jpg  egr025.jpg\tegr042.jpg  egr059.jpg\tegr076.jpg  egr093.jpg\r\n",
      "egr009.jpg  egr026.jpg\tegr043.jpg  egr060.jpg\tegr077.jpg  egr094.jpg\r\n",
      "egr010.jpg  egr027.jpg\tegr044.jpg  egr061.jpg\tegr078.jpg  egr095.jpg\r\n",
      "egr011.jpg  egr028.jpg\tegr045.jpg  egr062.jpg\tegr079.jpg  egr096.jpg\r\n",
      "egr012.jpg  egr029.jpg\tegr046.jpg  egr063.jpg\tegr080.jpg  egr097.jpg\r\n",
      "egr013.jpg  egr030.jpg\tegr047.jpg  egr064.jpg\tegr081.jpg  egr098.jpg\r\n",
      "egr014.jpg  egr031.jpg\tegr048.jpg  egr065.jpg\tegr082.jpg  egr099.jpg\r\n",
      "egr015.jpg  egr032.jpg\tegr049.jpg  egr066.jpg\tegr083.jpg  egr100.jpg\r\n",
      "egr016.jpg  egr033.jpg\tegr050.jpg  egr067.jpg\tegr084.jpg\r\n",
      "egr017.jpg  egr034.jpg\tegr051.jpg  egr068.jpg\tegr085.jpg\r\n"
     ]
    }
   ],
   "source": [
    "! ls birds/egret/"
   ]
  },
  {
   "cell_type": "code",
   "execution_count": 14,
   "metadata": {
    "colab": {
     "autoexec": {
      "startup": false,
      "wait_interval": 0
     },
     "base_uri": "https://localhost:8080/",
     "height": 303
    },
    "colab_type": "code",
    "executionInfo": {
     "elapsed": 2179,
     "status": "ok",
     "timestamp": 1530986254556,
     "user": {
      "displayName": "Edgardo Aleksey Sepulveda Duran",
      "photoUrl": "https://lh3.googleusercontent.com/a/default-user=s128",
      "userId": "107257046089642896553"
     },
     "user_tz": 300
    },
    "id": "bL8suCMClsZ0",
    "outputId": "d9df49e2-0447-4089-cfc1-3e3aa120052e"
   },
   "outputs": [
    {
     "name": "stderr",
     "output_type": "stream",
     "text": [
      "Clipping input data to the valid range for imshow with RGB data ([0..1] for floats or [0..255] for integers).\n"
     ]
    },
    {
     "data": {
      "text/plain": [
       "<matplotlib.image.AxesImage at 0x7f2b19972eb8>"
      ]
     },
     "execution_count": 14,
     "metadata": {},
     "output_type": "execute_result"
    },
    {
     "data": {
      "image/png": "[encoded data removed]",
      "text/plain": [
       "<Figure size 432x288 with 1 Axes>"
      ]
     },
     "metadata": {},
     "output_type": "display_data"
    }
   ],
   "source": [
    "%matplotlib inline\n",
    "import matplotlib.pyplot as plt\n",
    "from keras.preprocessing.image import ImageDataGenerator, array_to_img, img_to_array, load_img\n",
    "\n",
    "img = load_img('birds/mandarin/man032.jpg')  # this is a PIL image\n",
    "x = img_to_array(img)  # this is a Numpy array with shape (3, 150, 150)\n",
    "plt.imshow(x)"
   ]
  },
  {
   "cell_type": "code",
   "execution_count": 7,
   "metadata": {
    "colab": {
     "autoexec": {
      "startup": false,
      "wait_interval": 0
     },
     "base_uri": "https://localhost:8080/",
     "height": 17
    },
    "colab_type": "code",
    "executionInfo": {
     "elapsed": 563,
     "status": "ok",
     "timestamp": 1530986262199,
     "user": {
      "displayName": "Edgardo Aleksey Sepulveda Duran",
      "photoUrl": "https://lh3.googleusercontent.com/a/default-user=s128",
      "userId": "107257046089642896553"
     },
     "user_tz": 300
    },
    "id": "IWkJzA_NorlU",
    "outputId": "ad9be5a8-ecfd-40eb-a8ce-080af7d2f48c"
   },
   "outputs": [],
   "source": [
    "import random\n",
    "\n",
    "randomList= random.sample(range(1,101),100)\n",
    "\n",
    "formating = \"{:03d}\".format\n",
    "\n",
    "formatedList = [formating(item) for item in randomList]"
   ]
  },
  {
   "cell_type": "code",
   "execution_count": 45,
   "metadata": {
    "colab": {
     "autoexec": {
      "startup": false,
      "wait_interval": 0
     },
     "base_uri": "https://localhost:8080/",
     "height": 167
    },
    "colab_type": "code",
    "executionInfo": {
     "elapsed": 366,
     "status": "error",
     "timestamp": 1530987367470,
     "user": {
      "displayName": "sergi castel",
      "photoUrl": "//lh5.googleusercontent.com/-t7uPTy_PD5c/AAAAAAAAAAI/AAAAAAAABjU/YrQqLvCov5A/s50-c-k-no/photo.jpg",
      "userId": "104485759475975710875"
     },
     "user_tz": 300
    },
    "id": "pTwmrX5c5WVD",
    "outputId": "6ccc5adc-a910-4879-f61b-f58e7d7eb22c"
   },
   "outputs": [
    {
     "ename": "FileNotFoundError",
     "evalue": "ignored",
     "output_type": "error",
     "traceback": [
      "\u001b[0;31m---------------------------------------------------------------------------\u001b[0m",
      "\u001b[0;31mFileNotFoundError\u001b[0m                         Traceback (most recent call last)",
      "\u001b[0;32m<ipython-input-45-4e349ca92873>\u001b[0m in \u001b[0;36m<module>\u001b[0;34m()\u001b[0m\n\u001b[0;32m----> 1\u001b[0;31m \u001b[0mos\u001b[0m\u001b[0;34m.\u001b[0m\u001b[0mmkdir\u001b[0m\u001b[0;34m(\u001b[0m\u001b[0;34m'datasets/train/'\u001b[0m\u001b[0;34m)\u001b[0m\u001b[0;34m\u001b[0m\u001b[0m\n\u001b[0m",
      "\u001b[0;31mFileNotFoundError\u001b[0m: [Errno 2] No such file or directory: 'datasets/train/'"
     ]
    }
   ],
   "source": [
    "os.mkdir('datasets/train/')"
   ]
  },
  {
   "cell_type": "code",
   "execution_count": 11,
   "metadata": {
    "colab": {
     "autoexec": {
      "startup": false,
      "wait_interval": 0
     },
     "base_uri": "https://localhost:8080/",
     "height": 51
    },
    "colab_type": "code",
    "executionInfo": {
     "elapsed": 1632,
     "status": "ok",
     "timestamp": 1530986304452,
     "user": {
      "displayName": "Edgardo Aleksey Sepulveda Duran",
      "photoUrl": "https://lh3.googleusercontent.com/a/default-user=s128",
      "userId": "107257046089642896553"
     },
     "user_tz": 300
    },
    "id": "PzJeM2EM4KBN",
    "outputId": "639bcc9f-9c6b-48ef-ac7e-1a3b7d9fe433"
   },
   "outputs": [
    {
     "name": "stdout",
     "output_type": "stream",
     "text": [
      "birds\t\t     birds_training_pairs.txt  cnn_data.zip  drive\r\n",
      "birds_f_numbers.txt  birds.zip\t\t       datalab\r\n"
     ]
    }
   ],
   "source": [
    "! ls"
   ]
  },
  {
   "cell_type": "code",
   "execution_count": 12,
   "metadata": {
    "colab": {
     "autoexec": {
      "startup": false,
      "wait_interval": 0
     },
     "base_uri": "https://localhost:8080/",
     "height": 34
    },
    "colab_type": "code",
    "executionInfo": {
     "elapsed": 1532,
     "status": "ok",
     "timestamp": 1530987172592,
     "user": {
      "displayName": "Jesus Solano",
      "photoUrl": "https://lh3.googleusercontent.com/a/default-user=s128",
      "userId": "111266076568687218605"
     },
     "user_tz": 300
    },
    "id": "lKwAXiGooygT",
    "outputId": "132c07da-5b74-4b4a-be48-2e893bb59528"
   },
   "outputs": [
    {
     "name": "stdout",
     "output_type": "stream",
     "text": [
      "mkdir: cannot create directory ‘datasets/train’: File exists\r\n"
     ]
    }
   ],
   "source": [
    "from shutil import copy\n",
    "counter = 0\n",
    "\n",
    "! mkdir datasets/train\n",
    "\n",
    "for i in formatedList[:]:\n",
    "   if counter < 50:\n",
    "      copy('birds/egret/egr'+i+'.jpg','datasets/train/egr'+i+'.jpg')\n",
    "      counter=counter+1"
   ]
  },
  {
   "cell_type": "code",
   "execution_count": 39,
   "metadata": {
    "colab": {
     "autoexec": {
      "startup": false,
      "wait_interval": 0
     },
     "base_uri": "https://localhost:8080/",
     "height": 52
    },
    "colab_type": "code",
    "executionInfo": {
     "elapsed": 1537,
     "status": "ok",
     "timestamp": 1530985760591,
     "user": {
      "displayName": "sergi castel",
      "photoUrl": "//lh5.googleusercontent.com/-t7uPTy_PD5c/AAAAAAAAAAI/AAAAAAAABjU/YrQqLvCov5A/s50-c-k-no/photo.jpg",
      "userId": "104485759475975710875"
     },
     "user_tz": 300
    },
    "id": "chxMfQ6n1yKc",
    "outputId": "9b0c70bf-86c0-42ce-ee4a-59e60ac1f5f9"
   },
   "outputs": [
    {
     "name": "stdout",
     "output_type": "stream",
     "text": [
      "birds_f_numbers.txt\t  birds.zip\tdatalab\r\n",
      "birds_training_pairs.txt  cnn_data.zip\tdrive\r\n"
     ]
    }
   ],
   "source": [
    "! ls"
   ]
  },
  {
   "cell_type": "code",
   "execution_count": 41,
   "metadata": {
    "colab": {
     "autoexec": {
      "startup": false,
      "wait_interval": 0
     },
     "base_uri": "https://localhost:8080/",
     "height": 34
    },
    "colab_type": "code",
    "executionInfo": {
     "elapsed": 1512,
     "status": "ok",
     "timestamp": 1530985804252,
     "user": {
      "displayName": "sergi castel",
      "photoUrl": "//lh5.googleusercontent.com/-t7uPTy_PD5c/AAAAAAAAAAI/AAAAAAAABjU/YrQqLvCov5A/s50-c-k-no/photo.jpg",
      "userId": "104485759475975710875"
     },
     "user_tz": 300
    },
    "id": "01k6MvFd1zJs",
    "outputId": "a67bb512-7e78-449c-c535-06fd53911c14"
   },
   "outputs": [
    {
     "name": "stdout",
     "output_type": "stream",
     "text": [
      "adc.json\r\n"
     ]
    }
   ],
   "source": [
    "! ls datalab"
   ]
  },
  {
   "cell_type": "code",
   "execution_count": 149,
   "metadata": {
    "colab": {
     "autoexec": {
      "startup": false,
      "wait_interval": 0
     },
     "base_uri": "https://localhost:8080/",
     "height": 170
    },
    "colab_type": "code",
    "executionInfo": {
     "elapsed": 1489,
     "status": "ok",
     "timestamp": 1530985716420,
     "user": {
      "displayName": "Jesus Solano",
      "photoUrl": "https://lh3.googleusercontent.com/a/default-user=s128",
      "userId": "111266076568687218605"
     },
     "user_tz": 300
    },
    "id": "2Izep6PW13Ko",
    "outputId": "c650c942-8242-4759-d52f-017a7c89922d"
   },
   "outputs": [
    {
     "name": "stdout",
     "output_type": "stream",
     "text": [
      "egr002.jpg  egr024.jpg\tegr036.jpg  egr056.jpg\tegr069.jpg  egr088.jpg\r\n",
      "egr004.jpg  egr025.jpg\tegr037.jpg  egr057.jpg\tegr074.jpg  egr091.jpg\r\n",
      "egr008.jpg  egr028.jpg\tegr039.jpg  egr058.jpg\tegr075.jpg  egr096.jpg\r\n",
      "egr012.jpg  egr029.jpg\tegr041.jpg  egr059.jpg\tegr076.jpg  egr099.jpg\r\n",
      "egr013.jpg  egr030.jpg\tegr047.jpg  egr060.jpg\tegr077.jpg  egr100.jpg\r\n",
      "egr014.jpg  egr031.jpg\tegr048.jpg  egr061.jpg\tegr079.jpg\r\n",
      "egr018.jpg  egr033.jpg\tegr050.jpg  egr063.jpg\tegr083.jpg\r\n",
      "egr019.jpg  egr034.jpg\tegr052.jpg  egr064.jpg\tegr084.jpg\r\n",
      "egr021.jpg  egr035.jpg\tegr055.jpg  egr067.jpg\tegr086.jpg\r\n"
     ]
    }
   ],
   "source": [
    "! ls datasets/train\n"
   ]
  },
  {
   "cell_type": "code",
   "execution_count": 37,
   "metadata": {
    "colab": {
     "autoexec": {
      "startup": false,
      "wait_interval": 0
     },
     "base_uri": "https://localhost:8080/",
     "height": 34
    },
    "colab_type": "code",
    "executionInfo": {
     "elapsed": 1655,
     "status": "ok",
     "timestamp": 1530985859690,
     "user": {
      "displayName": "Edgardo Aleksey Sepulveda Duran",
      "photoUrl": "https://lh3.googleusercontent.com/a/default-user=s128",
      "userId": "107257046089642896553"
     },
     "user_tz": 300
    },
    "id": "AJeoxzWg2bTb",
    "outputId": "eece1349-bf01-472f-d206-7ac1c8fa0966"
   },
   "outputs": [
    {
     "name": "stdout",
     "output_type": "stream",
     "text": [
      "adc.json  birds_f_numbers.txt\r\n"
     ]
    }
   ],
   "source": [
    "! ls datalab/"
   ]
  },
  {
   "cell_type": "code",
   "execution_count": 0,
   "metadata": {
    "colab": {
     "autoexec": {
      "startup": false,
      "wait_interval": 0
     }
    },
    "colab_type": "code",
    "id": "bSoe5hSw3iCz"
   },
   "outputs": [],
   "source": [
    "### resize images\n",
    "\n",
    "from PIL import Image\n",
    "\n",
    "basewidth = 256\n",
    "hsize = 256\n",
    "img = Image.open('Birds.jpg')\n",
    "wpercent = (basewidth/float(img.size[0]))\n",
    "img = img.resize((basewidth,hsize), Image.ANTIALIAS)\n",
    "img.save('sompic1.jpg') "
   ]
  },
  {
   "cell_type": "code",
   "execution_count": 0,
   "metadata": {
    "colab": {
     "autoexec": {
      "startup": false,
      "wait_interval": 0
     }
    },
    "colab_type": "code",
    "id": "PF1KlbnS65Tr"
   },
   "outputs": [],
   "source": [
    "https://colab.research.google.com/drive/1zB5kzpdKaESIsn66rvktauLuVBNG-J1h"
   ]
  },
  {
   "cell_type": "markdown",
   "metadata": {
    "colab_type": "text",
    "id": "94NrOFw269nF"
   },
   "source": []
  }
 ],
 "metadata": {
  "accelerator": "GPU",
  "colab": {
   "default_view": {},
   "name": "deepLearningProject2.ipynb",
   "provenance": [],
   "version": "0.3.2",
   "views": {}
  },
  "kernelspec": {
   "display_name": "Python 3",
   "language": "python",
   "name": "python3"
  },
  "language_info": {
   "codemirror_mode": {
    "name": "ipython",
    "version": 3
   },
   "file_extension": ".py",
   "mimetype": "text/x-python",
   "name": "python",
   "nbconvert_exporter": "python",
   "pygments_lexer": "ipython3",
   "version": "3.5.2"
  }
 },
 "nbformat": 4,
 "nbformat_minor": 1
}
