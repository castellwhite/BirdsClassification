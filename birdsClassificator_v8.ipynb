{
  "nbformat": 4,
  "nbformat_minor": 0,
  "metadata": {
    "colab": {
      "name": "birdsClassificator_v8.ipynb",
      "version": "0.3.2",
      "views": {},
      "default_view": {},
      "provenance": [
        {
          "file_id": "https://github.com/jesugome/birdsClassification/blob/master/birdsClassificator_v4.ipynb",
          "timestamp": 1531517292920
        }
      ],
      "collapsed_sections": []
    },
    "kernelspec": {
      "display_name": "Python 3",
      "language": "python",
      "name": "python3"
    },
    "accelerator": "GPU"
  },
  "cells": [
    {
      "metadata": {
        "id": "D-IYY_18jIRx",
        "colab_type": "text"
      },
      "cell_type": "markdown",
      "source": [
        "\n",
        "![Image of Yaktocat](https://github.com/jesugome/InfluencersInSocialNetworks/raw/master/logoAnalytics.png)"
      ]
    },
    {
      "metadata": {
        "id": "MI2dRJ_0iyqC",
        "colab_type": "text"
      },
      "cell_type": "markdown",
      "source": [
        "\n",
        "# Birds\n",
        "\n",
        "![Image of Yaktocat](http://tremendouswallpapers.com/wp-content/uploads/2014/12/Venette-Waste_Trend-F-W-14-15_Neat-Graphics_mandarin-duck.jpg)\n",
        "    \n",
        " ## Machine Learning Project\n",
        "\n",
        "Developed by [Jesus Solano](http://www.jesussolano.com/) -- [Sergio Castelblanco](http://www.jesussolano.com/) -- [Jose Sandoval](http://www.jesussolano.com/) -- [Aleksey Sepulveda](http://www.jesussolano.com/)\n",
        "\n",
        "\n",
        "version 8.3, June 24 2018"
      ]
    },
    {
      "metadata": {
        "id": "jrgWljsfiyqD",
        "colab_type": "text"
      },
      "cell_type": "markdown",
      "source": [
        "## Load Datasets"
      ]
    },
    {
      "metadata": {
        "id": "tsQc5VkZ6Ku9",
        "colab_type": "code",
        "colab": {
          "autoexec": {
            "startup": false,
            "wait_interval": 0
          }
        }
      },
      "cell_type": "code",
      "source": [
        "# Download datasets.\n",
        "\n",
        "import os.path\n",
        "import numpy as np\n",
        "\n",
        "# If datasets already exist do nothing. \n",
        "\n",
        "if not os.path.exists('birds.zip'):\n",
        "  ! wget http://www-cvr.ai.uiuc.edu/ponce_grp/data/birds/birds.zip\n",
        "    \n",
        "if not os.path.exists('birds_f_numbers.txt'):\n",
        "  ! wget http://www-cvr.ai.uiuc.edu/ponce_grp/data/birds/birds_f_numbers.txt\n",
        "    \n",
        "if not os.path.exists('birds_training_pairs.txt'):\n",
        "  ! wget http://www-cvr.ai.uiuc.edu/ponce_grp/data/birds/birds_training_pairs.txt\n"
      ],
      "execution_count": 0,
      "outputs": []
    },
    {
      "metadata": {
        "id": "G4i5fcv_8UUO",
        "colab_type": "code",
        "colab": {
          "autoexec": {
            "startup": false,
            "wait_interval": 0
          }
        }
      },
      "cell_type": "code",
      "source": [
        "import os \n",
        "import zipfile\n",
        "\n",
        "# Extract images zip file\n",
        "with zipfile.ZipFile(\"birds.zip\",\"r\") as zip_ref:\n",
        "    zip_ref.extractall(os.getcwd())"
      ],
      "execution_count": 0,
      "outputs": []
    },
    {
      "metadata": {
        "id": "KwEH1Zy68ne2",
        "colab_type": "code",
        "colab": {
          "autoexec": {
            "startup": false,
            "wait_interval": 0
          },
          "base_uri": "https://localhost:8080/",
          "height": 303
        },
        "outputId": "083dfcfa-29fb-4059-941b-7cded9a946ef",
        "executionInfo": {
          "status": "ok",
          "timestamp": 1531598697774,
          "user_tz": 300,
          "elapsed": 2078,
          "user": {
            "displayName": "Bruce Wane",
            "photoUrl": "//lh4.googleusercontent.com/-AdKkpsFC3bQ/AAAAAAAAAAI/AAAAAAAAAro/7TxXNYP8EQs/s50-c-k-no/photo.jpg",
            "userId": "104609829858705124259"
          }
        }
      },
      "cell_type": "code",
      "source": [
        "# Shows an image example of training set.\n",
        "%matplotlib inline\n",
        "\n",
        "import matplotlib.pyplot as plt\n",
        "from keras.preprocessing.image import ImageDataGenerator, array_to_img, img_to_array, load_img\n",
        "\n",
        "img = load_img('birds/egret/egr013.jpg',grayscale=False,target_size=(256,256),interpolation='nearest') \n",
        "x= img_to_array(img)\n",
        "plt.imshow(x/255)\n"
      ],
      "execution_count": 3,
      "outputs": [
        {
          "output_type": "stream",
          "text": [
            "Using TensorFlow backend.\n"
          ],
          "name": "stderr"
        },
        {
          "output_type": "execute_result",
          "data": {
            "text/plain": [
              "<matplotlib.image.AxesImage at 0x7f4abcbee940>"
            ]
          },
          "metadata": {
            "tags": []
          },
          "execution_count": 3
        },
        {
          "output_type": "display_data",
          "data": {
            "image/png": "[encoded data removed]",
            "text/plain": [
              "<matplotlib.figure.Figure at 0x7f4b029e4d30>"
            ]
          },
          "metadata": {
            "tags": []
          }
        }
      ]
    },
    {
      "metadata": {
        "id": "P-Q1tp48-bk9",
        "colab_type": "code",
        "colab": {
          "autoexec": {
            "startup": false,
            "wait_interval": 0
          }
        }
      },
      "cell_type": "code",
      "source": [
        "# Create a random sorted list to split set of images in train and test.\n",
        "import random\n",
        "\n",
        "randomList= random.sample(range(1,101),100)\n",
        "\n",
        "formating = \"{:03d}\".format\n",
        "\n",
        "formatedList = [formating(item) for item in randomList]"
      ],
      "execution_count": 0,
      "outputs": []
    },
    {
      "metadata": {
        "id": "2UWh-SYzBSEQ",
        "colab_type": "code",
        "colab": {
          "autoexec": {
            "startup": false,
            "wait_interval": 0
          }
        }
      },
      "cell_type": "code",
      "source": [
        "from PIL import Image\n",
        "\n",
        "# The target size is set due to Xception neural networks requisities. \n",
        "\n",
        "xsize = 299\n",
        "ysize = 299\n",
        "\n",
        "paths=['egret','mandarin','owl','puffin','toucan','wood_duck']\n",
        "\n",
        "maxImage= 80\n",
        "\n",
        "pre=''\n",
        "birdKind=-1\n",
        "\n",
        "xL=[]\n",
        "yL=[]\n",
        "\n",
        "\n",
        "# For to read, resize and split data into train and test.\n",
        "for j in paths[:]:\n",
        "    if(j=='egret'):\n",
        "        pre='/egr'\n",
        "        birdKind=0\n",
        "    elif(j=='mandarin'):\n",
        "        pre='/man'\n",
        "        birdKind=1\n",
        "    elif(j=='owl'):\n",
        "        pre='/owl'\n",
        "        birdKind=2\n",
        "    elif(j=='puffin'):\n",
        "        pre='/puf'\n",
        "        birdKind=3\n",
        "    elif(j=='toucan'):\n",
        "        pre='/tou'\n",
        "        birdKind=4\n",
        "    elif(j=='wood_duck'):\n",
        "        pre='/wod'\n",
        "        birdKind=5\n",
        "\n",
        "        \n",
        "    counter=0\n",
        "    for i in formatedList[:]:\n",
        "        \n",
        "        # Resize images to 224X224\n",
        "        \n",
        "        img = Image.open('birds/'+j+pre+i+'.jpg')\n",
        "        wpercent = (xsize/float(img.size[0]))\n",
        "        img = img.resize((xsize,ysize), Image.ANTIALIAS)\n",
        "        img.save('birds/'+j+pre+i+'.jpg')\n",
        "        \n",
        "        # Load resized image to save into train or test array.\n",
        "        img = load_img('birds/'+j+pre+i+'.jpg',grayscale=False,target_size=(xsize,ysize),interpolation='nearest') \n",
        "        x= img_to_array(img)\n",
        "        \n",
        "        xL.append(x)\n",
        "        yL.append(birdKind)\n",
        "          \n",
        "        counter=counter+1\n",
        "        "
      ],
      "execution_count": 0,
      "outputs": []
    },
    {
      "metadata": {
        "id": "xdBcg35RiyqU",
        "colab_type": "code",
        "colab": {
          "autoexec": {
            "startup": false,
            "wait_interval": 0
          }
        }
      },
      "cell_type": "code",
      "source": [
        "# Convert lists to arrays.\n",
        "from sklearn.model_selection import train_test_split\n",
        "\n",
        "xList=np.asarray(xL)\n",
        "yList=np.asarray(yL)\n",
        "\n",
        "from sklearn.preprocessing import LabelEncoder\n",
        "from keras.utils import np_utils\n",
        "\n",
        "# Encode class values as integers.\n",
        "encoder = LabelEncoder()\n",
        "encoder.fit(yList)\n",
        "encoded_Y = encoder.transform(yList)\n",
        "# Convert integers to dummy variables (i.e. one hot encoded)\n",
        "y = np_utils.to_categorical(encoded_Y)\n",
        "\n",
        "xTrain,xTest,yTrain,yTest = train_test_split(xList, y, test_size=0.3, random_state=22)"
      ],
      "execution_count": 0,
      "outputs": []
    },
    {
      "metadata": {
        "id": "R6JSxbSjBW6J",
        "colab_type": "code",
        "colab": {
          "autoexec": {
            "startup": false,
            "wait_interval": 0
          },
          "base_uri": "https://localhost:8080/",
          "height": 136
        },
        "outputId": "39c6aaf5-d6e4-4764-d72b-8184672d4b32",
        "executionInfo": {
          "status": "ok",
          "timestamp": 1531598722842,
          "user_tz": 300,
          "elapsed": 1432,
          "user": {
            "displayName": "Bruce Wane",
            "photoUrl": "//lh4.googleusercontent.com/-AdKkpsFC3bQ/AAAAAAAAAAI/AAAAAAAAAro/7TxXNYP8EQs/s50-c-k-no/photo.jpg",
            "userId": "104609829858705124259"
          }
        }
      },
      "cell_type": "code",
      "source": [
        "# Delete pre existing files.\n",
        "! rm -r datasets/\n",
        "yTrain"
      ],
      "execution_count": 7,
      "outputs": [
        {
          "output_type": "execute_result",
          "data": {
            "text/plain": [
              "array([[0., 0., 1., 0., 0., 0.],\n",
              "       [0., 0., 0., 1., 0., 0.],\n",
              "       [0., 0., 0., 1., 0., 0.],\n",
              "       ...,\n",
              "       [0., 0., 0., 1., 0., 0.],\n",
              "       [0., 0., 0., 1., 0., 0.],\n",
              "       [0., 1., 0., 0., 0., 0.]], dtype=float32)"
            ]
          },
          "metadata": {
            "tags": []
          },
          "execution_count": 7
        }
      ]
    },
    {
      "metadata": {
        "id": "oScjBoKVBduP",
        "colab_type": "code",
        "colab": {
          "autoexec": {
            "startup": false,
            "wait_interval": 0
          }
        },
        "cellView": "both"
      },
      "cell_type": "code",
      "source": [
        "# Copy the images to folder(Not need but useful if we change the train generator)\n",
        "from shutil import copy\n",
        "counter = 0\n",
        "\n",
        "if not os.path.exists('datasets/train/'):\n",
        "  os.makedirs('datasets/train/egr')\n",
        "  os.makedirs('datasets/train/man')\n",
        "  os.makedirs('datasets/train/tou')\n",
        "  os.makedirs('datasets/train/owl')\n",
        "  os.makedirs('datasets/train/puf')\n",
        "  os.makedirs('datasets/train/wod')\n",
        "  \n",
        "if not os.path.exists('datasets/test/'):\n",
        "  os.makedirs('datasets/test/egr')\n",
        "  os.makedirs('datasets/test/man')\n",
        "  os.makedirs('datasets/test/tou')\n",
        "  os.makedirs('datasets/test/owl')\n",
        "  os.makedirs('datasets/test/puf')\n",
        "  os.makedirs('datasets/test/wod')\n",
        "    \n",
        "for i in formatedList[:]:\n",
        "  if counter < maxImage:\n",
        "    copy('birds/egret/egr'+i+'.jpg','datasets/train/egr/egr'+i+'.jpg')\n",
        "    copy('birds/mandarin/man'+i+'.jpg','datasets/train/man/man'+i+'.jpg')\n",
        "    copy('birds/toucan/tou'+i+'.jpg','datasets/train/tou/tou'+i+'.jpg')\n",
        "    copy('birds/owl/owl'+i+'.jpg','datasets/train/owl/owl'+i+'.jpg')\n",
        "    copy('birds/puffin/puf'+i+'.jpg','datasets/train/puf/puf'+i+'.jpg')\n",
        "    copy('birds/wood_duck/wod'+i+'.jpg','datasets/train/wod/wod'+i+'.jpg')\n",
        "  else: \n",
        "      copy('birds/egret/egr'+i+'.jpg','datasets/test/egr/egr'+i+'.jpg')\n",
        "      copy('birds/mandarin/man'+i+'.jpg','datasets/test/man/man'+i+'.jpg')\n",
        "      copy('birds/toucan/tou'+i+'.jpg','datasets/test/tou/tou'+i+'.jpg')\n",
        "      copy('birds/owl/owl'+i+'.jpg','datasets/test/owl/owl'+i+'.jpg')\n",
        "      copy('birds/puffin/puf'+i+'.jpg','datasets/test/puf/puf'+i+'.jpg')\n",
        "      copy('birds/wood_duck/wod'+i+'.jpg','datasets/test/wod/wod'+i+'.jpg')\n",
        "      \n",
        "  counter=counter+1"
      ],
      "execution_count": 0,
      "outputs": []
    },
    {
      "metadata": {
        "id": "aIy9QA4WBilr",
        "colab_type": "code",
        "colab": {
          "autoexec": {
            "startup": false,
            "wait_interval": 0
          }
        }
      },
      "cell_type": "code",
      "source": [
        "# Images general information.\n",
        "\n",
        "# Data path information.\n",
        "trainDataPath= 'datasets/train'\n",
        "testDataPath= 'datasets/test'\n",
        "\n",
        "# Images dimensions.\n",
        "widthSize =  299\n",
        "heightSize = 299\n",
        "\n",
        "# Batch Size.\n",
        "\n",
        "batchSize = 32"
      ],
      "execution_count": 0,
      "outputs": []
    },
    {
      "metadata": {
        "id": "FyE2s6Kuiyqg",
        "colab_type": "text"
      },
      "cell_type": "markdown",
      "source": [
        "# Direct Prediction\n",
        "\n"
      ]
    },
    {
      "metadata": {
        "id": "RJCCoS6Diyqg",
        "colab_type": "text"
      },
      "cell_type": "markdown",
      "source": [
        "### Build CNN \n",
        "We build and train a Convolutional neural network (CNN) to classify the birds' images in six different classes.  "
      ]
    },
    {
      "metadata": {
        "id": "97mw6ND8DcLM",
        "colab_type": "code",
        "colab": {
          "autoexec": {
            "startup": false,
            "wait_interval": 0
          },
          "base_uri": "https://localhost:8080/",
          "height": 748
        },
        "outputId": "cb43328f-0b69-4fac-c86e-4eba7cc13f9a",
        "executionInfo": {
          "status": "ok",
          "timestamp": 1531598737817,
          "user_tz": 300,
          "elapsed": 661,
          "user": {
            "displayName": "Bruce Wane",
            "photoUrl": "//lh4.googleusercontent.com/-AdKkpsFC3bQ/AAAAAAAAAAI/AAAAAAAAAro/7TxXNYP8EQs/s50-c-k-no/photo.jpg",
            "userId": "104609829858705124259"
          }
        }
      },
      "cell_type": "code",
      "source": [
        "from keras.models import Sequential\n",
        "from keras.layers import Conv2D, MaxPooling2D\n",
        "from keras.layers import Activation, Dropout, Flatten, Dense\n",
        "from keras import backend as K\n",
        "\n",
        "outputClasses = 6\n",
        "\n",
        "# Define if images have color channels firts in the array.\n",
        "if K.image_data_format() == 'channels_first':\n",
        "    input_shape = (3, widthSize, heightSize)\n",
        "else:\n",
        "    input_shape = (widthSize, heightSize, 3)\n",
        "\n",
        "# Creates a CNN model using keras.\n",
        "\n",
        "model = Sequential()\n",
        "NumN=32\n",
        "NumN2=64\n",
        "\n",
        "model.add(Conv2D(NumN, (3, 3), input_shape=input_shape))\n",
        "model.add(Activation('tanh'))\n",
        "model.add(MaxPooling2D(pool_size=(2, 2)))\n",
        "model.add(Dropout(0.5))\n",
        "\n",
        "model.add(Conv2D(NumN, (3, 3)))\n",
        "model.add(Activation('tanh'))\n",
        "model.add(MaxPooling2D(pool_size=(2, 2)))\n",
        "model.add(Dropout(0.5))\n",
        "\n",
        "model.add(Conv2D(NumN2, (3, 3)))\n",
        "model.add(Activation('tanh'))\n",
        "model.add(MaxPooling2D(pool_size=(2, 2)))\n",
        "model.add(Dropout(0.5))\n",
        "\n",
        "model.add(Flatten())\n",
        "model.add(Dense(NumN2))\n",
        "model.add(Activation('tanh'))\n",
        "model.add(Dropout(0.5))\n",
        "model.add(Dense(outputClasses))\n",
        "model.add(Activation('softmax'))\n",
        "\n",
        "model.summary()"
      ],
      "execution_count": 10,
      "outputs": [
        {
          "output_type": "stream",
          "text": [
            "_________________________________________________________________\n",
            "Layer (type)                 Output Shape              Param #   \n",
            "=================================================================\n",
            "conv2d_1 (Conv2D)            (None, 297, 297, 32)      896       \n",
            "_________________________________________________________________\n",
            "activation_1 (Activation)    (None, 297, 297, 32)      0         \n",
            "_________________________________________________________________\n",
            "max_pooling2d_1 (MaxPooling2 (None, 148, 148, 32)      0         \n",
            "_________________________________________________________________\n",
            "dropout_1 (Dropout)          (None, 148, 148, 32)      0         \n",
            "_________________________________________________________________\n",
            "conv2d_2 (Conv2D)            (None, 146, 146, 32)      9248      \n",
            "_________________________________________________________________\n",
            "activation_2 (Activation)    (None, 146, 146, 32)      0         \n",
            "_________________________________________________________________\n",
            "max_pooling2d_2 (MaxPooling2 (None, 73, 73, 32)        0         \n",
            "_________________________________________________________________\n",
            "dropout_2 (Dropout)          (None, 73, 73, 32)        0         \n",
            "_________________________________________________________________\n",
            "conv2d_3 (Conv2D)            (None, 71, 71, 64)        18496     \n",
            "_________________________________________________________________\n",
            "activation_3 (Activation)    (None, 71, 71, 64)        0         \n",
            "_________________________________________________________________\n",
            "max_pooling2d_3 (MaxPooling2 (None, 35, 35, 64)        0         \n",
            "_________________________________________________________________\n",
            "dropout_3 (Dropout)          (None, 35, 35, 64)        0         \n",
            "_________________________________________________________________\n",
            "flatten_1 (Flatten)          (None, 78400)             0         \n",
            "_________________________________________________________________\n",
            "dense_1 (Dense)              (None, 64)                5017664   \n",
            "_________________________________________________________________\n",
            "activation_4 (Activation)    (None, 64)                0         \n",
            "_________________________________________________________________\n",
            "dropout_4 (Dropout)          (None, 64)                0         \n",
            "_________________________________________________________________\n",
            "dense_2 (Dense)              (None, 6)                 390       \n",
            "_________________________________________________________________\n",
            "activation_5 (Activation)    (None, 6)                 0         \n",
            "=================================================================\n",
            "Total params: 5,046,694\n",
            "Trainable params: 5,046,694\n",
            "Non-trainable params: 0\n",
            "_________________________________________________________________\n"
          ],
          "name": "stdout"
        }
      ]
    },
    {
      "metadata": {
        "id": "efwxFgESdjAI",
        "colab_type": "code",
        "colab": {
          "autoexec": {
            "startup": false,
            "wait_interval": 0
          }
        }
      },
      "cell_type": "code",
      "source": [
        "#!pip3 install livelossplot"
      ],
      "execution_count": 0,
      "outputs": []
    },
    {
      "metadata": {
        "id": "h4-w8jvWDfwo",
        "colab_type": "code",
        "colab": {
          "autoexec": {
            "startup": false,
            "wait_interval": 0
          }
        }
      },
      "cell_type": "code",
      "source": [
        "\n",
        "# Compile the convolutional neural network\n",
        "from keras.optimizers import adam\n",
        "from keras.optimizers import SGD\n",
        "from keras.optimizers import adamax\n",
        "from keras.optimizers import RMSprop\n",
        "from livelossplot import PlotLossesKeras\n",
        "\n",
        "#Defines optimizer.\n",
        "op = adam(lr=0.001)\n",
        "\n",
        "# Compile the neural network.\n",
        "model.compile(loss='categorical_crossentropy',\n",
        "             optimizer=op,\n",
        "              metrics=['accuracy'])"
      ],
      "execution_count": 0,
      "outputs": []
    },
    {
      "metadata": {
        "id": "V9FS81paiyqr",
        "colab_type": "code",
        "colab": {
          "autoexec": {
            "startup": false,
            "wait_interval": 0
          },
          "base_uri": "https://localhost:8080/",
          "height": 2886
        },
        "outputId": "55ac7051-630b-4f7f-ab8f-01a8afc4fcc7",
        "executionInfo": {
          "status": "error",
          "timestamp": 1531599153077,
          "user_tz": 300,
          "elapsed": 10510,
          "user": {
            "displayName": "Bruce Wane",
            "photoUrl": "//lh4.googleusercontent.com/-AdKkpsFC3bQ/AAAAAAAAAAI/AAAAAAAAAro/7TxXNYP8EQs/s50-c-k-no/photo.jpg",
            "userId": "104609829858705124259"
          }
        }
      },
      "cell_type": "code",
      "source": [
        "batch_size = 16\n",
        "epochs = 5\n",
        "\n",
        "trainingCNN = model.fit(xTrain, yTrain,\n",
        "                    batch_size=batch_size,\n",
        "                    epochs=epochs,\n",
        "                    verbose=1,\n",
        "                    shuffle = False, \n",
        "                    validation_data = [xTest,yTest],callbacks=[PlotLossesKeras()])"
      ],
      "execution_count": 15,
      "outputs": [
        {
          "output_type": "stream",
          "text": [
            "Train on 420 samples, validate on 180 samples\n",
            "Epoch 1/5\n"
          ],
          "name": "stdout"
        },
        {
          "output_type": "error",
          "ename": "ResourceExhaustedError",
          "evalue": "ignored",
          "traceback": [
            "\u001b[0;31m---------------------------------------------------------------------------\u001b[0m",
            "\u001b[0;31mResourceExhaustedError\u001b[0m                    Traceback (most recent call last)",
            "\u001b[0;32m/usr/local/lib/python3.6/dist-packages/tensorflow/python/client/session.py\u001b[0m in \u001b[0;36m_do_call\u001b[0;34m(self, fn, *args)\u001b[0m\n\u001b[1;32m   1321\u001b[0m     \u001b[0;32mtry\u001b[0m\u001b[0;34m:\u001b[0m\u001b[0;34m\u001b[0m\u001b[0m\n\u001b[0;32m-> 1322\u001b[0;31m       \u001b[0;32mreturn\u001b[0m \u001b[0mfn\u001b[0m\u001b[0;34m(\u001b[0m\u001b[0;34m*\u001b[0m\u001b[0margs\u001b[0m\u001b[0;34m)\u001b[0m\u001b[0;34m\u001b[0m\u001b[0m\n\u001b[0m\u001b[1;32m   1323\u001b[0m     \u001b[0;32mexcept\u001b[0m \u001b[0merrors\u001b[0m\u001b[0;34m.\u001b[0m\u001b[0mOpError\u001b[0m \u001b[0;32mas\u001b[0m \u001b[0me\u001b[0m\u001b[0;34m:\u001b[0m\u001b[0;34m\u001b[0m\u001b[0m\n",
            "\u001b[0;32m/usr/local/lib/python3.6/dist-packages/tensorflow/python/client/session.py\u001b[0m in \u001b[0;36m_run_fn\u001b[0;34m(feed_dict, fetch_list, target_list, options, run_metadata)\u001b[0m\n\u001b[1;32m   1306\u001b[0m       return self._call_tf_sessionrun(\n\u001b[0;32m-> 1307\u001b[0;31m           options, feed_dict, fetch_list, target_list, run_metadata)\n\u001b[0m\u001b[1;32m   1308\u001b[0m \u001b[0;34m\u001b[0m\u001b[0m\n",
            "\u001b[0;32m/usr/local/lib/python3.6/dist-packages/tensorflow/python/client/session.py\u001b[0m in \u001b[0;36m_call_tf_sessionrun\u001b[0;34m(self, options, feed_dict, fetch_list, target_list, run_metadata)\u001b[0m\n\u001b[1;32m   1408\u001b[0m           \u001b[0mself\u001b[0m\u001b[0;34m.\u001b[0m\u001b[0m_session\u001b[0m\u001b[0;34m,\u001b[0m \u001b[0moptions\u001b[0m\u001b[0;34m,\u001b[0m \u001b[0mfeed_dict\u001b[0m\u001b[0;34m,\u001b[0m \u001b[0mfetch_list\u001b[0m\u001b[0;34m,\u001b[0m \u001b[0mtarget_list\u001b[0m\u001b[0;34m,\u001b[0m\u001b[0;34m\u001b[0m\u001b[0m\n\u001b[0;32m-> 1409\u001b[0;31m           run_metadata)\n\u001b[0m\u001b[1;32m   1410\u001b[0m     \u001b[0;32melse\u001b[0m\u001b[0;34m:\u001b[0m\u001b[0;34m\u001b[0m\u001b[0m\n",
            "\u001b[0;31mResourceExhaustedError\u001b[0m: OOM when allocating tensor with shape[16,32,297,297] and type float on /job:localhost/replica:0/task:0/device:GPU:0 by allocator GPU_0_bfc\n\t [[Node: conv2d_1/convolution = Conv2D[T=DT_FLOAT, _class=[\"loc:@training/Adam/gradients/conv2d_1/convolution_grad/Conv2DBackpropFilter\"], data_format=\"NCHW\", dilations=[1, 1, 1, 1], padding=\"VALID\", strides=[1, 1, 1, 1], use_cudnn_on_gpu=true, _device=\"/job:localhost/replica:0/task:0/device:GPU:0\"](training/Adam/gradients/conv2d_1/convolution_grad/Conv2DBackpropFilter-0-TransposeNHWCToNCHW-LayoutOptimizer, conv2d_1/kernel/read)]]\nHint: If you want to see a list of allocated tensors when OOM happens, add report_tensor_allocations_upon_oom to RunOptions for current allocation info.\n",
            "\nDuring handling of the above exception, another exception occurred:\n",
            "\u001b[0;31mResourceExhaustedError\u001b[0m                    Traceback (most recent call last)",
            "\u001b[0;32m<ipython-input-15-7441585a11b0>\u001b[0m in \u001b[0;36m<module>\u001b[0;34m()\u001b[0m\n\u001b[1;32m      7\u001b[0m                     \u001b[0mverbose\u001b[0m\u001b[0;34m=\u001b[0m\u001b[0;36m1\u001b[0m\u001b[0;34m,\u001b[0m\u001b[0;34m\u001b[0m\u001b[0m\n\u001b[1;32m      8\u001b[0m                     \u001b[0mshuffle\u001b[0m \u001b[0;34m=\u001b[0m \u001b[0;32mFalse\u001b[0m\u001b[0;34m,\u001b[0m\u001b[0;34m\u001b[0m\u001b[0m\n\u001b[0;32m----> 9\u001b[0;31m                     validation_data = [xTest,yTest],callbacks=[PlotLossesKeras()])\n\u001b[0m",
            "\u001b[0;32m/usr/local/lib/python3.6/dist-packages/keras/models.py\u001b[0m in \u001b[0;36mfit\u001b[0;34m(self, x, y, batch_size, epochs, verbose, callbacks, validation_split, validation_data, shuffle, class_weight, sample_weight, initial_epoch, steps_per_epoch, validation_steps, **kwargs)\u001b[0m\n\u001b[1;32m   1000\u001b[0m                               \u001b[0minitial_epoch\u001b[0m\u001b[0;34m=\u001b[0m\u001b[0minitial_epoch\u001b[0m\u001b[0;34m,\u001b[0m\u001b[0;34m\u001b[0m\u001b[0m\n\u001b[1;32m   1001\u001b[0m                               \u001b[0msteps_per_epoch\u001b[0m\u001b[0;34m=\u001b[0m\u001b[0msteps_per_epoch\u001b[0m\u001b[0;34m,\u001b[0m\u001b[0;34m\u001b[0m\u001b[0m\n\u001b[0;32m-> 1002\u001b[0;31m                               validation_steps=validation_steps)\n\u001b[0m\u001b[1;32m   1003\u001b[0m \u001b[0;34m\u001b[0m\u001b[0m\n\u001b[1;32m   1004\u001b[0m     def evaluate(self, x=None, y=None,\n",
            "\u001b[0;32m/usr/local/lib/python3.6/dist-packages/keras/engine/training.py\u001b[0m in \u001b[0;36mfit\u001b[0;34m(self, x, y, batch_size, epochs, verbose, callbacks, validation_split, validation_data, shuffle, class_weight, sample_weight, initial_epoch, steps_per_epoch, validation_steps, **kwargs)\u001b[0m\n\u001b[1;32m   1703\u001b[0m                               \u001b[0minitial_epoch\u001b[0m\u001b[0;34m=\u001b[0m\u001b[0minitial_epoch\u001b[0m\u001b[0;34m,\u001b[0m\u001b[0;34m\u001b[0m\u001b[0m\n\u001b[1;32m   1704\u001b[0m                               \u001b[0msteps_per_epoch\u001b[0m\u001b[0;34m=\u001b[0m\u001b[0msteps_per_epoch\u001b[0m\u001b[0;34m,\u001b[0m\u001b[0;34m\u001b[0m\u001b[0m\n\u001b[0;32m-> 1705\u001b[0;31m                               validation_steps=validation_steps)\n\u001b[0m\u001b[1;32m   1706\u001b[0m \u001b[0;34m\u001b[0m\u001b[0m\n\u001b[1;32m   1707\u001b[0m     def evaluate(self, x=None, y=None,\n",
            "\u001b[0;32m/usr/local/lib/python3.6/dist-packages/keras/engine/training.py\u001b[0m in \u001b[0;36m_fit_loop\u001b[0;34m(self, f, ins, out_labels, batch_size, epochs, verbose, callbacks, val_f, val_ins, shuffle, callback_metrics, initial_epoch, steps_per_epoch, validation_steps)\u001b[0m\n\u001b[1;32m   1234\u001b[0m                         \u001b[0mins_batch\u001b[0m\u001b[0;34m[\u001b[0m\u001b[0mi\u001b[0m\u001b[0;34m]\u001b[0m \u001b[0;34m=\u001b[0m \u001b[0mins_batch\u001b[0m\u001b[0;34m[\u001b[0m\u001b[0mi\u001b[0m\u001b[0;34m]\u001b[0m\u001b[0;34m.\u001b[0m\u001b[0mtoarray\u001b[0m\u001b[0;34m(\u001b[0m\u001b[0;34m)\u001b[0m\u001b[0;34m\u001b[0m\u001b[0m\n\u001b[1;32m   1235\u001b[0m \u001b[0;34m\u001b[0m\u001b[0m\n\u001b[0;32m-> 1236\u001b[0;31m                     \u001b[0mouts\u001b[0m \u001b[0;34m=\u001b[0m \u001b[0mf\u001b[0m\u001b[0;34m(\u001b[0m\u001b[0mins_batch\u001b[0m\u001b[0;34m)\u001b[0m\u001b[0;34m\u001b[0m\u001b[0m\n\u001b[0m\u001b[1;32m   1237\u001b[0m                     \u001b[0;32mif\u001b[0m \u001b[0;32mnot\u001b[0m \u001b[0misinstance\u001b[0m\u001b[0;34m(\u001b[0m\u001b[0mouts\u001b[0m\u001b[0;34m,\u001b[0m \u001b[0mlist\u001b[0m\u001b[0;34m)\u001b[0m\u001b[0;34m:\u001b[0m\u001b[0;34m\u001b[0m\u001b[0m\n\u001b[1;32m   1238\u001b[0m                         \u001b[0mouts\u001b[0m \u001b[0;34m=\u001b[0m \u001b[0;34m[\u001b[0m\u001b[0mouts\u001b[0m\u001b[0;34m]\u001b[0m\u001b[0;34m\u001b[0m\u001b[0m\n",
            "\u001b[0;32m/usr/local/lib/python3.6/dist-packages/keras/backend/tensorflow_backend.py\u001b[0m in \u001b[0;36m__call__\u001b[0;34m(self, inputs)\u001b[0m\n\u001b[1;32m   2480\u001b[0m         \u001b[0msession\u001b[0m \u001b[0;34m=\u001b[0m \u001b[0mget_session\u001b[0m\u001b[0;34m(\u001b[0m\u001b[0;34m)\u001b[0m\u001b[0;34m\u001b[0m\u001b[0m\n\u001b[1;32m   2481\u001b[0m         updated = session.run(fetches=fetches, feed_dict=feed_dict,\n\u001b[0;32m-> 2482\u001b[0;31m                               **self.session_kwargs)\n\u001b[0m\u001b[1;32m   2483\u001b[0m         \u001b[0;32mreturn\u001b[0m \u001b[0mupdated\u001b[0m\u001b[0;34m[\u001b[0m\u001b[0;34m:\u001b[0m\u001b[0mlen\u001b[0m\u001b[0;34m(\u001b[0m\u001b[0mself\u001b[0m\u001b[0;34m.\u001b[0m\u001b[0moutputs\u001b[0m\u001b[0;34m)\u001b[0m\u001b[0;34m]\u001b[0m\u001b[0;34m\u001b[0m\u001b[0m\n\u001b[1;32m   2484\u001b[0m \u001b[0;34m\u001b[0m\u001b[0m\n",
            "\u001b[0;32m/usr/local/lib/python3.6/dist-packages/tensorflow/python/client/session.py\u001b[0m in \u001b[0;36mrun\u001b[0;34m(self, fetches, feed_dict, options, run_metadata)\u001b[0m\n\u001b[1;32m    898\u001b[0m     \u001b[0;32mtry\u001b[0m\u001b[0;34m:\u001b[0m\u001b[0;34m\u001b[0m\u001b[0m\n\u001b[1;32m    899\u001b[0m       result = self._run(None, fetches, feed_dict, options_ptr,\n\u001b[0;32m--> 900\u001b[0;31m                          run_metadata_ptr)\n\u001b[0m\u001b[1;32m    901\u001b[0m       \u001b[0;32mif\u001b[0m \u001b[0mrun_metadata\u001b[0m\u001b[0;34m:\u001b[0m\u001b[0;34m\u001b[0m\u001b[0m\n\u001b[1;32m    902\u001b[0m         \u001b[0mproto_data\u001b[0m \u001b[0;34m=\u001b[0m \u001b[0mtf_session\u001b[0m\u001b[0;34m.\u001b[0m\u001b[0mTF_GetBuffer\u001b[0m\u001b[0;34m(\u001b[0m\u001b[0mrun_metadata_ptr\u001b[0m\u001b[0;34m)\u001b[0m\u001b[0;34m\u001b[0m\u001b[0m\n",
            "\u001b[0;32m/usr/local/lib/python3.6/dist-packages/tensorflow/python/client/session.py\u001b[0m in \u001b[0;36m_run\u001b[0;34m(self, handle, fetches, feed_dict, options, run_metadata)\u001b[0m\n\u001b[1;32m   1133\u001b[0m     \u001b[0;32mif\u001b[0m \u001b[0mfinal_fetches\u001b[0m \u001b[0;32mor\u001b[0m \u001b[0mfinal_targets\u001b[0m \u001b[0;32mor\u001b[0m \u001b[0;34m(\u001b[0m\u001b[0mhandle\u001b[0m \u001b[0;32mand\u001b[0m \u001b[0mfeed_dict_tensor\u001b[0m\u001b[0;34m)\u001b[0m\u001b[0;34m:\u001b[0m\u001b[0;34m\u001b[0m\u001b[0m\n\u001b[1;32m   1134\u001b[0m       results = self._do_run(handle, final_targets, final_fetches,\n\u001b[0;32m-> 1135\u001b[0;31m                              feed_dict_tensor, options, run_metadata)\n\u001b[0m\u001b[1;32m   1136\u001b[0m     \u001b[0;32melse\u001b[0m\u001b[0;34m:\u001b[0m\u001b[0;34m\u001b[0m\u001b[0m\n\u001b[1;32m   1137\u001b[0m       \u001b[0mresults\u001b[0m \u001b[0;34m=\u001b[0m \u001b[0;34m[\u001b[0m\u001b[0;34m]\u001b[0m\u001b[0;34m\u001b[0m\u001b[0m\n",
            "\u001b[0;32m/usr/local/lib/python3.6/dist-packages/tensorflow/python/client/session.py\u001b[0m in \u001b[0;36m_do_run\u001b[0;34m(self, handle, target_list, fetch_list, feed_dict, options, run_metadata)\u001b[0m\n\u001b[1;32m   1314\u001b[0m     \u001b[0;32mif\u001b[0m \u001b[0mhandle\u001b[0m \u001b[0;32mis\u001b[0m \u001b[0;32mNone\u001b[0m\u001b[0;34m:\u001b[0m\u001b[0;34m\u001b[0m\u001b[0m\n\u001b[1;32m   1315\u001b[0m       return self._do_call(_run_fn, feeds, fetches, targets, options,\n\u001b[0;32m-> 1316\u001b[0;31m                            run_metadata)\n\u001b[0m\u001b[1;32m   1317\u001b[0m     \u001b[0;32melse\u001b[0m\u001b[0;34m:\u001b[0m\u001b[0;34m\u001b[0m\u001b[0m\n\u001b[1;32m   1318\u001b[0m       \u001b[0;32mreturn\u001b[0m \u001b[0mself\u001b[0m\u001b[0;34m.\u001b[0m\u001b[0m_do_call\u001b[0m\u001b[0;34m(\u001b[0m\u001b[0m_prun_fn\u001b[0m\u001b[0;34m,\u001b[0m \u001b[0mhandle\u001b[0m\u001b[0;34m,\u001b[0m \u001b[0mfeeds\u001b[0m\u001b[0;34m,\u001b[0m \u001b[0mfetches\u001b[0m\u001b[0;34m)\u001b[0m\u001b[0;34m\u001b[0m\u001b[0m\n",
            "\u001b[0;32m/usr/local/lib/python3.6/dist-packages/tensorflow/python/client/session.py\u001b[0m in \u001b[0;36m_do_call\u001b[0;34m(self, fn, *args)\u001b[0m\n\u001b[1;32m   1333\u001b[0m         \u001b[0;32mexcept\u001b[0m \u001b[0mKeyError\u001b[0m\u001b[0;34m:\u001b[0m\u001b[0;34m\u001b[0m\u001b[0m\n\u001b[1;32m   1334\u001b[0m           \u001b[0;32mpass\u001b[0m\u001b[0;34m\u001b[0m\u001b[0m\n\u001b[0;32m-> 1335\u001b[0;31m       \u001b[0;32mraise\u001b[0m \u001b[0mtype\u001b[0m\u001b[0;34m(\u001b[0m\u001b[0me\u001b[0m\u001b[0;34m)\u001b[0m\u001b[0;34m(\u001b[0m\u001b[0mnode_def\u001b[0m\u001b[0;34m,\u001b[0m \u001b[0mop\u001b[0m\u001b[0;34m,\u001b[0m \u001b[0mmessage\u001b[0m\u001b[0;34m)\u001b[0m\u001b[0;34m\u001b[0m\u001b[0m\n\u001b[0m\u001b[1;32m   1336\u001b[0m \u001b[0;34m\u001b[0m\u001b[0m\n\u001b[1;32m   1337\u001b[0m   \u001b[0;32mdef\u001b[0m \u001b[0m_extend_graph\u001b[0m\u001b[0;34m(\u001b[0m\u001b[0mself\u001b[0m\u001b[0;34m)\u001b[0m\u001b[0;34m:\u001b[0m\u001b[0;34m\u001b[0m\u001b[0m\n",
            "\u001b[0;31mResourceExhaustedError\u001b[0m: OOM when allocating tensor with shape[16,32,297,297] and type float on /job:localhost/replica:0/task:0/device:GPU:0 by allocator GPU_0_bfc\n\t [[Node: conv2d_1/convolution = Conv2D[T=DT_FLOAT, _class=[\"loc:@training/Adam/gradients/conv2d_1/convolution_grad/Conv2DBackpropFilter\"], data_format=\"NCHW\", dilations=[1, 1, 1, 1], padding=\"VALID\", strides=[1, 1, 1, 1], use_cudnn_on_gpu=true, _device=\"/job:localhost/replica:0/task:0/device:GPU:0\"](training/Adam/gradients/conv2d_1/convolution_grad/Conv2DBackpropFilter-0-TransposeNHWCToNCHW-LayoutOptimizer, conv2d_1/kernel/read)]]\nHint: If you want to see a list of allocated tensors when OOM happens, add report_tensor_allocations_upon_oom to RunOptions for current allocation info.\n\n\nCaused by op 'conv2d_1/convolution', defined at:\n  File \"/usr/lib/python3.6/runpy.py\", line 193, in _run_module_as_main\n    \"__main__\", mod_spec)\n  File \"/usr/lib/python3.6/runpy.py\", line 85, in _run_code\n    exec(code, run_globals)\n  File \"/usr/local/lib/python3.6/dist-packages/ipykernel_launcher.py\", line 16, in <module>\n    app.launch_new_instance()\n  File \"/usr/local/lib/python3.6/dist-packages/traitlets/config/application.py\", line 658, in launch_instance\n    app.start()\n  File \"/usr/local/lib/python3.6/dist-packages/ipykernel/kernelapp.py\", line 477, in start\n    ioloop.IOLoop.instance().start()\n  File \"/usr/local/lib/python3.6/dist-packages/zmq/eventloop/ioloop.py\", line 177, in start\n    super(ZMQIOLoop, self).start()\n  File \"/usr/local/lib/python3.6/dist-packages/tornado/ioloop.py\", line 888, in start\n    handler_func(fd_obj, events)\n  File \"/usr/local/lib/python3.6/dist-packages/tornado/stack_context.py\", line 277, in null_wrapper\n    return fn(*args, **kwargs)\n  File \"/usr/local/lib/python3.6/dist-packages/zmq/eventloop/zmqstream.py\", line 440, in _handle_events\n    self._handle_recv()\n  File \"/usr/local/lib/python3.6/dist-packages/zmq/eventloop/zmqstream.py\", line 472, in _handle_recv\n    self._run_callback(callback, msg)\n  File \"/usr/local/lib/python3.6/dist-packages/zmq/eventloop/zmqstream.py\", line 414, in _run_callback\n    callback(*args, **kwargs)\n  File \"/usr/local/lib/python3.6/dist-packages/tornado/stack_context.py\", line 277, in null_wrapper\n    return fn(*args, **kwargs)\n  File \"/usr/local/lib/python3.6/dist-packages/ipykernel/kernelbase.py\", line 283, in dispatcher\n    return self.dispatch_shell(stream, msg)\n  File \"/usr/local/lib/python3.6/dist-packages/ipykernel/kernelbase.py\", line 235, in dispatch_shell\n    handler(stream, idents, msg)\n  File \"/usr/local/lib/python3.6/dist-packages/ipykernel/kernelbase.py\", line 399, in execute_request\n    user_expressions, allow_stdin)\n  File \"/usr/local/lib/python3.6/dist-packages/ipykernel/ipkernel.py\", line 196, in do_execute\n    res = shell.run_cell(code, store_history=store_history, silent=silent)\n  File \"/usr/local/lib/python3.6/dist-packages/ipykernel/zmqshell.py\", line 533, in run_cell\n    return super(ZMQInteractiveShell, self).run_cell(*args, **kwargs)\n  File \"/usr/local/lib/python3.6/dist-packages/IPython/core/interactiveshell.py\", line 2718, in run_cell\n    interactivity=interactivity, compiler=compiler, result=result)\n  File \"/usr/local/lib/python3.6/dist-packages/IPython/core/interactiveshell.py\", line 2822, in run_ast_nodes\n    if self.run_code(code, result):\n  File \"/usr/local/lib/python3.6/dist-packages/IPython/core/interactiveshell.py\", line 2882, in run_code\n    exec(code_obj, self.user_global_ns, self.user_ns)\n  File \"<ipython-input-10-b729f4b57a48>\", line 20, in <module>\n    model.add(Conv2D(NumN, (3, 3), input_shape=input_shape))\n  File \"/usr/local/lib/python3.6/dist-packages/keras/models.py\", line 497, in add\n    layer(x)\n  File \"/usr/local/lib/python3.6/dist-packages/keras/engine/topology.py\", line 619, in __call__\n    output = self.call(inputs, **kwargs)\n  File \"/usr/local/lib/python3.6/dist-packages/keras/layers/convolutional.py\", line 168, in call\n    dilation_rate=self.dilation_rate)\n  File \"/usr/local/lib/python3.6/dist-packages/keras/backend/tensorflow_backend.py\", line 3341, in conv2d\n    data_format=tf_data_format)\n  File \"/usr/local/lib/python3.6/dist-packages/tensorflow/python/ops/nn_ops.py\", line 780, in convolution\n    return op(input, filter)\n  File \"/usr/local/lib/python3.6/dist-packages/tensorflow/python/ops/nn_ops.py\", line 868, in __call__\n    return self.conv_op(inp, filter)\n  File \"/usr/local/lib/python3.6/dist-packages/tensorflow/python/ops/nn_ops.py\", line 520, in __call__\n    return self.call(inp, filter)\n  File \"/usr/local/lib/python3.6/dist-packages/tensorflow/python/ops/nn_ops.py\", line 204, in __call__\n    name=self.name)\n  File \"/usr/local/lib/python3.6/dist-packages/tensorflow/python/ops/gen_nn_ops.py\", line 956, in conv2d\n    data_format=data_format, dilations=dilations, name=name)\n  File \"/usr/local/lib/python3.6/dist-packages/tensorflow/python/framework/op_def_library.py\", line 787, in _apply_op_helper\n    op_def=op_def)\n  File \"/usr/local/lib/python3.6/dist-packages/tensorflow/python/framework/ops.py\", line 3414, in create_op\n    op_def=op_def)\n  File \"/usr/local/lib/python3.6/dist-packages/tensorflow/python/framework/ops.py\", line 1740, in __init__\n    self._traceback = self._graph._extract_stack()  # pylint: disable=protected-access\n\nResourceExhaustedError (see above for traceback): OOM when allocating tensor with shape[16,32,297,297] and type float on /job:localhost/replica:0/task:0/device:GPU:0 by allocator GPU_0_bfc\n\t [[Node: conv2d_1/convolution = Conv2D[T=DT_FLOAT, _class=[\"loc:@training/Adam/gradients/conv2d_1/convolution_grad/Conv2DBackpropFilter\"], data_format=\"NCHW\", dilations=[1, 1, 1, 1], padding=\"VALID\", strides=[1, 1, 1, 1], use_cudnn_on_gpu=true, _device=\"/job:localhost/replica:0/task:0/device:GPU:0\"](training/Adam/gradients/conv2d_1/convolution_grad/Conv2DBackpropFilter-0-TransposeNHWCToNCHW-LayoutOptimizer, conv2d_1/kernel/read)]]\nHint: If you want to see a list of allocated tensors when OOM happens, add report_tensor_allocations_upon_oom to RunOptions for current allocation info.\n\n"
          ]
        }
      ]
    },
    {
      "metadata": {
        "id": "t593JVgTiyqu",
        "colab_type": "code",
        "colab": {
          "autoexec": {
            "startup": false,
            "wait_interval": 0
          },
          "base_uri": "https://localhost:8080/",
          "height": 102
        },
        "outputId": "9e10819c-ca3d-4fb8-a10a-0d36df36ecce",
        "executionInfo": {
          "status": "ok",
          "timestamp": 1531583088727,
          "user_tz": 300,
          "elapsed": 1005,
          "user": {
            "displayName": "Jesus Solano",
            "photoUrl": "https://lh3.googleusercontent.com/a/default-user=s128",
            "userId": "111266076568687218605"
          }
        }
      },
      "cell_type": "code",
      "source": [
        "# Perform the neural network over the test set. \n",
        "print('Evaluating the test set...')\n",
        "score = model.evaluate(xTest, yTest)\n",
        "\n",
        "print('\\nTest score:', score[0])\n",
        "print('Test accuracy:', score[1])"
      ],
      "execution_count": 0,
      "outputs": [
        {
          "output_type": "stream",
          "text": [
            "Evaluating the test set...\n",
            "180/180 [==============================] - 1s 3ms/step\n",
            "\n",
            "Test score: 1.8093303918838501\n",
            "Test accuracy: 0.13333333349890178\n"
          ],
          "name": "stdout"
        }
      ]
    },
    {
      "metadata": {
        "id": "5yzJPW-7DrHg",
        "colab_type": "code",
        "colab": {
          "autoexec": {
            "startup": false,
            "wait_interval": 0
          },
          "base_uri": "https://localhost:8080/",
          "height": 496
        },
        "outputId": "76100288-f58e-4c4b-a8c7-8c7b621f5b0e",
        "executionInfo": {
          "status": "ok",
          "timestamp": 1531583197192,
          "user_tz": 300,
          "elapsed": 826,
          "user": {
            "displayName": "Jesus Solano",
            "photoUrl": "https://lh3.googleusercontent.com/a/default-user=s128",
            "userId": "111266076568687218605"
          }
        }
      },
      "cell_type": "code",
      "source": [
        "from sklearn.metrics import confusion_matrix,classification_report\n",
        "import pandas as pd\n",
        "import numpy as np\n",
        "\n",
        "# Set the classes' names.\n",
        "target_names = ['egr','man','owl','puf','tou','wod']\n",
        "\n",
        "# Predict class in test.\n",
        "Y_pred = model.predict(xTest)\n",
        "\n",
        "# Choose the class with higher probability.\n",
        "y_pred = np.argmax(Y_pred, axis=1)\n",
        "\n",
        "print('-------------------------------------------------')\n",
        "print('-------------------------------------------------')\n",
        "print('-----------------Confusion Matrix----------------')\n",
        "print(pd.DataFrame(confusion_matrix(np.argmax(yTest,axis=1), y_pred),columns=target_names, index=target_names))\n",
        "print('-------------------------------------------------')\n",
        "print('-------------------------------------------------\\n')\n",
        "print('---------------Classification Report-------------')\n",
        "\n",
        "print(classification_report(np.argmax(yTest,axis=1), y_pred, target_names=target_names))"
      ],
      "execution_count": 0,
      "outputs": [
        {
          "output_type": "stream",
          "text": [
            "-------------------------------------------------\n",
            "-------------------------------------------------\n",
            "-----------------Confusion Matrix----------------\n",
            "     egr  man  owl  puf  tou  wod\n",
            "egr    0    0    0    0    0   29\n",
            "man    0    0    0    0    0   33\n",
            "owl    0    0    0    0    0   33\n",
            "puf    0    0    0    0    0   34\n",
            "tou    0    0    0    0    0   27\n",
            "wod    0    0    0    0    0   24\n",
            "-------------------------------------------------\n",
            "-------------------------------------------------\n",
            "\n",
            "---------------Classification Report-------------\n",
            "             precision    recall  f1-score   support\n",
            "\n",
            "        egr       0.00      0.00      0.00        29\n",
            "        man       0.00      0.00      0.00        33\n",
            "        owl       0.00      0.00      0.00        33\n",
            "        puf       0.00      0.00      0.00        34\n",
            "        tou       0.00      0.00      0.00        27\n",
            "        wod       0.13      1.00      0.24        24\n",
            "\n",
            "avg / total       0.02      0.13      0.03       180\n",
            "\n"
          ],
          "name": "stdout"
        },
        {
          "output_type": "stream",
          "text": [
            "/usr/local/lib/python3.6/dist-packages/sklearn/metrics/classification.py:1135: UndefinedMetricWarning: Precision and F-score are ill-defined and being set to 0.0 in labels with no predicted samples.\n",
            "  'precision', 'predicted', average, warn_for)\n"
          ],
          "name": "stderr"
        }
      ]
    },
    {
      "metadata": {
        "id": "Gg3UAiQKiyq2",
        "colab_type": "text"
      },
      "cell_type": "markdown",
      "source": [
        "## Pretrained CNN - Xception\n"
      ]
    },
    {
      "metadata": {
        "id": "VfZ_sSkjiyq2",
        "colab_type": "code",
        "colab": {
          "autoexec": {
            "startup": false,
            "wait_interval": 0
          }
        }
      },
      "cell_type": "code",
      "source": [
        "from keras.applications.xception import Xception\n",
        "modelXception = Xception(weights='imagenet', include_top=True)"
      ],
      "execution_count": 0,
      "outputs": []
    },
    {
      "metadata": {
        "id": "K95sclNjiyq5",
        "colab_type": "code",
        "colab": {
          "autoexec": {
            "startup": false,
            "wait_interval": 0
          },
          "base_uri": "https://localhost:8080/",
          "height": 255
        },
        "outputId": "7a5a5a79-a182-47f8-b46d-d788933ed78e",
        "executionInfo": {
          "status": "ok",
          "timestamp": 1531587243566,
          "user_tz": 300,
          "elapsed": 8107,
          "user": {
            "displayName": "Jesus Solano",
            "photoUrl": "https://lh3.googleusercontent.com/a/default-user=s128",
            "userId": "111266076568687218605"
          }
        }
      },
      "cell_type": "code",
      "source": [
        "# Predict probabilities for each sample in test.\n",
        "yPred1000P=modelXception.predict(xTest)\n",
        "\n",
        "# Predict class for each sample in test.\n",
        "yPred1000 = np.argmax(yPred1000P, axis=1)\n",
        "yPred1000"
      ],
      "execution_count": 0,
      "outputs": [
        {
          "output_type": "execute_result",
          "data": {
            "text/plain": [
              "array([772, 659, 838, 659, 398, 722, 659, 722, 722, 659, 722, 722, 722,\n",
              "       722, 680, 781, 659, 659, 398, 659, 659, 659, 609, 722, 722, 722,\n",
              "       722, 659, 722, 659, 722, 659, 659, 659, 659, 659, 659, 659, 722,\n",
              "       659, 722, 652, 722, 659, 679, 722, 659, 722, 722, 659, 722, 659,\n",
              "       679, 478, 781, 916, 722, 722, 680, 722, 418, 659, 722, 659, 659,\n",
              "       722, 659, 772, 659, 722, 722, 659, 722, 398, 659, 659, 722, 709,\n",
              "       722, 659, 781, 659, 659, 659, 659, 722, 652, 659, 659, 659, 659,\n",
              "       659, 659, 722, 767, 652, 659, 722, 520, 783, 659, 722, 659, 722,\n",
              "       722, 722, 659, 722, 659, 722, 722, 659, 659, 772, 659, 722, 772,\n",
              "       659, 328, 659, 722, 659, 659, 659, 659, 659, 652, 659, 659, 659,\n",
              "       722, 609, 722, 659, 398, 659, 478, 722, 659, 398, 659, 722, 722,\n",
              "       659, 722, 659, 772, 659, 722, 722, 722, 659, 722, 659, 659, 414,\n",
              "       659, 659, 659, 398, 722, 659, 722, 722, 722, 722, 772, 680, 659,\n",
              "       659, 679, 659, 722, 659, 328, 659, 722, 652, 722, 659])"
            ]
          },
          "metadata": {
            "tags": []
          },
          "execution_count": 12
        }
      ]
    },
    {
      "metadata": {
        "id": "heLwMVeozSiU",
        "colab_type": "code",
        "colab": {
          "autoexec": {
            "startup": false,
            "wait_interval": 0
          },
          "base_uri": "https://localhost:8080/",
          "height": 231
        },
        "outputId": "dda871d7-5bc5-4801-805e-f6a52283c2c9",
        "executionInfo": {
          "status": "error",
          "timestamp": 1531587244255,
          "user_tz": 300,
          "elapsed": 651,
          "user": {
            "displayName": "Jesus Solano",
            "photoUrl": "https://lh3.googleusercontent.com/a/default-user=s128",
            "userId": "111266076568687218605"
          }
        }
      },
      "cell_type": "code",
      "source": [
        "# Find the top 10 predicted classes in test set. \n",
        "\n",
        "unique, counts = np.unique(yPred1000, return_counts=True)\n",
        "\n",
        "predFrequencies =pd.DataFrame( np.asarray((unique, counts)).T,columns=['Class','Count'])\n",
        "\n",
        "sortDataFrame = predFrequencies.sort_values(by='Count',ascending=False)\n",
        "\n",
        "topClasses=sortDataFrame.iloc[:10,:]\n",
        "\n",
        "topClasses\n"
      ],
      "execution_count": 0,
      "outputs": [
        {
          "output_type": "error",
          "ename": "NameError",
          "evalue": "ignored",
          "traceback": [
            "\u001b[0;31m---------------------------------------------------------------------------\u001b[0m",
            "\u001b[0;31mNameError\u001b[0m                                 Traceback (most recent call last)",
            "\u001b[0;32m<ipython-input-13-7efdcad21118>\u001b[0m in \u001b[0;36m<module>\u001b[0;34m()\u001b[0m\n\u001b[1;32m      2\u001b[0m \u001b[0munique\u001b[0m\u001b[0;34m,\u001b[0m \u001b[0mcounts\u001b[0m \u001b[0;34m=\u001b[0m \u001b[0mnp\u001b[0m\u001b[0;34m.\u001b[0m\u001b[0munique\u001b[0m\u001b[0;34m(\u001b[0m\u001b[0myPred1000\u001b[0m\u001b[0;34m,\u001b[0m \u001b[0mreturn_counts\u001b[0m\u001b[0;34m=\u001b[0m\u001b[0;32mTrue\u001b[0m\u001b[0;34m)\u001b[0m\u001b[0;34m\u001b[0m\u001b[0m\n\u001b[1;32m      3\u001b[0m \u001b[0;34m\u001b[0m\u001b[0m\n\u001b[0;32m----> 4\u001b[0;31m \u001b[0mpredFrequencies\u001b[0m \u001b[0;34m=\u001b[0m\u001b[0mpd\u001b[0m\u001b[0;34m.\u001b[0m\u001b[0mDataFrame\u001b[0m\u001b[0;34m(\u001b[0m \u001b[0mnp\u001b[0m\u001b[0;34m.\u001b[0m\u001b[0masarray\u001b[0m\u001b[0;34m(\u001b[0m\u001b[0;34m(\u001b[0m\u001b[0munique\u001b[0m\u001b[0;34m,\u001b[0m \u001b[0mcounts\u001b[0m\u001b[0;34m)\u001b[0m\u001b[0;34m)\u001b[0m\u001b[0;34m.\u001b[0m\u001b[0mT\u001b[0m\u001b[0;34m,\u001b[0m\u001b[0mcolumns\u001b[0m\u001b[0;34m=\u001b[0m\u001b[0;34m[\u001b[0m\u001b[0;34m'Class'\u001b[0m\u001b[0;34m,\u001b[0m\u001b[0;34m'Count'\u001b[0m\u001b[0;34m]\u001b[0m\u001b[0;34m)\u001b[0m\u001b[0;34m\u001b[0m\u001b[0m\n\u001b[0m\u001b[1;32m      5\u001b[0m \u001b[0;34m\u001b[0m\u001b[0m\n\u001b[1;32m      6\u001b[0m \u001b[0msortDataFrame\u001b[0m \u001b[0;34m=\u001b[0m \u001b[0mpredFrequencies\u001b[0m\u001b[0;34m.\u001b[0m\u001b[0msort_values\u001b[0m\u001b[0;34m(\u001b[0m\u001b[0mby\u001b[0m\u001b[0;34m=\u001b[0m\u001b[0;34m'Count'\u001b[0m\u001b[0;34m,\u001b[0m\u001b[0mascending\u001b[0m\u001b[0;34m=\u001b[0m\u001b[0;32mFalse\u001b[0m\u001b[0;34m)\u001b[0m\u001b[0;34m\u001b[0m\u001b[0m\n",
            "\u001b[0;31mNameError\u001b[0m: name 'pd' is not defined"
          ]
        }
      ]
    },
    {
      "metadata": {
        "id": "JYR7D17p7qzH",
        "colab_type": "code",
        "colab": {
          "autoexec": {
            "startup": false,
            "wait_interval": 0
          },
          "base_uri": "https://localhost:8080/",
          "height": 1969
        },
        "outputId": "a6540594-d020-483a-b868-1c1d69ee2d4c",
        "executionInfo": {
          "status": "ok",
          "timestamp": 1531583322620,
          "user_tz": 300,
          "elapsed": 333,
          "user": {
            "displayName": "Jesus Solano",
            "photoUrl": "https://lh3.googleusercontent.com/a/default-user=s128",
            "userId": "111266076568687218605"
          }
        }
      },
      "cell_type": "code",
      "source": [
        "# Find the probabilities of being classify in top 10 classes for each image in test. \n",
        "\n",
        "testPredictorDataFrame = pd.DataFrame(yPred1000P)\n",
        "topIndex=topClasses.as_matrix()[:,0]\n",
        "finalPred = round(testPredictorDataFrame.iloc[:,topIndex],4)\n",
        "\n",
        "finalPred"
      ],
      "execution_count": 0,
      "outputs": [
        {
          "output_type": "execute_result",
          "data": {
            "text/html": [
              "<div>\n",
              "<style scoped>\n",
              "    .dataframe tbody tr th:only-of-type {\n",
              "        vertical-align: middle;\n",
              "    }\n",
              "\n",
              "    .dataframe tbody tr th {\n",
              "        vertical-align: top;\n",
              "    }\n",
              "\n",
              "    .dataframe thead th {\n",
              "        text-align: right;\n",
              "    }\n",
              "</style>\n",
              "<table border=\"1\" class=\"dataframe\">\n",
              "  <thead>\n",
              "    <tr style=\"text-align: right;\">\n",
              "      <th></th>\n",
              "      <th>659</th>\n",
              "      <th>722</th>\n",
              "      <th>772</th>\n",
              "      <th>781</th>\n",
              "      <th>679</th>\n",
              "      <th>652</th>\n",
              "      <th>398</th>\n",
              "      <th>478</th>\n",
              "      <th>520</th>\n",
              "      <th>680</th>\n",
              "    </tr>\n",
              "  </thead>\n",
              "  <tbody>\n",
              "    <tr>\n",
              "      <th>0</th>\n",
              "      <td>0.0000</td>\n",
              "      <td>1.0000</td>\n",
              "      <td>0.0000</td>\n",
              "      <td>0.0000</td>\n",
              "      <td>0.0000</td>\n",
              "      <td>0.0000</td>\n",
              "      <td>0.0000</td>\n",
              "      <td>0.0000</td>\n",
              "      <td>0.0000</td>\n",
              "      <td>0.0000</td>\n",
              "    </tr>\n",
              "    <tr>\n",
              "      <th>1</th>\n",
              "      <td>0.0388</td>\n",
              "      <td>0.0000</td>\n",
              "      <td>0.0000</td>\n",
              "      <td>0.0000</td>\n",
              "      <td>0.0000</td>\n",
              "      <td>0.0000</td>\n",
              "      <td>0.0000</td>\n",
              "      <td>0.0000</td>\n",
              "      <td>0.0000</td>\n",
              "      <td>0.0000</td>\n",
              "    </tr>\n",
              "    <tr>\n",
              "      <th>2</th>\n",
              "      <td>1.0000</td>\n",
              "      <td>0.0000</td>\n",
              "      <td>0.0000</td>\n",
              "      <td>0.0000</td>\n",
              "      <td>0.0000</td>\n",
              "      <td>0.0000</td>\n",
              "      <td>0.0000</td>\n",
              "      <td>0.0000</td>\n",
              "      <td>0.0000</td>\n",
              "      <td>0.0000</td>\n",
              "    </tr>\n",
              "    <tr>\n",
              "      <th>3</th>\n",
              "      <td>0.0000</td>\n",
              "      <td>1.0000</td>\n",
              "      <td>0.0000</td>\n",
              "      <td>0.0000</td>\n",
              "      <td>0.0000</td>\n",
              "      <td>0.0000</td>\n",
              "      <td>0.0000</td>\n",
              "      <td>0.0000</td>\n",
              "      <td>0.0000</td>\n",
              "      <td>0.0000</td>\n",
              "    </tr>\n",
              "    <tr>\n",
              "      <th>4</th>\n",
              "      <td>0.0000</td>\n",
              "      <td>0.0000</td>\n",
              "      <td>1.0000</td>\n",
              "      <td>0.0000</td>\n",
              "      <td>0.0000</td>\n",
              "      <td>0.0000</td>\n",
              "      <td>0.0000</td>\n",
              "      <td>0.0000</td>\n",
              "      <td>0.0000</td>\n",
              "      <td>0.0000</td>\n",
              "    </tr>\n",
              "    <tr>\n",
              "      <th>5</th>\n",
              "      <td>0.0002</td>\n",
              "      <td>0.9998</td>\n",
              "      <td>0.0000</td>\n",
              "      <td>0.0000</td>\n",
              "      <td>0.0000</td>\n",
              "      <td>0.0000</td>\n",
              "      <td>0.0000</td>\n",
              "      <td>0.0000</td>\n",
              "      <td>0.0000</td>\n",
              "      <td>0.0000</td>\n",
              "    </tr>\n",
              "    <tr>\n",
              "      <th>6</th>\n",
              "      <td>1.0000</td>\n",
              "      <td>0.0000</td>\n",
              "      <td>0.0000</td>\n",
              "      <td>0.0000</td>\n",
              "      <td>0.0000</td>\n",
              "      <td>0.0000</td>\n",
              "      <td>0.0000</td>\n",
              "      <td>0.0000</td>\n",
              "      <td>0.0000</td>\n",
              "      <td>0.0000</td>\n",
              "    </tr>\n",
              "    <tr>\n",
              "      <th>7</th>\n",
              "      <td>0.0000</td>\n",
              "      <td>1.0000</td>\n",
              "      <td>0.0000</td>\n",
              "      <td>0.0000</td>\n",
              "      <td>0.0000</td>\n",
              "      <td>0.0000</td>\n",
              "      <td>0.0000</td>\n",
              "      <td>0.0000</td>\n",
              "      <td>0.0000</td>\n",
              "      <td>0.0000</td>\n",
              "    </tr>\n",
              "    <tr>\n",
              "      <th>8</th>\n",
              "      <td>1.0000</td>\n",
              "      <td>0.0000</td>\n",
              "      <td>0.0000</td>\n",
              "      <td>0.0000</td>\n",
              "      <td>0.0000</td>\n",
              "      <td>0.0000</td>\n",
              "      <td>0.0000</td>\n",
              "      <td>0.0000</td>\n",
              "      <td>0.0000</td>\n",
              "      <td>0.0000</td>\n",
              "    </tr>\n",
              "    <tr>\n",
              "      <th>9</th>\n",
              "      <td>0.0000</td>\n",
              "      <td>0.7347</td>\n",
              "      <td>0.0000</td>\n",
              "      <td>0.0000</td>\n",
              "      <td>0.0214</td>\n",
              "      <td>0.0591</td>\n",
              "      <td>0.0010</td>\n",
              "      <td>0.0281</td>\n",
              "      <td>0.0001</td>\n",
              "      <td>0.0059</td>\n",
              "    </tr>\n",
              "    <tr>\n",
              "      <th>10</th>\n",
              "      <td>0.1614</td>\n",
              "      <td>0.8386</td>\n",
              "      <td>0.0000</td>\n",
              "      <td>0.0000</td>\n",
              "      <td>0.0000</td>\n",
              "      <td>0.0000</td>\n",
              "      <td>0.0000</td>\n",
              "      <td>0.0000</td>\n",
              "      <td>0.0000</td>\n",
              "      <td>0.0000</td>\n",
              "    </tr>\n",
              "    <tr>\n",
              "      <th>11</th>\n",
              "      <td>0.0000</td>\n",
              "      <td>1.0000</td>\n",
              "      <td>0.0000</td>\n",
              "      <td>0.0000</td>\n",
              "      <td>0.0000</td>\n",
              "      <td>0.0000</td>\n",
              "      <td>0.0000</td>\n",
              "      <td>0.0000</td>\n",
              "      <td>0.0000</td>\n",
              "      <td>0.0000</td>\n",
              "    </tr>\n",
              "    <tr>\n",
              "      <th>12</th>\n",
              "      <td>1.0000</td>\n",
              "      <td>0.0000</td>\n",
              "      <td>0.0000</td>\n",
              "      <td>0.0000</td>\n",
              "      <td>0.0000</td>\n",
              "      <td>0.0000</td>\n",
              "      <td>0.0000</td>\n",
              "      <td>0.0000</td>\n",
              "      <td>0.0000</td>\n",
              "      <td>0.0000</td>\n",
              "    </tr>\n",
              "    <tr>\n",
              "      <th>13</th>\n",
              "      <td>1.0000</td>\n",
              "      <td>0.0000</td>\n",
              "      <td>0.0000</td>\n",
              "      <td>0.0000</td>\n",
              "      <td>0.0000</td>\n",
              "      <td>0.0000</td>\n",
              "      <td>0.0000</td>\n",
              "      <td>0.0000</td>\n",
              "      <td>0.0000</td>\n",
              "      <td>0.0000</td>\n",
              "    </tr>\n",
              "    <tr>\n",
              "      <th>14</th>\n",
              "      <td>0.9776</td>\n",
              "      <td>0.0181</td>\n",
              "      <td>0.0000</td>\n",
              "      <td>0.0000</td>\n",
              "      <td>0.0000</td>\n",
              "      <td>0.0000</td>\n",
              "      <td>0.0000</td>\n",
              "      <td>0.0000</td>\n",
              "      <td>0.0000</td>\n",
              "      <td>0.0000</td>\n",
              "    </tr>\n",
              "    <tr>\n",
              "      <th>15</th>\n",
              "      <td>1.0000</td>\n",
              "      <td>0.0000</td>\n",
              "      <td>0.0000</td>\n",
              "      <td>0.0000</td>\n",
              "      <td>0.0000</td>\n",
              "      <td>0.0000</td>\n",
              "      <td>0.0000</td>\n",
              "      <td>0.0000</td>\n",
              "      <td>0.0000</td>\n",
              "      <td>0.0000</td>\n",
              "    </tr>\n",
              "    <tr>\n",
              "      <th>16</th>\n",
              "      <td>0.9999</td>\n",
              "      <td>0.0001</td>\n",
              "      <td>0.0000</td>\n",
              "      <td>0.0000</td>\n",
              "      <td>0.0000</td>\n",
              "      <td>0.0000</td>\n",
              "      <td>0.0000</td>\n",
              "      <td>0.0000</td>\n",
              "      <td>0.0000</td>\n",
              "      <td>0.0000</td>\n",
              "    </tr>\n",
              "    <tr>\n",
              "      <th>17</th>\n",
              "      <td>0.0000</td>\n",
              "      <td>0.1858</td>\n",
              "      <td>0.0000</td>\n",
              "      <td>0.0000</td>\n",
              "      <td>0.8141</td>\n",
              "      <td>0.0000</td>\n",
              "      <td>0.0000</td>\n",
              "      <td>0.0000</td>\n",
              "      <td>0.0000</td>\n",
              "      <td>0.0000</td>\n",
              "    </tr>\n",
              "    <tr>\n",
              "      <th>18</th>\n",
              "      <td>0.0017</td>\n",
              "      <td>0.0000</td>\n",
              "      <td>0.0824</td>\n",
              "      <td>0.0001</td>\n",
              "      <td>0.0000</td>\n",
              "      <td>0.0000</td>\n",
              "      <td>0.0000</td>\n",
              "      <td>0.0000</td>\n",
              "      <td>0.0000</td>\n",
              "      <td>0.0000</td>\n",
              "    </tr>\n",
              "    <tr>\n",
              "      <th>19</th>\n",
              "      <td>0.9996</td>\n",
              "      <td>0.0000</td>\n",
              "      <td>0.0004</td>\n",
              "      <td>0.0000</td>\n",
              "      <td>0.0000</td>\n",
              "      <td>0.0000</td>\n",
              "      <td>0.0000</td>\n",
              "      <td>0.0000</td>\n",
              "      <td>0.0000</td>\n",
              "      <td>0.0000</td>\n",
              "    </tr>\n",
              "    <tr>\n",
              "      <th>20</th>\n",
              "      <td>1.0000</td>\n",
              "      <td>0.0000</td>\n",
              "      <td>0.0000</td>\n",
              "      <td>0.0000</td>\n",
              "      <td>0.0000</td>\n",
              "      <td>0.0000</td>\n",
              "      <td>0.0000</td>\n",
              "      <td>0.0000</td>\n",
              "      <td>0.0000</td>\n",
              "      <td>0.0000</td>\n",
              "    </tr>\n",
              "    <tr>\n",
              "      <th>21</th>\n",
              "      <td>1.0000</td>\n",
              "      <td>0.0000</td>\n",
              "      <td>0.0000</td>\n",
              "      <td>0.0000</td>\n",
              "      <td>0.0000</td>\n",
              "      <td>0.0000</td>\n",
              "      <td>0.0000</td>\n",
              "      <td>0.0000</td>\n",
              "      <td>0.0000</td>\n",
              "      <td>0.0000</td>\n",
              "    </tr>\n",
              "    <tr>\n",
              "      <th>22</th>\n",
              "      <td>0.0000</td>\n",
              "      <td>0.1375</td>\n",
              "      <td>0.0000</td>\n",
              "      <td>0.0000</td>\n",
              "      <td>0.8625</td>\n",
              "      <td>0.0000</td>\n",
              "      <td>0.0000</td>\n",
              "      <td>0.0000</td>\n",
              "      <td>0.0000</td>\n",
              "      <td>0.0000</td>\n",
              "    </tr>\n",
              "    <tr>\n",
              "      <th>23</th>\n",
              "      <td>0.0000</td>\n",
              "      <td>0.0000</td>\n",
              "      <td>0.0000</td>\n",
              "      <td>0.0000</td>\n",
              "      <td>0.0043</td>\n",
              "      <td>0.9940</td>\n",
              "      <td>0.0015</td>\n",
              "      <td>0.0000</td>\n",
              "      <td>0.0000</td>\n",
              "      <td>0.0000</td>\n",
              "    </tr>\n",
              "    <tr>\n",
              "      <th>24</th>\n",
              "      <td>0.9970</td>\n",
              "      <td>0.0000</td>\n",
              "      <td>0.0030</td>\n",
              "      <td>0.0000</td>\n",
              "      <td>0.0000</td>\n",
              "      <td>0.0000</td>\n",
              "      <td>0.0000</td>\n",
              "      <td>0.0000</td>\n",
              "      <td>0.0000</td>\n",
              "      <td>0.0000</td>\n",
              "    </tr>\n",
              "    <tr>\n",
              "      <th>25</th>\n",
              "      <td>0.0000</td>\n",
              "      <td>1.0000</td>\n",
              "      <td>0.0000</td>\n",
              "      <td>0.0000</td>\n",
              "      <td>0.0000</td>\n",
              "      <td>0.0000</td>\n",
              "      <td>0.0000</td>\n",
              "      <td>0.0000</td>\n",
              "      <td>0.0000</td>\n",
              "      <td>0.0000</td>\n",
              "    </tr>\n",
              "    <tr>\n",
              "      <th>26</th>\n",
              "      <td>0.0000</td>\n",
              "      <td>0.0000</td>\n",
              "      <td>1.0000</td>\n",
              "      <td>0.0000</td>\n",
              "      <td>0.0000</td>\n",
              "      <td>0.0000</td>\n",
              "      <td>0.0000</td>\n",
              "      <td>0.0000</td>\n",
              "      <td>0.0000</td>\n",
              "      <td>0.0000</td>\n",
              "    </tr>\n",
              "    <tr>\n",
              "      <th>27</th>\n",
              "      <td>0.0000</td>\n",
              "      <td>0.0038</td>\n",
              "      <td>0.0000</td>\n",
              "      <td>0.0000</td>\n",
              "      <td>0.0000</td>\n",
              "      <td>0.0003</td>\n",
              "      <td>0.7410</td>\n",
              "      <td>0.0000</td>\n",
              "      <td>0.0000</td>\n",
              "      <td>0.0000</td>\n",
              "    </tr>\n",
              "    <tr>\n",
              "      <th>28</th>\n",
              "      <td>0.9997</td>\n",
              "      <td>0.0001</td>\n",
              "      <td>0.0000</td>\n",
              "      <td>0.0000</td>\n",
              "      <td>0.0000</td>\n",
              "      <td>0.0000</td>\n",
              "      <td>0.0000</td>\n",
              "      <td>0.0000</td>\n",
              "      <td>0.0001</td>\n",
              "      <td>0.0000</td>\n",
              "    </tr>\n",
              "    <tr>\n",
              "      <th>29</th>\n",
              "      <td>0.0000</td>\n",
              "      <td>0.9567</td>\n",
              "      <td>0.0000</td>\n",
              "      <td>0.0000</td>\n",
              "      <td>0.0027</td>\n",
              "      <td>0.0349</td>\n",
              "      <td>0.0042</td>\n",
              "      <td>0.0000</td>\n",
              "      <td>0.0000</td>\n",
              "      <td>0.0000</td>\n",
              "    </tr>\n",
              "    <tr>\n",
              "      <th>...</th>\n",
              "      <td>...</td>\n",
              "      <td>...</td>\n",
              "      <td>...</td>\n",
              "      <td>...</td>\n",
              "      <td>...</td>\n",
              "      <td>...</td>\n",
              "      <td>...</td>\n",
              "      <td>...</td>\n",
              "      <td>...</td>\n",
              "      <td>...</td>\n",
              "    </tr>\n",
              "    <tr>\n",
              "      <th>150</th>\n",
              "      <td>0.0009</td>\n",
              "      <td>0.6012</td>\n",
              "      <td>0.0000</td>\n",
              "      <td>0.0000</td>\n",
              "      <td>0.0035</td>\n",
              "      <td>0.0000</td>\n",
              "      <td>0.3938</td>\n",
              "      <td>0.0000</td>\n",
              "      <td>0.0000</td>\n",
              "      <td>0.0000</td>\n",
              "    </tr>\n",
              "    <tr>\n",
              "      <th>151</th>\n",
              "      <td>0.0077</td>\n",
              "      <td>0.0000</td>\n",
              "      <td>0.0000</td>\n",
              "      <td>0.9911</td>\n",
              "      <td>0.0000</td>\n",
              "      <td>0.0000</td>\n",
              "      <td>0.0000</td>\n",
              "      <td>0.0000</td>\n",
              "      <td>0.0000</td>\n",
              "      <td>0.0000</td>\n",
              "    </tr>\n",
              "    <tr>\n",
              "      <th>152</th>\n",
              "      <td>0.0000</td>\n",
              "      <td>1.0000</td>\n",
              "      <td>0.0000</td>\n",
              "      <td>0.0000</td>\n",
              "      <td>0.0000</td>\n",
              "      <td>0.0000</td>\n",
              "      <td>0.0000</td>\n",
              "      <td>0.0000</td>\n",
              "      <td>0.0000</td>\n",
              "      <td>0.0000</td>\n",
              "    </tr>\n",
              "    <tr>\n",
              "      <th>153</th>\n",
              "      <td>0.5582</td>\n",
              "      <td>0.4418</td>\n",
              "      <td>0.0000</td>\n",
              "      <td>0.0000</td>\n",
              "      <td>0.0000</td>\n",
              "      <td>0.0000</td>\n",
              "      <td>0.0000</td>\n",
              "      <td>0.0000</td>\n",
              "      <td>0.0000</td>\n",
              "      <td>0.0000</td>\n",
              "    </tr>\n",
              "    <tr>\n",
              "      <th>154</th>\n",
              "      <td>0.1370</td>\n",
              "      <td>0.8619</td>\n",
              "      <td>0.0000</td>\n",
              "      <td>0.0000</td>\n",
              "      <td>0.0001</td>\n",
              "      <td>0.0000</td>\n",
              "      <td>0.0000</td>\n",
              "      <td>0.0000</td>\n",
              "      <td>0.0000</td>\n",
              "      <td>0.0000</td>\n",
              "    </tr>\n",
              "    <tr>\n",
              "      <th>155</th>\n",
              "      <td>0.0000</td>\n",
              "      <td>0.9998</td>\n",
              "      <td>0.0000</td>\n",
              "      <td>0.0000</td>\n",
              "      <td>0.0001</td>\n",
              "      <td>0.0000</td>\n",
              "      <td>0.0000</td>\n",
              "      <td>0.0000</td>\n",
              "      <td>0.0000</td>\n",
              "      <td>0.0002</td>\n",
              "    </tr>\n",
              "    <tr>\n",
              "      <th>156</th>\n",
              "      <td>0.0000</td>\n",
              "      <td>0.0020</td>\n",
              "      <td>0.0000</td>\n",
              "      <td>0.0000</td>\n",
              "      <td>0.0000</td>\n",
              "      <td>0.1536</td>\n",
              "      <td>0.1461</td>\n",
              "      <td>0.0000</td>\n",
              "      <td>0.6981</td>\n",
              "      <td>0.0000</td>\n",
              "    </tr>\n",
              "    <tr>\n",
              "      <th>157</th>\n",
              "      <td>1.0000</td>\n",
              "      <td>0.0000</td>\n",
              "      <td>0.0000</td>\n",
              "      <td>0.0000</td>\n",
              "      <td>0.0000</td>\n",
              "      <td>0.0000</td>\n",
              "      <td>0.0000</td>\n",
              "      <td>0.0000</td>\n",
              "      <td>0.0000</td>\n",
              "      <td>0.0000</td>\n",
              "    </tr>\n",
              "    <tr>\n",
              "      <th>158</th>\n",
              "      <td>0.0129</td>\n",
              "      <td>0.9733</td>\n",
              "      <td>0.0126</td>\n",
              "      <td>0.0000</td>\n",
              "      <td>0.0011</td>\n",
              "      <td>0.0000</td>\n",
              "      <td>0.0000</td>\n",
              "      <td>0.0000</td>\n",
              "      <td>0.0000</td>\n",
              "      <td>0.0000</td>\n",
              "    </tr>\n",
              "    <tr>\n",
              "      <th>159</th>\n",
              "      <td>0.9799</td>\n",
              "      <td>0.0000</td>\n",
              "      <td>0.0000</td>\n",
              "      <td>0.0000</td>\n",
              "      <td>0.0000</td>\n",
              "      <td>0.0000</td>\n",
              "      <td>0.0000</td>\n",
              "      <td>0.0000</td>\n",
              "      <td>0.0000</td>\n",
              "      <td>0.0000</td>\n",
              "    </tr>\n",
              "    <tr>\n",
              "      <th>160</th>\n",
              "      <td>0.0000</td>\n",
              "      <td>1.0000</td>\n",
              "      <td>0.0000</td>\n",
              "      <td>0.0000</td>\n",
              "      <td>0.0000</td>\n",
              "      <td>0.0000</td>\n",
              "      <td>0.0000</td>\n",
              "      <td>0.0000</td>\n",
              "      <td>0.0000</td>\n",
              "      <td>0.0000</td>\n",
              "    </tr>\n",
              "    <tr>\n",
              "      <th>161</th>\n",
              "      <td>0.0000</td>\n",
              "      <td>0.7986</td>\n",
              "      <td>0.0000</td>\n",
              "      <td>0.0000</td>\n",
              "      <td>0.0000</td>\n",
              "      <td>0.0003</td>\n",
              "      <td>0.0051</td>\n",
              "      <td>0.0000</td>\n",
              "      <td>0.0000</td>\n",
              "      <td>0.0000</td>\n",
              "    </tr>\n",
              "    <tr>\n",
              "      <th>162</th>\n",
              "      <td>1.0000</td>\n",
              "      <td>0.0000</td>\n",
              "      <td>0.0000</td>\n",
              "      <td>0.0000</td>\n",
              "      <td>0.0000</td>\n",
              "      <td>0.0000</td>\n",
              "      <td>0.0000</td>\n",
              "      <td>0.0000</td>\n",
              "      <td>0.0000</td>\n",
              "      <td>0.0000</td>\n",
              "    </tr>\n",
              "    <tr>\n",
              "      <th>163</th>\n",
              "      <td>1.0000</td>\n",
              "      <td>0.0000</td>\n",
              "      <td>0.0000</td>\n",
              "      <td>0.0000</td>\n",
              "      <td>0.0000</td>\n",
              "      <td>0.0000</td>\n",
              "      <td>0.0000</td>\n",
              "      <td>0.0000</td>\n",
              "      <td>0.0000</td>\n",
              "      <td>0.0000</td>\n",
              "    </tr>\n",
              "    <tr>\n",
              "      <th>164</th>\n",
              "      <td>0.0000</td>\n",
              "      <td>1.0000</td>\n",
              "      <td>0.0000</td>\n",
              "      <td>0.0000</td>\n",
              "      <td>0.0000</td>\n",
              "      <td>0.0000</td>\n",
              "      <td>0.0000</td>\n",
              "      <td>0.0000</td>\n",
              "      <td>0.0000</td>\n",
              "      <td>0.0000</td>\n",
              "    </tr>\n",
              "    <tr>\n",
              "      <th>165</th>\n",
              "      <td>0.9932</td>\n",
              "      <td>0.0068</td>\n",
              "      <td>0.0000</td>\n",
              "      <td>0.0000</td>\n",
              "      <td>0.0000</td>\n",
              "      <td>0.0000</td>\n",
              "      <td>0.0000</td>\n",
              "      <td>0.0000</td>\n",
              "      <td>0.0000</td>\n",
              "      <td>0.0000</td>\n",
              "    </tr>\n",
              "    <tr>\n",
              "      <th>166</th>\n",
              "      <td>0.0015</td>\n",
              "      <td>0.0044</td>\n",
              "      <td>0.0000</td>\n",
              "      <td>0.9940</td>\n",
              "      <td>0.0000</td>\n",
              "      <td>0.0000</td>\n",
              "      <td>0.0000</td>\n",
              "      <td>0.0000</td>\n",
              "      <td>0.0000</td>\n",
              "      <td>0.0000</td>\n",
              "    </tr>\n",
              "    <tr>\n",
              "      <th>167</th>\n",
              "      <td>1.0000</td>\n",
              "      <td>0.0000</td>\n",
              "      <td>0.0000</td>\n",
              "      <td>0.0000</td>\n",
              "      <td>0.0000</td>\n",
              "      <td>0.0000</td>\n",
              "      <td>0.0000</td>\n",
              "      <td>0.0000</td>\n",
              "      <td>0.0000</td>\n",
              "      <td>0.0000</td>\n",
              "    </tr>\n",
              "    <tr>\n",
              "      <th>168</th>\n",
              "      <td>1.0000</td>\n",
              "      <td>0.0000</td>\n",
              "      <td>0.0000</td>\n",
              "      <td>0.0000</td>\n",
              "      <td>0.0000</td>\n",
              "      <td>0.0000</td>\n",
              "      <td>0.0000</td>\n",
              "      <td>0.0000</td>\n",
              "      <td>0.0000</td>\n",
              "      <td>0.0000</td>\n",
              "    </tr>\n",
              "    <tr>\n",
              "      <th>169</th>\n",
              "      <td>0.7434</td>\n",
              "      <td>0.2566</td>\n",
              "      <td>0.0000</td>\n",
              "      <td>0.0000</td>\n",
              "      <td>0.0000</td>\n",
              "      <td>0.0000</td>\n",
              "      <td>0.0000</td>\n",
              "      <td>0.0000</td>\n",
              "      <td>0.0000</td>\n",
              "      <td>0.0000</td>\n",
              "    </tr>\n",
              "    <tr>\n",
              "      <th>170</th>\n",
              "      <td>0.0056</td>\n",
              "      <td>0.0403</td>\n",
              "      <td>0.0000</td>\n",
              "      <td>0.0000</td>\n",
              "      <td>0.0000</td>\n",
              "      <td>0.0000</td>\n",
              "      <td>0.0000</td>\n",
              "      <td>0.9418</td>\n",
              "      <td>0.0000</td>\n",
              "      <td>0.0000</td>\n",
              "    </tr>\n",
              "    <tr>\n",
              "      <th>171</th>\n",
              "      <td>0.0000</td>\n",
              "      <td>1.0000</td>\n",
              "      <td>0.0000</td>\n",
              "      <td>0.0000</td>\n",
              "      <td>0.0000</td>\n",
              "      <td>0.0000</td>\n",
              "      <td>0.0000</td>\n",
              "      <td>0.0000</td>\n",
              "      <td>0.0000</td>\n",
              "      <td>0.0000</td>\n",
              "    </tr>\n",
              "    <tr>\n",
              "      <th>172</th>\n",
              "      <td>0.4467</td>\n",
              "      <td>0.0000</td>\n",
              "      <td>0.5533</td>\n",
              "      <td>0.0000</td>\n",
              "      <td>0.0000</td>\n",
              "      <td>0.0000</td>\n",
              "      <td>0.0000</td>\n",
              "      <td>0.0000</td>\n",
              "      <td>0.0000</td>\n",
              "      <td>0.0000</td>\n",
              "    </tr>\n",
              "    <tr>\n",
              "      <th>173</th>\n",
              "      <td>0.0000</td>\n",
              "      <td>0.0000</td>\n",
              "      <td>0.0000</td>\n",
              "      <td>0.0000</td>\n",
              "      <td>0.0000</td>\n",
              "      <td>0.0000</td>\n",
              "      <td>0.9836</td>\n",
              "      <td>0.0000</td>\n",
              "      <td>0.0000</td>\n",
              "      <td>0.0000</td>\n",
              "    </tr>\n",
              "    <tr>\n",
              "      <th>174</th>\n",
              "      <td>0.3392</td>\n",
              "      <td>0.6608</td>\n",
              "      <td>0.0000</td>\n",
              "      <td>0.0000</td>\n",
              "      <td>0.0000</td>\n",
              "      <td>0.0000</td>\n",
              "      <td>0.0000</td>\n",
              "      <td>0.0000</td>\n",
              "      <td>0.0000</td>\n",
              "      <td>0.0000</td>\n",
              "    </tr>\n",
              "    <tr>\n",
              "      <th>175</th>\n",
              "      <td>0.0005</td>\n",
              "      <td>0.9995</td>\n",
              "      <td>0.0000</td>\n",
              "      <td>0.0000</td>\n",
              "      <td>0.0000</td>\n",
              "      <td>0.0000</td>\n",
              "      <td>0.0000</td>\n",
              "      <td>0.0000</td>\n",
              "      <td>0.0000</td>\n",
              "      <td>0.0000</td>\n",
              "    </tr>\n",
              "    <tr>\n",
              "      <th>176</th>\n",
              "      <td>1.0000</td>\n",
              "      <td>0.0000</td>\n",
              "      <td>0.0000</td>\n",
              "      <td>0.0000</td>\n",
              "      <td>0.0000</td>\n",
              "      <td>0.0000</td>\n",
              "      <td>0.0000</td>\n",
              "      <td>0.0000</td>\n",
              "      <td>0.0000</td>\n",
              "      <td>0.0000</td>\n",
              "    </tr>\n",
              "    <tr>\n",
              "      <th>177</th>\n",
              "      <td>0.0000</td>\n",
              "      <td>1.0000</td>\n",
              "      <td>0.0000</td>\n",
              "      <td>0.0000</td>\n",
              "      <td>0.0000</td>\n",
              "      <td>0.0000</td>\n",
              "      <td>0.0000</td>\n",
              "      <td>0.0000</td>\n",
              "      <td>0.0000</td>\n",
              "      <td>0.0000</td>\n",
              "    </tr>\n",
              "    <tr>\n",
              "      <th>178</th>\n",
              "      <td>0.0000</td>\n",
              "      <td>0.9751</td>\n",
              "      <td>0.0000</td>\n",
              "      <td>0.0000</td>\n",
              "      <td>0.0036</td>\n",
              "      <td>0.0001</td>\n",
              "      <td>0.0000</td>\n",
              "      <td>0.0001</td>\n",
              "      <td>0.0001</td>\n",
              "      <td>0.0011</td>\n",
              "    </tr>\n",
              "    <tr>\n",
              "      <th>179</th>\n",
              "      <td>0.0000</td>\n",
              "      <td>0.8732</td>\n",
              "      <td>0.0000</td>\n",
              "      <td>0.0000</td>\n",
              "      <td>0.0002</td>\n",
              "      <td>0.0000</td>\n",
              "      <td>0.1015</td>\n",
              "      <td>0.0000</td>\n",
              "      <td>0.0001</td>\n",
              "      <td>0.0018</td>\n",
              "    </tr>\n",
              "  </tbody>\n",
              "</table>\n",
              "<p>180 rows × 10 columns</p>\n",
              "</div>"
            ],
            "text/plain": [
              "        659     722     772     781     679     652     398     478     520  \\\n",
              "0    0.0000  1.0000  0.0000  0.0000  0.0000  0.0000  0.0000  0.0000  0.0000   \n",
              "1    0.0388  0.0000  0.0000  0.0000  0.0000  0.0000  0.0000  0.0000  0.0000   \n",
              "2    1.0000  0.0000  0.0000  0.0000  0.0000  0.0000  0.0000  0.0000  0.0000   \n",
              "3    0.0000  1.0000  0.0000  0.0000  0.0000  0.0000  0.0000  0.0000  0.0000   \n",
              "4    0.0000  0.0000  1.0000  0.0000  0.0000  0.0000  0.0000  0.0000  0.0000   \n",
              "5    0.0002  0.9998  0.0000  0.0000  0.0000  0.0000  0.0000  0.0000  0.0000   \n",
              "6    1.0000  0.0000  0.0000  0.0000  0.0000  0.0000  0.0000  0.0000  0.0000   \n",
              "7    0.0000  1.0000  0.0000  0.0000  0.0000  0.0000  0.0000  0.0000  0.0000   \n",
              "8    1.0000  0.0000  0.0000  0.0000  0.0000  0.0000  0.0000  0.0000  0.0000   \n",
              "9    0.0000  0.7347  0.0000  0.0000  0.0214  0.0591  0.0010  0.0281  0.0001   \n",
              "10   0.1614  0.8386  0.0000  0.0000  0.0000  0.0000  0.0000  0.0000  0.0000   \n",
              "11   0.0000  1.0000  0.0000  0.0000  0.0000  0.0000  0.0000  0.0000  0.0000   \n",
              "12   1.0000  0.0000  0.0000  0.0000  0.0000  0.0000  0.0000  0.0000  0.0000   \n",
              "13   1.0000  0.0000  0.0000  0.0000  0.0000  0.0000  0.0000  0.0000  0.0000   \n",
              "14   0.9776  0.0181  0.0000  0.0000  0.0000  0.0000  0.0000  0.0000  0.0000   \n",
              "15   1.0000  0.0000  0.0000  0.0000  0.0000  0.0000  0.0000  0.0000  0.0000   \n",
              "16   0.9999  0.0001  0.0000  0.0000  0.0000  0.0000  0.0000  0.0000  0.0000   \n",
              "17   0.0000  0.1858  0.0000  0.0000  0.8141  0.0000  0.0000  0.0000  0.0000   \n",
              "18   0.0017  0.0000  0.0824  0.0001  0.0000  0.0000  0.0000  0.0000  0.0000   \n",
              "19   0.9996  0.0000  0.0004  0.0000  0.0000  0.0000  0.0000  0.0000  0.0000   \n",
              "20   1.0000  0.0000  0.0000  0.0000  0.0000  0.0000  0.0000  0.0000  0.0000   \n",
              "21   1.0000  0.0000  0.0000  0.0000  0.0000  0.0000  0.0000  0.0000  0.0000   \n",
              "22   0.0000  0.1375  0.0000  0.0000  0.8625  0.0000  0.0000  0.0000  0.0000   \n",
              "23   0.0000  0.0000  0.0000  0.0000  0.0043  0.9940  0.0015  0.0000  0.0000   \n",
              "24   0.9970  0.0000  0.0030  0.0000  0.0000  0.0000  0.0000  0.0000  0.0000   \n",
              "25   0.0000  1.0000  0.0000  0.0000  0.0000  0.0000  0.0000  0.0000  0.0000   \n",
              "26   0.0000  0.0000  1.0000  0.0000  0.0000  0.0000  0.0000  0.0000  0.0000   \n",
              "27   0.0000  0.0038  0.0000  0.0000  0.0000  0.0003  0.7410  0.0000  0.0000   \n",
              "28   0.9997  0.0001  0.0000  0.0000  0.0000  0.0000  0.0000  0.0000  0.0001   \n",
              "29   0.0000  0.9567  0.0000  0.0000  0.0027  0.0349  0.0042  0.0000  0.0000   \n",
              "..      ...     ...     ...     ...     ...     ...     ...     ...     ...   \n",
              "150  0.0009  0.6012  0.0000  0.0000  0.0035  0.0000  0.3938  0.0000  0.0000   \n",
              "151  0.0077  0.0000  0.0000  0.9911  0.0000  0.0000  0.0000  0.0000  0.0000   \n",
              "152  0.0000  1.0000  0.0000  0.0000  0.0000  0.0000  0.0000  0.0000  0.0000   \n",
              "153  0.5582  0.4418  0.0000  0.0000  0.0000  0.0000  0.0000  0.0000  0.0000   \n",
              "154  0.1370  0.8619  0.0000  0.0000  0.0001  0.0000  0.0000  0.0000  0.0000   \n",
              "155  0.0000  0.9998  0.0000  0.0000  0.0001  0.0000  0.0000  0.0000  0.0000   \n",
              "156  0.0000  0.0020  0.0000  0.0000  0.0000  0.1536  0.1461  0.0000  0.6981   \n",
              "157  1.0000  0.0000  0.0000  0.0000  0.0000  0.0000  0.0000  0.0000  0.0000   \n",
              "158  0.0129  0.9733  0.0126  0.0000  0.0011  0.0000  0.0000  0.0000  0.0000   \n",
              "159  0.9799  0.0000  0.0000  0.0000  0.0000  0.0000  0.0000  0.0000  0.0000   \n",
              "160  0.0000  1.0000  0.0000  0.0000  0.0000  0.0000  0.0000  0.0000  0.0000   \n",
              "161  0.0000  0.7986  0.0000  0.0000  0.0000  0.0003  0.0051  0.0000  0.0000   \n",
              "162  1.0000  0.0000  0.0000  0.0000  0.0000  0.0000  0.0000  0.0000  0.0000   \n",
              "163  1.0000  0.0000  0.0000  0.0000  0.0000  0.0000  0.0000  0.0000  0.0000   \n",
              "164  0.0000  1.0000  0.0000  0.0000  0.0000  0.0000  0.0000  0.0000  0.0000   \n",
              "165  0.9932  0.0068  0.0000  0.0000  0.0000  0.0000  0.0000  0.0000  0.0000   \n",
              "166  0.0015  0.0044  0.0000  0.9940  0.0000  0.0000  0.0000  0.0000  0.0000   \n",
              "167  1.0000  0.0000  0.0000  0.0000  0.0000  0.0000  0.0000  0.0000  0.0000   \n",
              "168  1.0000  0.0000  0.0000  0.0000  0.0000  0.0000  0.0000  0.0000  0.0000   \n",
              "169  0.7434  0.2566  0.0000  0.0000  0.0000  0.0000  0.0000  0.0000  0.0000   \n",
              "170  0.0056  0.0403  0.0000  0.0000  0.0000  0.0000  0.0000  0.9418  0.0000   \n",
              "171  0.0000  1.0000  0.0000  0.0000  0.0000  0.0000  0.0000  0.0000  0.0000   \n",
              "172  0.4467  0.0000  0.5533  0.0000  0.0000  0.0000  0.0000  0.0000  0.0000   \n",
              "173  0.0000  0.0000  0.0000  0.0000  0.0000  0.0000  0.9836  0.0000  0.0000   \n",
              "174  0.3392  0.6608  0.0000  0.0000  0.0000  0.0000  0.0000  0.0000  0.0000   \n",
              "175  0.0005  0.9995  0.0000  0.0000  0.0000  0.0000  0.0000  0.0000  0.0000   \n",
              "176  1.0000  0.0000  0.0000  0.0000  0.0000  0.0000  0.0000  0.0000  0.0000   \n",
              "177  0.0000  1.0000  0.0000  0.0000  0.0000  0.0000  0.0000  0.0000  0.0000   \n",
              "178  0.0000  0.9751  0.0000  0.0000  0.0036  0.0001  0.0000  0.0001  0.0001   \n",
              "179  0.0000  0.8732  0.0000  0.0000  0.0002  0.0000  0.1015  0.0000  0.0001   \n",
              "\n",
              "        680  \n",
              "0    0.0000  \n",
              "1    0.0000  \n",
              "2    0.0000  \n",
              "3    0.0000  \n",
              "4    0.0000  \n",
              "5    0.0000  \n",
              "6    0.0000  \n",
              "7    0.0000  \n",
              "8    0.0000  \n",
              "9    0.0059  \n",
              "10   0.0000  \n",
              "11   0.0000  \n",
              "12   0.0000  \n",
              "13   0.0000  \n",
              "14   0.0000  \n",
              "15   0.0000  \n",
              "16   0.0000  \n",
              "17   0.0000  \n",
              "18   0.0000  \n",
              "19   0.0000  \n",
              "20   0.0000  \n",
              "21   0.0000  \n",
              "22   0.0000  \n",
              "23   0.0000  \n",
              "24   0.0000  \n",
              "25   0.0000  \n",
              "26   0.0000  \n",
              "27   0.0000  \n",
              "28   0.0000  \n",
              "29   0.0000  \n",
              "..      ...  \n",
              "150  0.0000  \n",
              "151  0.0000  \n",
              "152  0.0000  \n",
              "153  0.0000  \n",
              "154  0.0000  \n",
              "155  0.0002  \n",
              "156  0.0000  \n",
              "157  0.0000  \n",
              "158  0.0000  \n",
              "159  0.0000  \n",
              "160  0.0000  \n",
              "161  0.0000  \n",
              "162  0.0000  \n",
              "163  0.0000  \n",
              "164  0.0000  \n",
              "165  0.0000  \n",
              "166  0.0000  \n",
              "167  0.0000  \n",
              "168  0.0000  \n",
              "169  0.0000  \n",
              "170  0.0000  \n",
              "171  0.0000  \n",
              "172  0.0000  \n",
              "173  0.0000  \n",
              "174  0.0000  \n",
              "175  0.0000  \n",
              "176  0.0000  \n",
              "177  0.0000  \n",
              "178  0.0011  \n",
              "179  0.0018  \n",
              "\n",
              "[180 rows x 10 columns]"
            ]
          },
          "metadata": {
            "tags": []
          },
          "execution_count": 25
        }
      ]
    },
    {
      "metadata": {
        "id": "H70aUWJI-Y-K",
        "colab_type": "code",
        "colab": {
          "autoexec": {
            "startup": false,
            "wait_interval": 0
          },
          "base_uri": "https://localhost:8080/",
          "height": 289
        },
        "outputId": "6b6a1a9d-8cd0-4944-8b1a-27e42df93c47",
        "executionInfo": {
          "status": "ok",
          "timestamp": 1531583493407,
          "user_tz": 300,
          "elapsed": 417,
          "user": {
            "displayName": "Jesus Solano",
            "photoUrl": "https://lh3.googleusercontent.com/a/default-user=s128",
            "userId": "111266076568687218605"
          }
        }
      },
      "cell_type": "code",
      "source": [
        "# Create confusion matrix(6 classes, 10 top classes)\n",
        "\n",
        "target_names = ['egr','man','owl','puf','tou','wod']\n",
        "\n",
        "confusionMatrix = pd.DataFrame(np.zeros(shape=(6,topIndex.shape[0])),columns=topIndex)\n",
        "yTestL = np.argmax(yTest,axis=1)\n",
        "for index, row in finalPred.iterrows():\n",
        "    maxClass=finalPred.iloc[index,:].argmax()\n",
        "    trueClass = yTestL[index]\n",
        "    confusionMatrix.loc[trueClass,maxClass]= confusionMatrix.loc[trueClass,maxClass]+1\n",
        "    a=0\n",
        "\n",
        "confusionMatrix.reset_index(level=0, inplace=True)\n",
        "\n",
        "def set_index(row):\n",
        "  if row['index']==0: return target_names[0]\n",
        "  elif   row['index']==1: return target_names[1]\n",
        "  elif   row['index']==2: return target_names[2]\n",
        "  elif   row['index']==3: return target_names[3]\n",
        "  elif   row['index']==4: return target_names[4]\n",
        "  else:  return target_names[5]\n",
        "    \n",
        "confusionMatrix=confusionMatrix.assign(index=confusionMatrix.apply(set_index,axis=1))\n",
        "confusionMatrix.columns.values[0]='Class'\n",
        "    \n",
        "confusionMatrix\n",
        "\n"
      ],
      "execution_count": 0,
      "outputs": [
        {
          "output_type": "stream",
          "text": [
            "/usr/local/lib/python3.6/dist-packages/ipykernel_launcher.py:7: FutureWarning: 'argmax' is deprecated. Use 'idxmax' instead. The behavior of 'argmax' will be corrected to return the positional maximum in the future. Use 'series.values.argmax' to get the position of the maximum now.\n",
            "  import sys\n"
          ],
          "name": "stderr"
        },
        {
          "output_type": "execute_result",
          "data": {
            "text/html": [
              "<div>\n",
              "<style scoped>\n",
              "    .dataframe tbody tr th:only-of-type {\n",
              "        vertical-align: middle;\n",
              "    }\n",
              "\n",
              "    .dataframe tbody tr th {\n",
              "        vertical-align: top;\n",
              "    }\n",
              "\n",
              "    .dataframe thead th {\n",
              "        text-align: right;\n",
              "    }\n",
              "</style>\n",
              "<table border=\"1\" class=\"dataframe\">\n",
              "  <thead>\n",
              "    <tr style=\"text-align: right;\">\n",
              "      <th></th>\n",
              "      <th>659</th>\n",
              "      <th>722</th>\n",
              "      <th>772</th>\n",
              "      <th>781</th>\n",
              "      <th>679</th>\n",
              "      <th>652</th>\n",
              "      <th>398</th>\n",
              "      <th>478</th>\n",
              "      <th>520</th>\n",
              "      <th>680</th>\n",
              "    </tr>\n",
              "  </thead>\n",
              "  <tbody>\n",
              "    <tr>\n",
              "      <th>0</th>\n",
              "      <td>11.0</td>\n",
              "      <td>13.0</td>\n",
              "      <td>1.0</td>\n",
              "      <td>1.0</td>\n",
              "      <td>1.0</td>\n",
              "      <td>1.0</td>\n",
              "      <td>1.0</td>\n",
              "      <td>0.0</td>\n",
              "      <td>0.0</td>\n",
              "      <td>0.0</td>\n",
              "    </tr>\n",
              "    <tr>\n",
              "      <th>1</th>\n",
              "      <td>13.0</td>\n",
              "      <td>14.0</td>\n",
              "      <td>1.0</td>\n",
              "      <td>0.0</td>\n",
              "      <td>1.0</td>\n",
              "      <td>1.0</td>\n",
              "      <td>1.0</td>\n",
              "      <td>1.0</td>\n",
              "      <td>1.0</td>\n",
              "      <td>0.0</td>\n",
              "    </tr>\n",
              "    <tr>\n",
              "      <th>2</th>\n",
              "      <td>21.0</td>\n",
              "      <td>3.0</td>\n",
              "      <td>2.0</td>\n",
              "      <td>4.0</td>\n",
              "      <td>0.0</td>\n",
              "      <td>1.0</td>\n",
              "      <td>0.0</td>\n",
              "      <td>0.0</td>\n",
              "      <td>1.0</td>\n",
              "      <td>1.0</td>\n",
              "    </tr>\n",
              "    <tr>\n",
              "      <th>3</th>\n",
              "      <td>19.0</td>\n",
              "      <td>10.0</td>\n",
              "      <td>1.0</td>\n",
              "      <td>0.0</td>\n",
              "      <td>2.0</td>\n",
              "      <td>0.0</td>\n",
              "      <td>0.0</td>\n",
              "      <td>1.0</td>\n",
              "      <td>0.0</td>\n",
              "      <td>1.0</td>\n",
              "    </tr>\n",
              "    <tr>\n",
              "      <th>4</th>\n",
              "      <td>11.0</td>\n",
              "      <td>8.0</td>\n",
              "      <td>1.0</td>\n",
              "      <td>1.0</td>\n",
              "      <td>2.0</td>\n",
              "      <td>1.0</td>\n",
              "      <td>0.0</td>\n",
              "      <td>1.0</td>\n",
              "      <td>1.0</td>\n",
              "      <td>1.0</td>\n",
              "    </tr>\n",
              "    <tr>\n",
              "      <th>5</th>\n",
              "      <td>9.0</td>\n",
              "      <td>9.0</td>\n",
              "      <td>3.0</td>\n",
              "      <td>1.0</td>\n",
              "      <td>1.0</td>\n",
              "      <td>0.0</td>\n",
              "      <td>1.0</td>\n",
              "      <td>0.0</td>\n",
              "      <td>0.0</td>\n",
              "      <td>0.0</td>\n",
              "    </tr>\n",
              "  </tbody>\n",
              "</table>\n",
              "</div>"
            ],
            "text/plain": [
              "    659   722  772  781  679  652  398  478  520  680\n",
              "0  11.0  13.0  1.0  1.0  1.0  1.0  1.0  0.0  0.0  0.0\n",
              "1  13.0  14.0  1.0  0.0  1.0  1.0  1.0  1.0  1.0  0.0\n",
              "2  21.0   3.0  2.0  4.0  0.0  1.0  0.0  0.0  1.0  1.0\n",
              "3  19.0  10.0  1.0  0.0  2.0  0.0  0.0  1.0  0.0  1.0\n",
              "4  11.0   8.0  1.0  1.0  2.0  1.0  0.0  1.0  1.0  1.0\n",
              "5   9.0   9.0  3.0  1.0  1.0  0.0  1.0  0.0  0.0  0.0"
            ]
          },
          "metadata": {
            "tags": []
          },
          "execution_count": 30
        }
      ]
    },
    {
      "metadata": {
        "id": "0C3aUFiriyrH",
        "colab_type": "text"
      },
      "cell_type": "markdown",
      "source": [
        "# Transfer Learning\n",
        "We use the pre-trained CNN model as a feature extractor. The pretrained model was 'Xception'. We also replace the top part of the pretrained CNN with two layers of 256 and 6 neurons respectively."
      ]
    },
    {
      "metadata": {
        "id": "Q2ol5JI3iyrI",
        "colab_type": "code",
        "colab": {
          "autoexec": {
            "startup": false,
            "wait_interval": 0
          },
          "base_uri": "https://localhost:8080/",
          "height": 71
        },
        "outputId": "7174f842-517b-4945-c5a6-27f8a7954d6b",
        "executionInfo": {
          "status": "ok",
          "timestamp": 1531592950050,
          "user_tz": 300,
          "elapsed": 6173,
          "user": {
            "displayName": "Jesus Solano",
            "photoUrl": "https://lh3.googleusercontent.com/a/default-user=s128",
            "userId": "111266076568687218605"
          }
        }
      },
      "cell_type": "code",
      "source": [
        "from keras.applications.xception import Xception\n",
        "from keras.applications.vgg16 import VGG16\n",
        "\n",
        "#modelXceptionTF = Xception(weights='imagenet', include_top=False)\n",
        "\n",
        "modelXceptionTF = VGG16(weights='imagenet', include_top=False)"
      ],
      "execution_count": 0,
      "outputs": [
        {
          "output_type": "stream",
          "text": [
            "Downloading data from https://github.com/fchollet/deep-learning-models/releases/download/v0.1/vgg16_weights_tf_dim_ordering_tf_kernels_notop.h5\n",
            "58892288/58889256 [==============================] - 2s 0us/step\n"
          ],
          "name": "stdout"
        }
      ]
    },
    {
      "metadata": {
        "id": "roEe4Yh9iyrL",
        "colab_type": "code",
        "colab": {
          "autoexec": {
            "startup": false,
            "wait_interval": 0
          }
        }
      },
      "cell_type": "code",
      "source": [
        "# Pre-process X.\n",
        "newXtrain=modelXceptionTF.predict(xTrain)\n",
        "\n",
        "# Pre-process X.\n",
        "newXtest=modelXceptionTF.predict(xTest)"
      ],
      "execution_count": 0,
      "outputs": []
    },
    {
      "metadata": {
        "id": "5PLUnq9SiyrN",
        "colab_type": "code",
        "colab": {
          "autoexec": {
            "startup": false,
            "wait_interval": 0
          },
          "base_uri": "https://localhost:8080/",
          "height": 34
        },
        "outputId": "82d33515-acf0-4815-cad2-4b605c03d3ba",
        "executionInfo": {
          "status": "ok",
          "timestamp": 1531592986703,
          "user_tz": 300,
          "elapsed": 293,
          "user": {
            "displayName": "Jesus Solano",
            "photoUrl": "https://lh3.googleusercontent.com/a/default-user=s128",
            "userId": "111266076568687218605"
          }
        }
      },
      "cell_type": "code",
      "source": [
        "newXtrain.shape"
      ],
      "execution_count": 0,
      "outputs": [
        {
          "output_type": "execute_result",
          "data": {
            "text/plain": [
              "(420, 9, 9, 512)"
            ]
          },
          "metadata": {
            "tags": []
          },
          "execution_count": 23
        }
      ]
    },
    {
      "metadata": {
        "id": "0RYp3hjIwQCW",
        "colab_type": "code",
        "colab": {
          "autoexec": {
            "startup": false,
            "wait_interval": 0
          }
        }
      },
      "cell_type": "code",
      "source": [
        "\n",
        "K.clear_session()"
      ],
      "execution_count": 0,
      "outputs": []
    },
    {
      "metadata": {
        "id": "meKYZzFgiyrP",
        "colab_type": "code",
        "colab": {
          "autoexec": {
            "startup": false,
            "wait_interval": 0
          },
          "base_uri": "https://localhost:8080/",
          "height": 326
        },
        "outputId": "42f998de-c84b-4a0b-ff8d-cda85696eb06",
        "executionInfo": {
          "status": "ok",
          "timestamp": 1531593208653,
          "user_tz": 300,
          "elapsed": 136,
          "user": {
            "displayName": "Jesus Solano",
            "photoUrl": "https://lh3.googleusercontent.com/a/default-user=s128",
            "userId": "111266076568687218605"
          }
        }
      },
      "cell_type": "code",
      "source": [
        "from keras.models import Sequential\n",
        "from keras.layers import Conv2D, MaxPooling2D\n",
        "from keras.layers import Activation, Dropout, Flatten, Dense\n",
        "from keras import backend as K\n",
        "import keras.optimizers as opts\n",
        "from livelossplot import PlotLossesKeras\n",
        "\n",
        "# Model structure.\n",
        "outputClasses = 6\n",
        "\n",
        "# Create the model. \n",
        "cnn_transfer = Sequential()\n",
        "\n",
        "# Apply a convolutional layer. \n",
        "cnn_transfer.add(Flatten(input_shape=newXtrain.shape[1:]))\n",
        "\n",
        "# Add the fully connected.\n",
        "cnn_transfer.add(Dense(256, activation='relu'))\n",
        "\n",
        "# Add a dropout.\n",
        "cnn_transfer.add(Dropout(0.3))\n",
        "\n",
        "# Add the fully connected.\n",
        "cnn_transfer.add(Dense(outputClasses))\n",
        "\n",
        "# Add the activation softmax.\n",
        "cnn_transfer.add(Activation('softmax'))\n",
        "\n",
        "print(cnn_transfer.summary(70))\n",
        "\n",
        "# Compile the model. \n",
        "op=opts.Adadelta(lr=0.001, rho=0.95, epsilon=None, decay=0.0)\n",
        "cnn_transfer.compile(loss = 'categorical_crossentropy',\n",
        "              optimizer = 'rmsprop',\n",
        "              metrics = ['accuracy'])\n",
        "\n",
        "batch_size = 128\n",
        "epochs = 100\n",
        "\n",
        "trainingCNN_Transfer = cnn_transfer.fit(newXtrain, yTrain,\n",
        "                    batch_size=batch_size,\n",
        "                    epochs=epochs,\n",
        "                    verbose=1,\n",
        "                    shuffle = True, \n",
        "                    validation_split = 0.15,\n",
        "                    callbacks=[PlotLossesKeras()])\n"
      ],
      "execution_count": 0,
      "outputs": [
        {
          "output_type": "display_data",
          "data": {
            "image/png": "[encoded data removed]",
            "text/plain": [
              "<matplotlib.figure.Figure at 0x7f7a4f0814a8>"
            ]
          },
          "metadata": {
            "tags": []
          }
        }
      ]
    },
    {
      "metadata": {
        "id": "JGDF2QdMiyrY",
        "colab_type": "code",
        "colab": {
          "autoexec": {
            "startup": false,
            "wait_interval": 0
          },
          "base_uri": "https://localhost:8080/",
          "height": 102
        },
        "outputId": "f1d6be57-ff72-48d1-aa47-f1d2fd6d4eaa",
        "executionInfo": {
          "status": "ok",
          "timestamp": 1531593239222,
          "user_tz": 300,
          "elapsed": 328,
          "user": {
            "displayName": "Jesus Solano",
            "photoUrl": "https://lh3.googleusercontent.com/a/default-user=s128",
            "userId": "111266076568687218605"
          }
        }
      },
      "cell_type": "code",
      "source": [
        "# Perform the neural network over the test set. \n",
        "print('Evaluating the test set...')\n",
        "score = cnn_transfer.evaluate(newXtest, yTest)\n",
        "\n",
        "print('\\nTest score:', score[0])\n",
        "print('Test accuracy:', score[1])"
      ],
      "execution_count": 0,
      "outputs": [
        {
          "output_type": "stream",
          "text": [
            "Evaluating the test set...\n",
            "180/180 [==============================] - 0s 464us/step\n",
            "\n",
            "Test score: 0.5372701148217554\n",
            "Test accuracy: 0.9666666640175714\n"
          ],
          "name": "stdout"
        }
      ]
    },
    {
      "metadata": {
        "id": "m2cegctiiyra",
        "colab_type": "code",
        "colab": {
          "autoexec": {
            "startup": false,
            "wait_interval": 0
          },
          "base_uri": "https://localhost:8080/",
          "height": 252
        },
        "outputId": "09da2033-121d-4ab9-dc95-efd74ba91fb6",
        "executionInfo": {
          "status": "ok",
          "timestamp": 1531520891380,
          "user_tz": 300,
          "elapsed": 588,
          "user": {
            "displayName": "sergi castel",
            "photoUrl": "//lh5.googleusercontent.com/-t7uPTy_PD5c/AAAAAAAAAAI/AAAAAAAABjU/YrQqLvCov5A/s50-c-k-no/photo.jpg",
            "userId": "104485759475975710875"
          }
        }
      },
      "cell_type": "code",
      "source": [
        "from sklearn.metrics import confusion_matrix,classification_report\n",
        "import pandas as pd\n",
        "import numpy as np\n",
        "\n",
        "# Set the classes' names.\n",
        "target_names = ['egr','man','owl','puf','tou','wod']\n",
        "\n",
        "# Predict class in test.\n",
        "Y_pred = cnn_transfer.predict(newXtest)\n",
        "\n",
        "# Choose the class with higher probability.\n",
        "y_pred = np.argmax(Y_pred, axis=1)\n",
        "\n",
        "print('-------------------------------------------------')\n",
        "print('-------------------------------------------------')\n",
        "print('-----------------Confusion Matrix----------------')\n",
        "print(pd.DataFrame(confusion_matrix(yTest.argmax(axis=1), y_pred),columns=target_names, index=target_names))\n",
        "print('-------------------------------------------------')\n",
        "print('-------------------------------------------------\\n')\n",
        "print('---------------Classification Report-------------')\n",
        "\n",
        "print(classification_report(yTest.argmax(axis=1), y_pred, target_names=target_names))"
      ],
      "execution_count": 0,
      "outputs": [
        {
          "output_type": "stream",
          "text": [
            "-------------------------------------------------\n",
            "-------------------------------------------------\n",
            "-----------------Confusion Matrix----------------\n",
            "     egr  man  owl  puf  tou  wod\n",
            "egr    9    5   10    3    2    0\n",
            "man    2   22    1    1    1    6\n",
            "owl    1    1   27    2    0    2\n",
            "puf    2    5    8   10    0    9\n",
            "tou    2    9    1    0   13    2\n",
            "wod    0    8    1    1    1   13\n",
            "-------------------------------------------------\n",
            "-------------------------------------------------\n",
            "\n",
            "---------------Classification Report-------------\n"
          ],
          "name": "stdout"
        }
      ]
    },
    {
      "metadata": {
        "id": "Z5l9aEkKiyrd",
        "colab_type": "text"
      },
      "cell_type": "markdown",
      "source": [
        "# Fine Tuning "
      ]
    },
    {
      "metadata": {
        "id": "iZq6WOw4iyre",
        "colab_type": "text"
      },
      "cell_type": "markdown",
      "source": [
        "We use the pre-trained CNN model as a feature extractor. The pretrained model was 'Xception'. We also replace the top part of the pretrained CNN with two layers of 256 and 6 neurons respectively. Weigths in Xception are also trained."
      ]
    },
    {
      "metadata": {
        "id": "cTXqrgUhxfPp",
        "colab_type": "code",
        "colab": {
          "autoexec": {
            "startup": false,
            "wait_interval": 0
          }
        }
      },
      "cell_type": "code",
      "source": [
        "\n",
        "K.clear_session()"
      ],
      "execution_count": 0,
      "outputs": []
    },
    {
      "metadata": {
        "id": "DrI1hf8siyrf",
        "colab_type": "code",
        "colab": {
          "autoexec": {
            "startup": false,
            "wait_interval": 0
          },
          "base_uri": "https://localhost:8080/",
          "height": 340
        },
        "outputId": "f0b9c593-6571-4965-8554-df8a0f143b65",
        "executionInfo": {
          "status": "ok",
          "timestamp": 1531591809645,
          "user_tz": 300,
          "elapsed": 15967,
          "user": {
            "displayName": "Jesus Solano",
            "photoUrl": "https://lh3.googleusercontent.com/a/default-user=s128",
            "userId": "111266076568687218605"
          }
        }
      },
      "cell_type": "code",
      "source": [
        "from keras.applications.xception import Xception\n",
        "from keras.models import Sequential\n",
        "from keras.layers import Conv2D, MaxPooling2D\n",
        "from keras.layers import Activation, Dropout, Flatten, Dense\n",
        "from keras import backend as K\n",
        "import keras.optimizers as opts\n",
        "from livelossplot import PlotLossesKeras\n",
        "\n",
        "# Model structure.\n",
        "outputClasses = 6\n",
        "\n",
        "# Load pretrained model..\n",
        "modelXception = Xception(weights='imagenet', include_top=False, input_shape=(xsize,ysize,3))\n",
        "#modelXception = VGG16(weights='imagenet', include_top=False, input_shape=(xsize,ysize,3))\n",
        "\n",
        "# Create the model. \n",
        "modelFineTuning = Sequential()\n",
        "\n",
        "# Add pretrained model. \n",
        "modelFineTuning.add(modelXception)\n",
        "\n",
        "# Apply a convolutional layer. \n",
        "modelFineTuning.add(Flatten())\n",
        "\n",
        "# Add the fully connected.\n",
        "modelFineTuning.add(Dense(256, activation='softmax'))\n",
        "\n",
        "# Add a dropout.\n",
        "modelFineTuning.add(Dropout(0.5))\n",
        "\n",
        "# Add the fully connected.\n",
        "modelFineTuning.add(Dense(outputClasses))\n",
        "\n",
        "# Add the activation softmax.\n",
        "modelFineTuning.add(Activation('softmax'))\n",
        "\n",
        "modelFineTuning.summary(70)"
      ],
      "execution_count": 0,
      "outputs": [
        {
          "output_type": "stream",
          "text": [
            "______________________________________________________________________\n",
            "Layer (type)                   Output Shape                Param #    \n",
            "======================================================================\n",
            "xception (Model)               (None, 10, 10, 2048)        20861480   \n",
            "______________________________________________________________________\n",
            "flatten_1 (Flatten)            (None, 204800)              0          \n",
            "______________________________________________________________________\n",
            "dense_1 (Dense)                (None, 256)                 52429056   \n",
            "______________________________________________________________________\n",
            "dropout_1 (Dropout)            (None, 256)                 0          \n",
            "______________________________________________________________________\n",
            "dense_2 (Dense)                (None, 6)                   1542       \n",
            "______________________________________________________________________\n",
            "activation_1 (Activation)      (None, 6)                   0          \n",
            "======================================================================\n",
            "Total params: 73,292,078\n",
            "Trainable params: 73,237,550\n",
            "Non-trainable params: 54,528\n",
            "______________________________________________________________________\n"
          ],
          "name": "stdout"
        }
      ]
    },
    {
      "metadata": {
        "id": "bDMcnS0niyrl",
        "colab_type": "code",
        "colab": {
          "autoexec": {
            "startup": false,
            "wait_interval": 0
          },
          "base_uri": "https://localhost:8080/",
          "height": 326
        },
        "outputId": "f02e4585-0aea-4203-8285-390460c08bbb",
        "executionInfo": {
          "status": "ok",
          "timestamp": 1531592776270,
          "user_tz": 300,
          "elapsed": 158,
          "user": {
            "displayName": "Jesus Solano",
            "photoUrl": "https://lh3.googleusercontent.com/a/default-user=s128",
            "userId": "111266076568687218605"
          }
        }
      },
      "cell_type": "code",
      "source": [
        "# Compile the model. \n",
        "op=opts.Adadelta(lr=0.001, rho=0.95, epsilon=None, decay=0.0)\n",
        "#op=opts.RMSprop()\n",
        "modelFineTuning.compile(loss = 'categorical_crossentropy',\n",
        "              optimizer = op,\n",
        "              metrics = ['accuracy'])\n",
        "\n",
        "batch_size = 16\n",
        "epochs = 25\n",
        "\n",
        "# Train Model.\n",
        "trainingCNN_FineTuning = modelFineTuning.fit(xTrain, yTrain,\n",
        "                    batch_size=batch_size,\n",
        "                    epochs=epochs,\n",
        "                    verbose=1,\n",
        "                    shuffle = True, \n",
        "                    validation_split =0.1,callbacks=[PlotLossesKeras()])"
      ],
      "execution_count": 0,
      "outputs": [
        {
          "output_type": "display_data",
          "data": {
            "image/png": "[encoded data removed]",
            "text/plain": [
              "<matplotlib.figure.Figure at 0x7f7a4f2fed30>"
            ]
          },
          "metadata": {
            "tags": []
          }
        }
      ]
    },
    {
      "metadata": {
        "id": "qjENYk3viyrp",
        "colab_type": "code",
        "colab": {
          "autoexec": {
            "startup": false,
            "wait_interval": 0
          },
          "base_uri": "https://localhost:8080/",
          "height": 102
        },
        "outputId": "187110c5-baee-4d55-f8e9-52d6339a82b6",
        "executionInfo": {
          "status": "ok",
          "timestamp": 1531592782620,
          "user_tz": 300,
          "elapsed": 6304,
          "user": {
            "displayName": "Jesus Solano",
            "photoUrl": "https://lh3.googleusercontent.com/a/default-user=s128",
            "userId": "111266076568687218605"
          }
        }
      },
      "cell_type": "code",
      "source": [
        "# Perform the neural network over the test set. \n",
        "print('Evaluating the test set...')\n",
        "score = modelFineTuning.evaluate(xTest, yTest)\n",
        "\n",
        "print('\\nTest score:', score[0])\n",
        "print('Test accuracy:', score[1])"
      ],
      "execution_count": 0,
      "outputs": [
        {
          "output_type": "stream",
          "text": [
            "Evaluating the test set...\n",
            "180/180 [==============================] - 6s 33ms/step\n",
            "\n",
            "Test score: 1.730334793196784\n",
            "Test accuracy: 0.5777777791023254\n"
          ],
          "name": "stdout"
        }
      ]
    },
    {
      "metadata": {
        "id": "YxMMbhDPiyrs",
        "colab_type": "code",
        "colab": {
          "autoexec": {
            "startup": false,
            "wait_interval": 0
          }
        }
      },
      "cell_type": "code",
      "source": [
        "from sklearn.metrics import confusion_matrix,classification_report\n",
        "import pandas as pd\n",
        "import numpy as np\n",
        "\n",
        "# Set the classes' names.\n",
        "target_names = ['egr','man','owl','puf','tou','wod']\n",
        "\n",
        "# Predict class in test.\n",
        "Y_pred = modelFineTuning.predict(xTest)\n",
        "\n",
        "# Choose the class with higher probability.\n",
        "y_pred = np.argmax(Y_pred, axis=1)\n",
        "\n",
        "print('-------------------------------------------------')\n",
        "print('-------------------------------------------------')\n",
        "print('-----------------Confusion Matrix----------------')\n",
        "print(pd.DataFrame(confusion_matrix(yTest.argmax(axis=1), y_pred),columns=target_names, index=target_names))\n",
        "print('-------------------------------------------------')\n",
        "print('-------------------------------------------------\\n')\n",
        "print('---------------Classification Report-------------')\n",
        "\n",
        "print(classification_report(yTest.argmax(axis=1), y_pred, target_names=target_names))"
      ],
      "execution_count": 0,
      "outputs": []
    }
  ]
}