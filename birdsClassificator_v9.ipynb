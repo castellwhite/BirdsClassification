{
  "nbformat": 4,
  "nbformat_minor": 0,
  "metadata": {
    "colab": {
      "name": "birdsClassificator_v9.ipynb",
      "version": "0.3.2",
      "views": {},
      "default_view": {},
      "provenance": [
        {
          "file_id": "https://github.com/jesugome/birdsClassification/blob/master/birdsClassificator_v8.ipynb",
          "timestamp": 1531676813982
        },
        {
          "file_id": "https://github.com/jesugome/birdsClassification/blob/master/birdsClassificator_v4.ipynb",
          "timestamp": 1531517292920
        }
      ],
      "collapsed_sections": []
    },
    "kernelspec": {
      "display_name": "Python 3",
      "language": "python",
      "name": "python3"
    },
    "accelerator": "GPU"
  },
  "cells": [
    {
      "metadata": {
        "id": "D-IYY_18jIRx",
        "colab_type": "text"
      },
      "cell_type": "markdown",
      "source": [
        "\n",
        "![Image of Yaktocat](https://github.com/jesugome/InfluencersInSocialNetworks/raw/master/logoAnalytics.png)"
      ]
    },
    {
      "metadata": {
        "id": "MI2dRJ_0iyqC",
        "colab_type": "text"
      },
      "cell_type": "markdown",
      "source": [
        "\n",
        "# Birds\n",
        "\n",
        "![Image of Yaktocat](http://tremendouswallpapers.com/wp-content/uploads/2014/12/Venette-Waste_Trend-F-W-14-15_Neat-Graphics_mandarin-duck.jpg)\n",
        "    \n",
        " ## Machine Learning Project\n",
        "\n",
        "Developed by [Jesus Solano](http://www.jesussolano.com/) -- [Sergio Castelblanco](http://www.jesussolano.com/) -- [Jose Sandoval](http://www.jesussolano.com/) -- [Aleksey Sepulveda](http://www.jesussolano.com/)\n",
        "\n",
        "\n",
        "version 9.1, July 15 2018"
      ]
    },
    {
      "metadata": {
        "id": "jrgWljsfiyqD",
        "colab_type": "text"
      },
      "cell_type": "markdown",
      "source": [
        "## Load Datasets"
      ]
    },
    {
      "metadata": {
        "id": "tsQc5VkZ6Ku9",
        "colab_type": "code",
        "colab": {
          "autoexec": {
            "startup": false,
            "wait_interval": 0
          },
          "base_uri": "https://localhost:8080/",
          "height": 617
        },
        "outputId": "0eaa5624-0af8-42e3-9750-152359812dff",
        "executionInfo": {
          "status": "ok",
          "timestamp": 1531688518113,
          "user_tz": 300,
          "elapsed": 5242,
          "user": {
            "displayName": "sergi castel",
            "photoUrl": "//lh5.googleusercontent.com/-t7uPTy_PD5c/AAAAAAAAAAI/AAAAAAAABjU/YrQqLvCov5A/s50-c-k-no/photo.jpg",
            "userId": "104485759475975710875"
          }
        }
      },
      "cell_type": "code",
      "source": [
        "# Download datasets.\n",
        "\n",
        "import os.path\n",
        "import numpy as np\n",
        "\n",
        "# If datasets already exist do nothing. \n",
        "\n",
        "if not os.path.exists('birds.zip'):\n",
        "  ! wget http://www-cvr.ai.uiuc.edu/ponce_grp/data/birds/birds.zip\n",
        "    \n",
        "if not os.path.exists('birds_f_numbers.txt'):\n",
        "  ! wget http://www-cvr.ai.uiuc.edu/ponce_grp/data/birds/birds_f_numbers.txt\n",
        "    \n",
        "if not os.path.exists('birds_training_pairs.txt'):\n",
        "  ! wget http://www-cvr.ai.uiuc.edu/ponce_grp/data/birds/birds_training_pairs.txt\n"
      ],
      "execution_count": 2,
      "outputs": [
        {
          "output_type": "stream",
          "text": [
            "--2018-07-15 21:01:53--  http://www-cvr.ai.uiuc.edu/ponce_grp/data/birds/birds.zip\n",
            "Resolving www-cvr.ai.uiuc.edu (www-cvr.ai.uiuc.edu)... 128.174.227.253\n",
            "Connecting to www-cvr.ai.uiuc.edu (www-cvr.ai.uiuc.edu)|128.174.227.253|:80... connected.\n",
            "HTTP request sent, awaiting response... 200 OK\n",
            "Length: 43988823 (42M) [application/zip]\n",
            "Saving to: ‘birds.zip’\n",
            "\n",
            "birds.zip           100%[===================>]  41.95M  41.9MB/s    in 1.0s    \n",
            "\n",
            "2018-07-15 21:01:54 (41.9 MB/s) - ‘birds.zip’ saved [43988823/43988823]\n",
            "\n",
            "--2018-07-15 21:01:55--  http://www-cvr.ai.uiuc.edu/ponce_grp/data/birds/birds_f_numbers.txt\n",
            "Resolving www-cvr.ai.uiuc.edu (www-cvr.ai.uiuc.edu)... 128.174.227.253\n",
            "Connecting to www-cvr.ai.uiuc.edu (www-cvr.ai.uiuc.edu)|128.174.227.253|:80... connected.\n",
            "HTTP request sent, awaiting response... 200 OK\n",
            "Length: 4656 (4.5K) [text/plain]\n",
            "Saving to: ‘birds_f_numbers.txt’\n",
            "\n",
            "birds_f_numbers.txt 100%[===================>]   4.55K  --.-KB/s    in 0s      \n",
            "\n",
            "2018-07-15 21:01:55 (313 MB/s) - ‘birds_f_numbers.txt’ saved [4656/4656]\n",
            "\n",
            "--2018-07-15 21:01:56--  http://www-cvr.ai.uiuc.edu/ponce_grp/data/birds/birds_training_pairs.txt\n",
            "Resolving www-cvr.ai.uiuc.edu (www-cvr.ai.uiuc.edu)... 128.174.227.253\n",
            "Connecting to www-cvr.ai.uiuc.edu (www-cvr.ai.uiuc.edu)|128.174.227.253|:80... connected.\n",
            "HTTP request sent, awaiting response... 200 OK\n",
            "Length: 3013 (2.9K) [text/plain]\n",
            "Saving to: ‘birds_training_pairs.txt’\n",
            "\n",
            "birds_training_pair 100%[===================>]   2.94K  --.-KB/s    in 0s      \n",
            "\n",
            "2018-07-15 21:01:56 (270 MB/s) - ‘birds_training_pairs.txt’ saved [3013/3013]\n",
            "\n"
          ],
          "name": "stdout"
        }
      ]
    },
    {
      "metadata": {
        "id": "G4i5fcv_8UUO",
        "colab_type": "code",
        "colab": {
          "autoexec": {
            "startup": false,
            "wait_interval": 0
          }
        }
      },
      "cell_type": "code",
      "source": [
        "import os \n",
        "import zipfile\n",
        "\n",
        "# Extract images zip file\n",
        "with zipfile.ZipFile(\"birds.zip\",\"r\") as zip_ref:\n",
        "    zip_ref.extractall(os.getcwd())"
      ],
      "execution_count": 0,
      "outputs": []
    },
    {
      "metadata": {
        "id": "KwEH1Zy68ne2",
        "colab_type": "code",
        "colab": {
          "autoexec": {
            "startup": false,
            "wait_interval": 0
          },
          "base_uri": "https://localhost:8080/",
          "height": 305
        },
        "outputId": "d2aae9d7-68ce-413f-e9ff-e6444c6747b5",
        "executionInfo": {
          "status": "ok",
          "timestamp": 1531688536432,
          "user_tz": 300,
          "elapsed": 7817,
          "user": {
            "displayName": "sergi castel",
            "photoUrl": "//lh5.googleusercontent.com/-t7uPTy_PD5c/AAAAAAAAAAI/AAAAAAAABjU/YrQqLvCov5A/s50-c-k-no/photo.jpg",
            "userId": "104485759475975710875"
          }
        }
      },
      "cell_type": "code",
      "source": [
        "# Shows an image example of training set.\n",
        "%matplotlib inline\n",
        "\n",
        "import matplotlib.pyplot as plt\n",
        "from keras.preprocessing.image import ImageDataGenerator, array_to_img, img_to_array, load_img\n",
        "\n",
        "img = load_img('birds/egret/egr013.jpg',grayscale=False,target_size=(256,256),interpolation='nearest') \n",
        "x= img_to_array(img)\n",
        "plt.imshow(x/255)\n"
      ],
      "execution_count": 4,
      "outputs": [
        {
          "output_type": "stream",
          "text": [
            "Using TensorFlow backend.\n"
          ],
          "name": "stderr"
        },
        {
          "output_type": "execute_result",
          "data": {
            "text/plain": [
              "<matplotlib.image.AxesImage at 0x7f068a0cceb8>"
            ]
          },
          "metadata": {
            "tags": []
          },
          "execution_count": 4
        },
        {
          "output_type": "display_data",
          "data": {
            "image/png": "[encoded data removed]",
            "text/plain": [
              "<matplotlib.figure.Figure at 0x7f06cdcc23c8>"
            ]
          },
          "metadata": {
            "tags": []
          }
        }
      ]
    },
    {
      "metadata": {
        "id": "P-Q1tp48-bk9",
        "colab_type": "code",
        "colab": {
          "autoexec": {
            "startup": false,
            "wait_interval": 0
          }
        }
      },
      "cell_type": "code",
      "source": [
        "# Create a random sorted list to split set of images in train and test.\n",
        "import random\n",
        "\n",
        "randomList= random.sample(range(1,101),100)\n",
        "\n",
        "formating = \"{:03d}\".format\n",
        "\n",
        "formatedList = [formating(item) for item in randomList]"
      ],
      "execution_count": 0,
      "outputs": []
    },
    {
      "metadata": {
        "id": "2UWh-SYzBSEQ",
        "colab_type": "code",
        "colab": {
          "autoexec": {
            "startup": false,
            "wait_interval": 0
          }
        }
      },
      "cell_type": "code",
      "source": [
        "from PIL import Image\n",
        "\n",
        "# The target size is set due to Xception neural networks requisities. \n",
        "\n",
        "xsize = 299\n",
        "ysize = 299\n",
        "\n",
        "paths=['egret','mandarin','owl','puffin','toucan','wood_duck']\n",
        "\n",
        "maxImage= 80\n",
        "\n",
        "pre=''\n",
        "birdKind=-1\n",
        "\n",
        "xL=[]\n",
        "yL=[]\n",
        "\n",
        "\n",
        "# For to read, resize and split data into train and test.\n",
        "for j in paths[:]:\n",
        "    if(j=='egret'):\n",
        "        pre='/egr'\n",
        "        birdKind=0\n",
        "    elif(j=='mandarin'):\n",
        "        pre='/man'\n",
        "        birdKind=1\n",
        "    elif(j=='owl'):\n",
        "        pre='/owl'\n",
        "        birdKind=2\n",
        "    elif(j=='puffin'):\n",
        "        pre='/puf'\n",
        "        birdKind=3\n",
        "    elif(j=='toucan'):\n",
        "        pre='/tou'\n",
        "        birdKind=4\n",
        "    elif(j=='wood_duck'):\n",
        "        pre='/wod'\n",
        "        birdKind=5\n",
        "\n",
        "        \n",
        "    counter=0\n",
        "    for i in formatedList[:]:\n",
        "        \n",
        "        # Resize images to 224X224\n",
        "        \n",
        "        img = Image.open('birds/'+j+pre+i+'.jpg')\n",
        "        wpercent = (xsize/float(img.size[0]))\n",
        "        img = img.resize((xsize,ysize), Image.ANTIALIAS)\n",
        "        img.save('birds/'+j+pre+i+'.jpg')\n",
        "        \n",
        "        # Load resized image to save into train or test array.\n",
        "        img = load_img('birds/'+j+pre+i+'.jpg',grayscale=False,target_size=(xsize,ysize),interpolation='nearest') \n",
        "        x= img_to_array(img)\n",
        "        \n",
        "        xL.append(x)\n",
        "        yL.append(birdKind)\n",
        "          \n",
        "        counter=counter+1\n",
        "        "
      ],
      "execution_count": 0,
      "outputs": []
    },
    {
      "metadata": {
        "id": "xdBcg35RiyqU",
        "colab_type": "code",
        "colab": {
          "autoexec": {
            "startup": false,
            "wait_interval": 0
          }
        }
      },
      "cell_type": "code",
      "source": [
        "# Convert lists to arrays.\n",
        "from sklearn.model_selection import train_test_split\n",
        "\n",
        "xList=np.asarray(xL)\n",
        "yList=np.asarray(yL)\n",
        "\n",
        "from sklearn.preprocessing import LabelEncoder\n",
        "from keras.utils import np_utils\n",
        "\n",
        "# Encode class values as integers.\n",
        "encoder = LabelEncoder()\n",
        "encoder.fit(yList)\n",
        "encoded_Y = encoder.transform(yList)\n",
        "# Convert integers to dummy variables (i.e. one hot encoded)\n",
        "y = np_utils.to_categorical(encoded_Y)\n",
        "\n",
        "xTrain,xTest,yTrain,yTest = train_test_split(xList, y, test_size=0.3, random_state=22)"
      ],
      "execution_count": 0,
      "outputs": []
    },
    {
      "metadata": {
        "id": "R6JSxbSjBW6J",
        "colab_type": "code",
        "colab": {
          "autoexec": {
            "startup": false,
            "wait_interval": 0
          },
          "base_uri": "https://localhost:8080/",
          "height": 163
        },
        "outputId": "12c7ea99-5fbf-4518-d2d1-2e6c669f60e3",
        "executionInfo": {
          "status": "ok",
          "timestamp": 1531688642923,
          "user_tz": 300,
          "elapsed": 1730,
          "user": {
            "displayName": "sergi castel",
            "photoUrl": "//lh5.googleusercontent.com/-t7uPTy_PD5c/AAAAAAAAAAI/AAAAAAAABjU/YrQqLvCov5A/s50-c-k-no/photo.jpg",
            "userId": "104485759475975710875"
          }
        }
      },
      "cell_type": "code",
      "source": [
        "# Delete pre existing files.\n",
        "! rm -r datasets/\n",
        "yTrain"
      ],
      "execution_count": 8,
      "outputs": [
        {
          "output_type": "stream",
          "text": [
            "rm: cannot remove 'datasets/': No such file or directory\r\n"
          ],
          "name": "stdout"
        },
        {
          "output_type": "execute_result",
          "data": {
            "text/plain": [
              "array([[0., 0., 1., 0., 0., 0.],\n",
              "       [0., 0., 0., 1., 0., 0.],\n",
              "       [0., 0., 0., 1., 0., 0.],\n",
              "       ...,\n",
              "       [0., 0., 0., 1., 0., 0.],\n",
              "       [0., 0., 0., 1., 0., 0.],\n",
              "       [0., 1., 0., 0., 0., 0.]], dtype=float32)"
            ]
          },
          "metadata": {
            "tags": []
          },
          "execution_count": 8
        }
      ]
    },
    {
      "metadata": {
        "id": "oScjBoKVBduP",
        "colab_type": "code",
        "colab": {
          "autoexec": {
            "startup": false,
            "wait_interval": 0
          }
        },
        "cellView": "both"
      },
      "cell_type": "code",
      "source": [
        "# Copy the images to folder(Not need but useful if we change the train generator)\n",
        "from shutil import copy\n",
        "counter = 0\n",
        "\n",
        "if not os.path.exists('datasets/train/'):\n",
        "  os.makedirs('datasets/train/egr')\n",
        "  os.makedirs('datasets/train/man')\n",
        "  os.makedirs('datasets/train/tou')\n",
        "  os.makedirs('datasets/train/owl')\n",
        "  os.makedirs('datasets/train/puf')\n",
        "  os.makedirs('datasets/train/wod')\n",
        "  \n",
        "if not os.path.exists('datasets/test/'):\n",
        "  os.makedirs('datasets/test/egr')\n",
        "  os.makedirs('datasets/test/man')\n",
        "  os.makedirs('datasets/test/tou')\n",
        "  os.makedirs('datasets/test/owl')\n",
        "  os.makedirs('datasets/test/puf')\n",
        "  os.makedirs('datasets/test/wod')\n",
        "    \n",
        "for i in formatedList[:]:\n",
        "  if counter < maxImage:\n",
        "    copy('birds/egret/egr'+i+'.jpg','datasets/train/egr/egr'+i+'.jpg')\n",
        "    copy('birds/mandarin/man'+i+'.jpg','datasets/train/man/man'+i+'.jpg')\n",
        "    copy('birds/toucan/tou'+i+'.jpg','datasets/train/tou/tou'+i+'.jpg')\n",
        "    copy('birds/owl/owl'+i+'.jpg','datasets/train/owl/owl'+i+'.jpg')\n",
        "    copy('birds/puffin/puf'+i+'.jpg','datasets/train/puf/puf'+i+'.jpg')\n",
        "    copy('birds/wood_duck/wod'+i+'.jpg','datasets/train/wod/wod'+i+'.jpg')\n",
        "  else: \n",
        "      copy('birds/egret/egr'+i+'.jpg','datasets/test/egr/egr'+i+'.jpg')\n",
        "      copy('birds/mandarin/man'+i+'.jpg','datasets/test/man/man'+i+'.jpg')\n",
        "      copy('birds/toucan/tou'+i+'.jpg','datasets/test/tou/tou'+i+'.jpg')\n",
        "      copy('birds/owl/owl'+i+'.jpg','datasets/test/owl/owl'+i+'.jpg')\n",
        "      copy('birds/puffin/puf'+i+'.jpg','datasets/test/puf/puf'+i+'.jpg')\n",
        "      copy('birds/wood_duck/wod'+i+'.jpg','datasets/test/wod/wod'+i+'.jpg')\n",
        "      \n",
        "  counter=counter+1"
      ],
      "execution_count": 0,
      "outputs": []
    },
    {
      "metadata": {
        "id": "aIy9QA4WBilr",
        "colab_type": "code",
        "colab": {
          "autoexec": {
            "startup": false,
            "wait_interval": 0
          }
        }
      },
      "cell_type": "code",
      "source": [
        "# Images general information.\n",
        "\n",
        "# Data path information.\n",
        "trainDataPath= 'datasets/train'\n",
        "testDataPath= 'datasets/test'\n",
        "\n",
        "# Images dimensions.\n",
        "widthSize =  299\n",
        "heightSize = 299\n",
        "\n",
        "# Batch Size.\n",
        "\n",
        "batchSize = 32"
      ],
      "execution_count": 0,
      "outputs": []
    },
    {
      "metadata": {
        "id": "FyE2s6Kuiyqg",
        "colab_type": "text"
      },
      "cell_type": "markdown",
      "source": [
        "# Direct Prediction\n",
        "\n"
      ]
    },
    {
      "metadata": {
        "id": "RJCCoS6Diyqg",
        "colab_type": "text"
      },
      "cell_type": "markdown",
      "source": [
        "### Build CNN \n",
        "We build and train a Convolutional neural network (CNN) to classify the birds' images in six different classes.  "
      ]
    },
    {
      "metadata": {
        "id": "97mw6ND8DcLM",
        "colab_type": "code",
        "colab": {
          "autoexec": {
            "startup": false,
            "wait_interval": 0
          },
          "base_uri": "https://localhost:8080/",
          "height": 799
        },
        "outputId": "40f5732a-6201-490c-f642-0b95b0e6b52e",
        "executionInfo": {
          "status": "ok",
          "timestamp": 1531687214130,
          "user_tz": 300,
          "elapsed": 524,
          "user": {
            "displayName": "sergi castel",
            "photoUrl": "//lh5.googleusercontent.com/-t7uPTy_PD5c/AAAAAAAAAAI/AAAAAAAABjU/YrQqLvCov5A/s50-c-k-no/photo.jpg",
            "userId": "104485759475975710875"
          }
        }
      },
      "cell_type": "code",
      "source": [
        "from keras.models import Sequential\n",
        "from keras.layers import Conv2D, MaxPooling2D\n",
        "from keras.layers import Activation, Dropout, Flatten, Dense\n",
        "from keras import backend as K\n",
        "\n",
        "outputClasses = 6\n",
        "\n",
        "# Define if images have color channels firts in the array.\n",
        "if K.image_data_format() == 'channels_first':\n",
        "    input_shape = (3, widthSize, heightSize)\n",
        "else:\n",
        "    input_shape = (widthSize, heightSize, 3)\n",
        "\n",
        "# Creates a CNN model using keras.\n",
        "\n",
        "model = Sequential()\n",
        "NumN=32\n",
        "NumN2=64\n",
        "\n",
        "model.add(Conv2D(NumN, (3, 3), input_shape=input_shape))\n",
        "model.add(Activation('tanh'))\n",
        "model.add(MaxPooling2D(pool_size=(2, 2)))\n",
        "model.add(Dropout(0.5))\n",
        "\n",
        "model.add(Conv2D(NumN, (3, 3)))\n",
        "model.add(Activation('tanh'))\n",
        "model.add(MaxPooling2D(pool_size=(2, 2)))\n",
        "model.add(Dropout(0.5))\n",
        "\n",
        "model.add(Conv2D(NumN2, (3, 3)))\n",
        "model.add(Activation('tanh'))\n",
        "model.add(MaxPooling2D(pool_size=(2, 2)))\n",
        "model.add(Dropout(0.5))\n",
        "\n",
        "model.add(Flatten())\n",
        "model.add(Dense(NumN2))\n",
        "model.add(Activation('tanh'))\n",
        "model.add(Dropout(0.5))\n",
        "model.add(Dense(outputClasses))\n",
        "model.add(Activation('softmax'))\n",
        "\n",
        "model.summary()"
      ],
      "execution_count": 16,
      "outputs": [
        {
          "output_type": "stream",
          "text": [
            "_________________________________________________________________\n",
            "Layer (type)                 Output Shape              Param #   \n",
            "=================================================================\n",
            "conv2d_4 (Conv2D)            (None, 297, 297, 32)      896       \n",
            "_________________________________________________________________\n",
            "activation_6 (Activation)    (None, 297, 297, 32)      0         \n",
            "_________________________________________________________________\n",
            "max_pooling2d_4 (MaxPooling2 (None, 148, 148, 32)      0         \n",
            "_________________________________________________________________\n",
            "dropout_5 (Dropout)          (None, 148, 148, 32)      0         \n",
            "_________________________________________________________________\n",
            "conv2d_5 (Conv2D)            (None, 146, 146, 32)      9248      \n",
            "_________________________________________________________________\n",
            "activation_7 (Activation)    (None, 146, 146, 32)      0         \n",
            "_________________________________________________________________\n",
            "max_pooling2d_5 (MaxPooling2 (None, 73, 73, 32)        0         \n",
            "_________________________________________________________________\n",
            "dropout_6 (Dropout)          (None, 73, 73, 32)        0         \n",
            "_________________________________________________________________\n",
            "conv2d_6 (Conv2D)            (None, 71, 71, 64)        18496     \n",
            "_________________________________________________________________\n",
            "activation_8 (Activation)    (None, 71, 71, 64)        0         \n",
            "_________________________________________________________________\n",
            "max_pooling2d_6 (MaxPooling2 (None, 35, 35, 64)        0         \n",
            "_________________________________________________________________\n",
            "dropout_7 (Dropout)          (None, 35, 35, 64)        0         \n",
            "_________________________________________________________________\n",
            "flatten_2 (Flatten)          (None, 78400)             0         \n",
            "_________________________________________________________________\n",
            "dense_3 (Dense)              (None, 64)                5017664   \n",
            "_________________________________________________________________\n",
            "activation_9 (Activation)    (None, 64)                0         \n",
            "_________________________________________________________________\n",
            "dropout_8 (Dropout)          (None, 64)                0         \n",
            "_________________________________________________________________\n",
            "dense_4 (Dense)              (None, 6)                 390       \n",
            "_________________________________________________________________\n",
            "activation_10 (Activation)   (None, 6)                 0         \n",
            "=================================================================\n",
            "Total params: 5,046,694\n",
            "Trainable params: 5,046,694\n",
            "Non-trainable params: 0\n",
            "_________________________________________________________________\n"
          ],
          "name": "stdout"
        }
      ]
    },
    {
      "metadata": {
        "id": "efwxFgESdjAI",
        "colab_type": "code",
        "colab": {
          "autoexec": {
            "startup": false,
            "wait_interval": 0
          },
          "base_uri": "https://localhost:8080/",
          "height": 874
        },
        "outputId": "fd2d3374-f4b2-443c-dc74-c6aa1c8b5d24",
        "executionInfo": {
          "status": "ok",
          "timestamp": 1531688727268,
          "user_tz": 300,
          "elapsed": 4843,
          "user": {
            "displayName": "sergi castel",
            "photoUrl": "//lh5.googleusercontent.com/-t7uPTy_PD5c/AAAAAAAAAAI/AAAAAAAABjU/YrQqLvCov5A/s50-c-k-no/photo.jpg",
            "userId": "104485759475975710875"
          }
        }
      },
      "cell_type": "code",
      "source": [
        "!pip3 install livelossplot"
      ],
      "execution_count": 12,
      "outputs": [
        {
          "output_type": "stream",
          "text": [
            "Collecting livelossplot\n",
            "  Downloading https://files.pythonhosted.org/packages/0c/01/3e34559dbdb98580d5e8f62bc3853975c2a2079834bfba2c1bdffe680804/livelossplot-0.2.0.tar.gz\n",
            "Requirement already satisfied: matplotlib in /usr/local/lib/python3.6/dist-packages (from livelossplot) (2.1.2)\n",
            "Requirement already satisfied: notebook in /usr/local/lib/python3.6/dist-packages (from livelossplot) (5.2.2)\n",
            "Requirement already satisfied: cycler>=0.10 in /usr/local/lib/python3.6/dist-packages (from matplotlib->livelossplot) (0.10.0)\n",
            "Requirement already satisfied: python-dateutil>=2.1 in /usr/local/lib/python3.6/dist-packages (from matplotlib->livelossplot) (2.5.3)\n",
            "Requirement already satisfied: pyparsing!=2.0.4,!=2.1.2,!=2.1.6,>=2.0.1 in /usr/local/lib/python3.6/dist-packages (from matplotlib->livelossplot) (2.2.0)\n",
            "Requirement already satisfied: six>=1.10 in /usr/local/lib/python3.6/dist-packages (from matplotlib->livelossplot) (1.11.0)\n",
            "Requirement already satisfied: numpy>=1.7.1 in /usr/local/lib/python3.6/dist-packages (from matplotlib->livelossplot) (1.14.5)\n",
            "Requirement already satisfied: pytz in /usr/local/lib/python3.6/dist-packages (from matplotlib->livelossplot) (2018.5)\n",
            "Requirement already satisfied: nbformat in /usr/local/lib/python3.6/dist-packages (from notebook->livelossplot) (4.4.0)\n",
            "Requirement already satisfied: jinja2 in /usr/local/lib/python3.6/dist-packages (from notebook->livelossplot) (2.10)\n",
            "Requirement already satisfied: tornado>=4 in /usr/local/lib/python3.6/dist-packages (from notebook->livelossplot) (4.5.3)\n",
            "Requirement already satisfied: jupyter-client in /usr/local/lib/python3.6/dist-packages (from notebook->livelossplot) (5.2.3)\n",
            "Requirement already satisfied: terminado>=0.3.3; sys_platform != \"win32\" in /usr/local/lib/python3.6/dist-packages (from notebook->livelossplot) (0.8.1)\n",
            "Requirement already satisfied: jupyter-core in /usr/local/lib/python3.6/dist-packages (from notebook->livelossplot) (4.4.0)\n",
            "Requirement already satisfied: ipykernel in /usr/local/lib/python3.6/dist-packages (from notebook->livelossplot) (4.6.1)\n",
            "Requirement already satisfied: traitlets>=4.2.1 in /usr/local/lib/python3.6/dist-packages (from notebook->livelossplot) (4.3.2)\n",
            "Requirement already satisfied: ipython-genutils in /usr/local/lib/python3.6/dist-packages (from notebook->livelossplot) (0.2.0)\n",
            "Requirement already satisfied: nbconvert in /usr/local/lib/python3.6/dist-packages (from notebook->livelossplot) (5.3.1)\n",
            "Requirement already satisfied: jsonschema!=2.5.0,>=2.4 in /usr/local/lib/python3.6/dist-packages (from nbformat->notebook->livelossplot) (2.6.0)\n",
            "Requirement already satisfied: MarkupSafe>=0.23 in /usr/local/lib/python3.6/dist-packages (from jinja2->notebook->livelossplot) (1.0)\n",
            "Requirement already satisfied: pyzmq>=13 in /usr/local/lib/python3.6/dist-packages (from jupyter-client->notebook->livelossplot) (16.0.4)\n",
            "Requirement already satisfied: ptyprocess; os_name != \"nt\" in /usr/local/lib/python3.6/dist-packages (from terminado>=0.3.3; sys_platform != \"win32\"->notebook->livelossplot) (0.6.0)\n",
            "Requirement already satisfied: ipython>=4.0.0 in /usr/local/lib/python3.6/dist-packages (from ipykernel->notebook->livelossplot) (5.5.0)\n",
            "Requirement already satisfied: decorator in /usr/local/lib/python3.6/dist-packages (from traitlets>=4.2.1->notebook->livelossplot) (4.3.0)\n",
            "Requirement already satisfied: entrypoints>=0.2.2 in /usr/local/lib/python3.6/dist-packages (from nbconvert->notebook->livelossplot) (0.2.3)\n",
            "Requirement already satisfied: pandocfilters>=1.4.1 in /usr/local/lib/python3.6/dist-packages (from nbconvert->notebook->livelossplot) (1.4.2)\n",
            "Requirement already satisfied: testpath in /usr/local/lib/python3.6/dist-packages (from nbconvert->notebook->livelossplot) (0.3.1)\n",
            "Requirement already satisfied: mistune>=0.7.4 in /usr/local/lib/python3.6/dist-packages (from nbconvert->notebook->livelossplot) (0.8.3)\n",
            "Requirement already satisfied: bleach in /usr/local/lib/python3.6/dist-packages (from nbconvert->notebook->livelossplot) (2.1.3)\n",
            "Requirement already satisfied: pygments in /usr/local/lib/python3.6/dist-packages (from nbconvert->notebook->livelossplot) (2.1.3)\n",
            "Requirement already satisfied: prompt-toolkit<2.0.0,>=1.0.4 in /usr/local/lib/python3.6/dist-packages (from ipython>=4.0.0->ipykernel->notebook->livelossplot) (1.0.15)\n",
            "Requirement already satisfied: pexpect; sys_platform != \"win32\" in /usr/local/lib/python3.6/dist-packages (from ipython>=4.0.0->ipykernel->notebook->livelossplot) (4.6.0)\n",
            "Requirement already satisfied: simplegeneric>0.8 in /usr/local/lib/python3.6/dist-packages (from ipython>=4.0.0->ipykernel->notebook->livelossplot) (0.8.1)\n",
            "Requirement already satisfied: pickleshare in /usr/local/lib/python3.6/dist-packages (from ipython>=4.0.0->ipykernel->notebook->livelossplot) (0.7.4)\n",
            "Requirement already satisfied: setuptools>=18.5 in /usr/local/lib/python3.6/dist-packages (from ipython>=4.0.0->ipykernel->notebook->livelossplot) (39.1.0)\n",
            "Requirement already satisfied: html5lib!=1.0b1,!=1.0b2,!=1.0b3,!=1.0b4,!=1.0b5,!=1.0b6,!=1.0b7,!=1.0b8,>=0.99999999pre in /usr/local/lib/python3.6/dist-packages (from bleach->nbconvert->notebook->livelossplot) (1.0.1)\n",
            "Requirement already satisfied: wcwidth in /usr/local/lib/python3.6/dist-packages (from prompt-toolkit<2.0.0,>=1.0.4->ipython>=4.0.0->ipykernel->notebook->livelossplot) (0.1.7)\n",
            "Requirement already satisfied: webencodings in /usr/local/lib/python3.6/dist-packages (from html5lib!=1.0b1,!=1.0b2,!=1.0b3,!=1.0b4,!=1.0b5,!=1.0b6,!=1.0b7,!=1.0b8,>=0.99999999pre->bleach->nbconvert->notebook->livelossplot) (0.5.1)\n",
            "Building wheels for collected packages: livelossplot\n",
            "  Running setup.py bdist_wheel for livelossplot ... \u001b[?25l-\b \b\\\b \bdone\n",
            "\u001b[?25h  Stored in directory: /content/.cache/pip/wheels/67/8b/e9/3990164e3b2a421145b9d9d76fc8aa889225d495b043faeb73\n",
            "Successfully built livelossplot\n",
            "Installing collected packages: livelossplot\n",
            "Successfully installed livelossplot-0.2.0\n"
          ],
          "name": "stdout"
        }
      ]
    },
    {
      "metadata": {
        "id": "h4-w8jvWDfwo",
        "colab_type": "code",
        "colab": {
          "autoexec": {
            "startup": false,
            "wait_interval": 0
          }
        }
      },
      "cell_type": "code",
      "source": [
        "\n",
        "# Compile the convolutional neural network\n",
        "from keras.optimizers import adam\n",
        "from keras.optimizers import SGD\n",
        "from keras.optimizers import adamax\n",
        "from keras.optimizers import RMSprop\n",
        "from livelossplot import PlotLossesKeras\n",
        "\n",
        "#Defines optimizer.\n",
        "op = SGD(lr=0.0001)\n",
        "\n",
        "# Compile the neural network.\n",
        "model.compile(loss='categorical_crossentropy',\n",
        "             optimizer=op,\n",
        "              metrics=['accuracy'])"
      ],
      "execution_count": 0,
      "outputs": []
    },
    {
      "metadata": {
        "id": "V9FS81paiyqr",
        "colab_type": "code",
        "colab": {
          "autoexec": {
            "startup": false,
            "wait_interval": 0
          },
          "base_uri": "https://localhost:8080/",
          "height": 326
        },
        "outputId": "6fc65bf8-07da-4b4e-942c-272dc920988f",
        "executionInfo": {
          "status": "ok",
          "timestamp": 1531687276745,
          "user_tz": 300,
          "elapsed": 146,
          "user": {
            "displayName": "sergi castel",
            "photoUrl": "//lh5.googleusercontent.com/-t7uPTy_PD5c/AAAAAAAAAAI/AAAAAAAABjU/YrQqLvCov5A/s50-c-k-no/photo.jpg",
            "userId": "104485759475975710875"
          }
        }
      },
      "cell_type": "code",
      "source": [
        "batch_size = 35\n",
        "epochs = 15\n",
        "\n",
        "trainingCNN = model.fit(xTrain, yTrain,\n",
        "                    batch_size=batch_size,\n",
        "                    epochs=epochs,\n",
        "                    verbose=1,\n",
        "                    shuffle = False, \n",
        "                    validation_data = [xTest,yTest],callbacks=[PlotLossesKeras()])"
      ],
      "execution_count": 18,
      "outputs": [
        {
          "output_type": "display_data",
          "data": {
            "image/png": "[encoded data removed]",
            "text/plain": [
              "<matplotlib.figure.Figure at 0x7ffb0ffb8f28>"
            ]
          },
          "metadata": {
            "tags": []
          }
        }
      ]
    },
    {
      "metadata": {
        "id": "t593JVgTiyqu",
        "colab_type": "code",
        "colab": {
          "autoexec": {
            "startup": false,
            "wait_interval": 0
          },
          "base_uri": "https://localhost:8080/",
          "height": 108
        },
        "outputId": "f20e8900-42c2-42b0-daa4-92a4df14b77e",
        "executionInfo": {
          "status": "ok",
          "timestamp": 1531687283502,
          "user_tz": 300,
          "elapsed": 2409,
          "user": {
            "displayName": "sergi castel",
            "photoUrl": "//lh5.googleusercontent.com/-t7uPTy_PD5c/AAAAAAAAAAI/AAAAAAAABjU/YrQqLvCov5A/s50-c-k-no/photo.jpg",
            "userId": "104485759475975710875"
          }
        }
      },
      "cell_type": "code",
      "source": [
        "# Perform the neural network over the test set. \n",
        "print('Evaluating the test set...')\n",
        "score = model.evaluate(xTest, yTest)\n",
        "\n",
        "print('\\nTest score:', score[0])\n",
        "print('Test accuracy:', score[1])"
      ],
      "execution_count": 19,
      "outputs": [
        {
          "output_type": "stream",
          "text": [
            "Evaluating the test set...\n",
            "180/180 [==============================] - 1s 6ms/step\n",
            "\n",
            "Test score: 1.9253726058536105\n",
            "Test accuracy: 0.18333333333333332\n"
          ],
          "name": "stdout"
        }
      ]
    },
    {
      "metadata": {
        "id": "5yzJPW-7DrHg",
        "colab_type": "code",
        "colab": {
          "autoexec": {
            "startup": false,
            "wait_interval": 0
          },
          "base_uri": "https://localhost:8080/",
          "height": 528
        },
        "outputId": "b06bbca7-457b-4562-f793-e72794628191",
        "executionInfo": {
          "status": "ok",
          "timestamp": 1531687288788,
          "user_tz": 300,
          "elapsed": 912,
          "user": {
            "displayName": "sergi castel",
            "photoUrl": "//lh5.googleusercontent.com/-t7uPTy_PD5c/AAAAAAAAAAI/AAAAAAAABjU/YrQqLvCov5A/s50-c-k-no/photo.jpg",
            "userId": "104485759475975710875"
          }
        }
      },
      "cell_type": "code",
      "source": [
        "from sklearn.metrics import confusion_matrix,classification_report\n",
        "import pandas as pd\n",
        "import numpy as np\n",
        "\n",
        "# Set the classes' names.\n",
        "target_names = ['egr','man','owl','puf','tou','wod']\n",
        "\n",
        "# Predict class in test.\n",
        "Y_pred = model.predict(xTest)\n",
        "\n",
        "# Choose the class with higher probability.\n",
        "y_pred = np.argmax(Y_pred, axis=1)\n",
        "\n",
        "print('-------------------------------------------------')\n",
        "print('-------------------------------------------------')\n",
        "print('-----------------Confusion Matrix----------------')\n",
        "print(pd.DataFrame(confusion_matrix(np.argmax(yTest,axis=1), y_pred),columns=target_names, index=target_names))\n",
        "print('-------------------------------------------------')\n",
        "print('-------------------------------------------------\\n')\n",
        "print('---------------Classification Report-------------')\n",
        "\n",
        "print(classification_report(np.argmax(yTest,axis=1), y_pred, target_names=target_names))"
      ],
      "execution_count": 20,
      "outputs": [
        {
          "output_type": "stream",
          "text": [
            "-------------------------------------------------\n",
            "-------------------------------------------------\n",
            "-----------------Confusion Matrix----------------\n",
            "     egr  man  owl  puf  tou  wod\n",
            "egr    2    0    0   24    0    3\n",
            "man    1    0    0   28    0    4\n",
            "owl    0    0    0   25    0    8\n",
            "puf    2    0    0   28    0    4\n",
            "tou    0    0    3   17    0    7\n",
            "wod    2    0    2   17    0    3\n",
            "-------------------------------------------------\n",
            "-------------------------------------------------\n",
            "\n",
            "---------------Classification Report-------------\n",
            "             precision    recall  f1-score   support\n",
            "\n",
            "        egr       0.29      0.07      0.11        29\n",
            "        man       0.00      0.00      0.00        33\n",
            "        owl       0.00      0.00      0.00        33\n",
            "        puf       0.20      0.82      0.32        34\n",
            "        tou       0.00      0.00      0.00        27\n",
            "        wod       0.10      0.12      0.11        24\n",
            "\n",
            "avg / total       0.10      0.18      0.09       180\n",
            "\n"
          ],
          "name": "stdout"
        },
        {
          "output_type": "stream",
          "text": [
            "/usr/local/lib/python3.6/dist-packages/sklearn/metrics/classification.py:1135: UndefinedMetricWarning: Precision and F-score are ill-defined and being set to 0.0 in labels with no predicted samples.\n",
            "  'precision', 'predicted', average, warn_for)\n"
          ],
          "name": "stderr"
        }
      ]
    },
    {
      "metadata": {
        "id": "Gg3UAiQKiyq2",
        "colab_type": "text"
      },
      "cell_type": "markdown",
      "source": [
        "## Pretrained CNN - Xception\n"
      ]
    },
    {
      "metadata": {
        "id": "VfZ_sSkjiyq2",
        "colab_type": "code",
        "colab": {
          "autoexec": {
            "startup": false,
            "wait_interval": 0
          },
          "base_uri": "https://localhost:8080/",
          "height": 54
        },
        "outputId": "ce0e49a7-edfb-44b7-f0f3-ae14ce3e3e25",
        "executionInfo": {
          "status": "ok",
          "timestamp": 1531687305515,
          "user_tz": 300,
          "elapsed": 13696,
          "user": {
            "displayName": "sergi castel",
            "photoUrl": "//lh5.googleusercontent.com/-t7uPTy_PD5c/AAAAAAAAAAI/AAAAAAAABjU/YrQqLvCov5A/s50-c-k-no/photo.jpg",
            "userId": "104485759475975710875"
          }
        }
      },
      "cell_type": "code",
      "source": [
        "from keras.applications.xception import Xception\n",
        "modelXception = Xception(weights='imagenet', include_top=True)"
      ],
      "execution_count": 21,
      "outputs": [
        {
          "output_type": "stream",
          "text": [
            "Downloading data from https://github.com/fchollet/deep-learning-models/releases/download/v0.4/xception_weights_tf_dim_ordering_tf_kernels.h5\n",
            "91889664/91884032 [==============================] - 3s 0us/step\n"
          ],
          "name": "stdout"
        }
      ]
    },
    {
      "metadata": {
        "id": "K95sclNjiyq5",
        "colab_type": "code",
        "colab": {
          "autoexec": {
            "startup": false,
            "wait_interval": 0
          },
          "base_uri": "https://localhost:8080/",
          "height": 272
        },
        "outputId": "84cf919a-052a-4a5a-8059-004b5ed47b6d",
        "executionInfo": {
          "status": "ok",
          "timestamp": 1531687325029,
          "user_tz": 300,
          "elapsed": 7955,
          "user": {
            "displayName": "sergi castel",
            "photoUrl": "//lh5.googleusercontent.com/-t7uPTy_PD5c/AAAAAAAAAAI/AAAAAAAABjU/YrQqLvCov5A/s50-c-k-no/photo.jpg",
            "userId": "104485759475975710875"
          }
        }
      },
      "cell_type": "code",
      "source": [
        "# Predict probabilities for each sample in test.\n",
        "yPred1000P=modelXception.predict(xTest)\n",
        "\n",
        "# Predict class for each sample in test.\n",
        "yPred1000 = np.argmax(yPred1000P, axis=1)\n",
        "yPred1000"
      ],
      "execution_count": 22,
      "outputs": [
        {
          "output_type": "execute_result",
          "data": {
            "text/plain": [
              "array([659, 652, 722, 680, 659, 722, 772, 722, 398, 659, 659, 722, 767,\n",
              "       659, 659, 659, 659, 659, 659, 722, 659, 398, 722, 659, 680, 722,\n",
              "       722, 659, 659, 781, 659, 659, 659, 659, 659, 659, 772, 398, 659,\n",
              "       652, 659, 659, 722, 722, 398, 781, 609, 722, 659, 235, 659, 659,\n",
              "       418, 659, 659, 781, 659, 659, 659, 722, 659, 659, 722, 722, 659,\n",
              "       680, 659, 772, 520, 659, 659, 659, 772, 722, 659, 659, 478, 722,\n",
              "       772, 659, 659, 520, 722, 659, 722, 722, 722, 520, 659, 722, 722,\n",
              "       659, 722, 772, 398, 659, 659, 722, 722, 659, 659, 680, 722, 659,\n",
              "       722, 722, 659, 772, 659, 722, 659, 652, 722, 772, 781, 722, 659,\n",
              "       722, 659, 722, 659, 659, 659, 722, 722, 722, 722, 652, 722, 659,\n",
              "       772, 722, 659, 722, 722, 398, 659, 783, 659, 659, 659, 722, 659,\n",
              "       722, 659, 659, 722, 659, 478, 659, 679, 398, 659, 722, 659, 659,\n",
              "       659, 520, 659, 838, 659, 659, 398, 659, 722, 772, 722, 722, 659,\n",
              "       659, 722, 722, 659, 659, 659, 722, 781, 478, 659, 722])"
            ]
          },
          "metadata": {
            "tags": []
          },
          "execution_count": 22
        }
      ]
    },
    {
      "metadata": {
        "id": "heLwMVeozSiU",
        "colab_type": "code",
        "colab": {
          "autoexec": {
            "startup": false,
            "wait_interval": 0
          },
          "base_uri": "https://localhost:8080/",
          "height": 348
        },
        "outputId": "3eb1f9cf-aef3-4401-bff5-f8061686c802",
        "executionInfo": {
          "status": "ok",
          "timestamp": 1531687329788,
          "user_tz": 300,
          "elapsed": 316,
          "user": {
            "displayName": "sergi castel",
            "photoUrl": "//lh5.googleusercontent.com/-t7uPTy_PD5c/AAAAAAAAAAI/AAAAAAAABjU/YrQqLvCov5A/s50-c-k-no/photo.jpg",
            "userId": "104485759475975710875"
          }
        }
      },
      "cell_type": "code",
      "source": [
        "# Find the top 10 predicted classes in test set. \n",
        "\n",
        "unique, counts = np.unique(yPred1000, return_counts=True)\n",
        "\n",
        "predFrequencies =pd.DataFrame( np.asarray((unique, counts)).T,columns=['Class','Count'])\n",
        "\n",
        "sortDataFrame = predFrequencies.sort_values(by='Count',ascending=False)\n",
        "\n",
        "topClasses=sortDataFrame.iloc[:10,:]\n",
        "\n",
        "topClasses\n"
      ],
      "execution_count": 23,
      "outputs": [
        {
          "output_type": "execute_result",
          "data": {
            "text/html": [
              "<div>\n",
              "<style scoped>\n",
              "    .dataframe tbody tr th:only-of-type {\n",
              "        vertical-align: middle;\n",
              "    }\n",
              "\n",
              "    .dataframe tbody tr th {\n",
              "        vertical-align: top;\n",
              "    }\n",
              "\n",
              "    .dataframe thead th {\n",
              "        text-align: right;\n",
              "    }\n",
              "</style>\n",
              "<table border=\"1\" class=\"dataframe\">\n",
              "  <thead>\n",
              "    <tr style=\"text-align: right;\">\n",
              "      <th></th>\n",
              "      <th>Class</th>\n",
              "      <th>Count</th>\n",
              "    </tr>\n",
              "  </thead>\n",
              "  <tbody>\n",
              "    <tr>\n",
              "      <th>7</th>\n",
              "      <td>659</td>\n",
              "      <td>83</td>\n",
              "    </tr>\n",
              "    <tr>\n",
              "      <th>10</th>\n",
              "      <td>722</td>\n",
              "      <td>52</td>\n",
              "    </tr>\n",
              "    <tr>\n",
              "      <th>12</th>\n",
              "      <td>772</td>\n",
              "      <td>10</td>\n",
              "    </tr>\n",
              "    <tr>\n",
              "      <th>1</th>\n",
              "      <td>398</td>\n",
              "      <td>8</td>\n",
              "    </tr>\n",
              "    <tr>\n",
              "      <th>13</th>\n",
              "      <td>781</td>\n",
              "      <td>5</td>\n",
              "    </tr>\n",
              "    <tr>\n",
              "      <th>4</th>\n",
              "      <td>520</td>\n",
              "      <td>4</td>\n",
              "    </tr>\n",
              "    <tr>\n",
              "      <th>6</th>\n",
              "      <td>652</td>\n",
              "      <td>4</td>\n",
              "    </tr>\n",
              "    <tr>\n",
              "      <th>9</th>\n",
              "      <td>680</td>\n",
              "      <td>4</td>\n",
              "    </tr>\n",
              "    <tr>\n",
              "      <th>3</th>\n",
              "      <td>478</td>\n",
              "      <td>3</td>\n",
              "    </tr>\n",
              "    <tr>\n",
              "      <th>0</th>\n",
              "      <td>235</td>\n",
              "      <td>1</td>\n",
              "    </tr>\n",
              "  </tbody>\n",
              "</table>\n",
              "</div>"
            ],
            "text/plain": [
              "    Class  Count\n",
              "7     659     83\n",
              "10    722     52\n",
              "12    772     10\n",
              "1     398      8\n",
              "13    781      5\n",
              "4     520      4\n",
              "6     652      4\n",
              "9     680      4\n",
              "3     478      3\n",
              "0     235      1"
            ]
          },
          "metadata": {
            "tags": []
          },
          "execution_count": 23
        }
      ]
    },
    {
      "metadata": {
        "id": "JYR7D17p7qzH",
        "colab_type": "code",
        "colab": {
          "autoexec": {
            "startup": false,
            "wait_interval": 0
          },
          "base_uri": "https://localhost:8080/",
          "height": 1907
        },
        "outputId": "637ac720-ef5e-44c9-b94b-b3e8a3d1c555",
        "executionInfo": {
          "status": "ok",
          "timestamp": 1531687332738,
          "user_tz": 300,
          "elapsed": 375,
          "user": {
            "displayName": "sergi castel",
            "photoUrl": "//lh5.googleusercontent.com/-t7uPTy_PD5c/AAAAAAAAAAI/AAAAAAAABjU/YrQqLvCov5A/s50-c-k-no/photo.jpg",
            "userId": "104485759475975710875"
          }
        }
      },
      "cell_type": "code",
      "source": [
        "# Find the probabilities of being classify in top 10 classes for each image in test. \n",
        "\n",
        "testPredictorDataFrame = pd.DataFrame(yPred1000P)\n",
        "topIndex=topClasses.as_matrix()[:,0]\n",
        "finalPred = round(testPredictorDataFrame.iloc[:,topIndex],4)\n",
        "\n",
        "finalPred"
      ],
      "execution_count": 24,
      "outputs": [
        {
          "output_type": "execute_result",
          "data": {
            "text/html": [
              "<div>\n",
              "<style scoped>\n",
              "    .dataframe tbody tr th:only-of-type {\n",
              "        vertical-align: middle;\n",
              "    }\n",
              "\n",
              "    .dataframe tbody tr th {\n",
              "        vertical-align: top;\n",
              "    }\n",
              "\n",
              "    .dataframe thead th {\n",
              "        text-align: right;\n",
              "    }\n",
              "</style>\n",
              "<table border=\"1\" class=\"dataframe\">\n",
              "  <thead>\n",
              "    <tr style=\"text-align: right;\">\n",
              "      <th></th>\n",
              "      <th>659</th>\n",
              "      <th>722</th>\n",
              "      <th>772</th>\n",
              "      <th>398</th>\n",
              "      <th>781</th>\n",
              "      <th>520</th>\n",
              "      <th>652</th>\n",
              "      <th>680</th>\n",
              "      <th>478</th>\n",
              "      <th>235</th>\n",
              "    </tr>\n",
              "  </thead>\n",
              "  <tbody>\n",
              "    <tr>\n",
              "      <th>0</th>\n",
              "      <td>1.0000</td>\n",
              "      <td>0.0000</td>\n",
              "      <td>0.0000</td>\n",
              "      <td>0.0000</td>\n",
              "      <td>0.0000</td>\n",
              "      <td>0.0000</td>\n",
              "      <td>0.0000</td>\n",
              "      <td>0.0000</td>\n",
              "      <td>0.0000</td>\n",
              "      <td>0.0</td>\n",
              "    </tr>\n",
              "    <tr>\n",
              "      <th>1</th>\n",
              "      <td>0.0000</td>\n",
              "      <td>0.0001</td>\n",
              "      <td>0.0000</td>\n",
              "      <td>0.0000</td>\n",
              "      <td>0.0000</td>\n",
              "      <td>0.0133</td>\n",
              "      <td>0.9723</td>\n",
              "      <td>0.0000</td>\n",
              "      <td>0.0000</td>\n",
              "      <td>0.0</td>\n",
              "    </tr>\n",
              "    <tr>\n",
              "      <th>2</th>\n",
              "      <td>0.0000</td>\n",
              "      <td>1.0000</td>\n",
              "      <td>0.0000</td>\n",
              "      <td>0.0000</td>\n",
              "      <td>0.0000</td>\n",
              "      <td>0.0000</td>\n",
              "      <td>0.0000</td>\n",
              "      <td>0.0000</td>\n",
              "      <td>0.0000</td>\n",
              "      <td>0.0</td>\n",
              "    </tr>\n",
              "    <tr>\n",
              "      <th>3</th>\n",
              "      <td>0.0000</td>\n",
              "      <td>0.0000</td>\n",
              "      <td>0.0000</td>\n",
              "      <td>0.0000</td>\n",
              "      <td>0.0000</td>\n",
              "      <td>0.0000</td>\n",
              "      <td>0.0000</td>\n",
              "      <td>0.5789</td>\n",
              "      <td>0.0000</td>\n",
              "      <td>0.0</td>\n",
              "    </tr>\n",
              "    <tr>\n",
              "      <th>4</th>\n",
              "      <td>1.0000</td>\n",
              "      <td>0.0000</td>\n",
              "      <td>0.0000</td>\n",
              "      <td>0.0000</td>\n",
              "      <td>0.0000</td>\n",
              "      <td>0.0000</td>\n",
              "      <td>0.0000</td>\n",
              "      <td>0.0000</td>\n",
              "      <td>0.0000</td>\n",
              "      <td>0.0</td>\n",
              "    </tr>\n",
              "    <tr>\n",
              "      <th>5</th>\n",
              "      <td>0.0000</td>\n",
              "      <td>0.8507</td>\n",
              "      <td>0.0000</td>\n",
              "      <td>0.0000</td>\n",
              "      <td>0.0000</td>\n",
              "      <td>0.0000</td>\n",
              "      <td>0.0837</td>\n",
              "      <td>0.0000</td>\n",
              "      <td>0.0014</td>\n",
              "      <td>0.0</td>\n",
              "    </tr>\n",
              "    <tr>\n",
              "      <th>6</th>\n",
              "      <td>0.0000</td>\n",
              "      <td>0.0000</td>\n",
              "      <td>1.0000</td>\n",
              "      <td>0.0000</td>\n",
              "      <td>0.0000</td>\n",
              "      <td>0.0000</td>\n",
              "      <td>0.0000</td>\n",
              "      <td>0.0000</td>\n",
              "      <td>0.0000</td>\n",
              "      <td>0.0</td>\n",
              "    </tr>\n",
              "    <tr>\n",
              "      <th>7</th>\n",
              "      <td>0.1614</td>\n",
              "      <td>0.8386</td>\n",
              "      <td>0.0000</td>\n",
              "      <td>0.0000</td>\n",
              "      <td>0.0000</td>\n",
              "      <td>0.0000</td>\n",
              "      <td>0.0000</td>\n",
              "      <td>0.0000</td>\n",
              "      <td>0.0000</td>\n",
              "      <td>0.0</td>\n",
              "    </tr>\n",
              "    <tr>\n",
              "      <th>8</th>\n",
              "      <td>0.0000</td>\n",
              "      <td>0.0001</td>\n",
              "      <td>0.0000</td>\n",
              "      <td>0.7974</td>\n",
              "      <td>0.0000</td>\n",
              "      <td>0.0000</td>\n",
              "      <td>0.1957</td>\n",
              "      <td>0.0061</td>\n",
              "      <td>0.0000</td>\n",
              "      <td>0.0</td>\n",
              "    </tr>\n",
              "    <tr>\n",
              "      <th>9</th>\n",
              "      <td>0.9988</td>\n",
              "      <td>0.0001</td>\n",
              "      <td>0.0000</td>\n",
              "      <td>0.0000</td>\n",
              "      <td>0.0000</td>\n",
              "      <td>0.0000</td>\n",
              "      <td>0.0000</td>\n",
              "      <td>0.0000</td>\n",
              "      <td>0.0000</td>\n",
              "      <td>0.0</td>\n",
              "    </tr>\n",
              "    <tr>\n",
              "      <th>10</th>\n",
              "      <td>1.0000</td>\n",
              "      <td>0.0000</td>\n",
              "      <td>0.0000</td>\n",
              "      <td>0.0000</td>\n",
              "      <td>0.0000</td>\n",
              "      <td>0.0000</td>\n",
              "      <td>0.0000</td>\n",
              "      <td>0.0000</td>\n",
              "      <td>0.0000</td>\n",
              "      <td>0.0</td>\n",
              "    </tr>\n",
              "    <tr>\n",
              "      <th>11</th>\n",
              "      <td>0.0000</td>\n",
              "      <td>0.9360</td>\n",
              "      <td>0.0076</td>\n",
              "      <td>0.0000</td>\n",
              "      <td>0.0000</td>\n",
              "      <td>0.0000</td>\n",
              "      <td>0.0055</td>\n",
              "      <td>0.0004</td>\n",
              "      <td>0.0000</td>\n",
              "      <td>0.0</td>\n",
              "    </tr>\n",
              "    <tr>\n",
              "      <th>12</th>\n",
              "      <td>0.0000</td>\n",
              "      <td>0.0000</td>\n",
              "      <td>0.0000</td>\n",
              "      <td>0.0000</td>\n",
              "      <td>0.0000</td>\n",
              "      <td>0.0000</td>\n",
              "      <td>0.0000</td>\n",
              "      <td>0.0000</td>\n",
              "      <td>0.0000</td>\n",
              "      <td>0.0</td>\n",
              "    </tr>\n",
              "    <tr>\n",
              "      <th>13</th>\n",
              "      <td>1.0000</td>\n",
              "      <td>0.0000</td>\n",
              "      <td>0.0000</td>\n",
              "      <td>0.0000</td>\n",
              "      <td>0.0000</td>\n",
              "      <td>0.0000</td>\n",
              "      <td>0.0000</td>\n",
              "      <td>0.0000</td>\n",
              "      <td>0.0000</td>\n",
              "      <td>0.0</td>\n",
              "    </tr>\n",
              "    <tr>\n",
              "      <th>14</th>\n",
              "      <td>1.0000</td>\n",
              "      <td>0.0000</td>\n",
              "      <td>0.0000</td>\n",
              "      <td>0.0000</td>\n",
              "      <td>0.0000</td>\n",
              "      <td>0.0000</td>\n",
              "      <td>0.0000</td>\n",
              "      <td>0.0000</td>\n",
              "      <td>0.0000</td>\n",
              "      <td>0.0</td>\n",
              "    </tr>\n",
              "    <tr>\n",
              "      <th>15</th>\n",
              "      <td>0.9886</td>\n",
              "      <td>0.0000</td>\n",
              "      <td>0.0114</td>\n",
              "      <td>0.0000</td>\n",
              "      <td>0.0000</td>\n",
              "      <td>0.0000</td>\n",
              "      <td>0.0000</td>\n",
              "      <td>0.0000</td>\n",
              "      <td>0.0000</td>\n",
              "      <td>0.0</td>\n",
              "    </tr>\n",
              "    <tr>\n",
              "      <th>16</th>\n",
              "      <td>1.0000</td>\n",
              "      <td>0.0000</td>\n",
              "      <td>0.0000</td>\n",
              "      <td>0.0000</td>\n",
              "      <td>0.0000</td>\n",
              "      <td>0.0000</td>\n",
              "      <td>0.0000</td>\n",
              "      <td>0.0000</td>\n",
              "      <td>0.0000</td>\n",
              "      <td>0.0</td>\n",
              "    </tr>\n",
              "    <tr>\n",
              "      <th>17</th>\n",
              "      <td>1.0000</td>\n",
              "      <td>0.0000</td>\n",
              "      <td>0.0000</td>\n",
              "      <td>0.0000</td>\n",
              "      <td>0.0000</td>\n",
              "      <td>0.0000</td>\n",
              "      <td>0.0000</td>\n",
              "      <td>0.0000</td>\n",
              "      <td>0.0000</td>\n",
              "      <td>0.0</td>\n",
              "    </tr>\n",
              "    <tr>\n",
              "      <th>18</th>\n",
              "      <td>1.0000</td>\n",
              "      <td>0.0000</td>\n",
              "      <td>0.0000</td>\n",
              "      <td>0.0000</td>\n",
              "      <td>0.0000</td>\n",
              "      <td>0.0000</td>\n",
              "      <td>0.0000</td>\n",
              "      <td>0.0000</td>\n",
              "      <td>0.0000</td>\n",
              "      <td>0.0</td>\n",
              "    </tr>\n",
              "    <tr>\n",
              "      <th>19</th>\n",
              "      <td>0.0000</td>\n",
              "      <td>1.0000</td>\n",
              "      <td>0.0000</td>\n",
              "      <td>0.0000</td>\n",
              "      <td>0.0000</td>\n",
              "      <td>0.0000</td>\n",
              "      <td>0.0000</td>\n",
              "      <td>0.0000</td>\n",
              "      <td>0.0000</td>\n",
              "      <td>0.0</td>\n",
              "    </tr>\n",
              "    <tr>\n",
              "      <th>20</th>\n",
              "      <td>1.0000</td>\n",
              "      <td>0.0000</td>\n",
              "      <td>0.0000</td>\n",
              "      <td>0.0000</td>\n",
              "      <td>0.0000</td>\n",
              "      <td>0.0000</td>\n",
              "      <td>0.0000</td>\n",
              "      <td>0.0000</td>\n",
              "      <td>0.0000</td>\n",
              "      <td>0.0</td>\n",
              "    </tr>\n",
              "    <tr>\n",
              "      <th>21</th>\n",
              "      <td>0.0000</td>\n",
              "      <td>0.0000</td>\n",
              "      <td>0.0000</td>\n",
              "      <td>0.9952</td>\n",
              "      <td>0.0000</td>\n",
              "      <td>0.0044</td>\n",
              "      <td>0.0001</td>\n",
              "      <td>0.0000</td>\n",
              "      <td>0.0000</td>\n",
              "      <td>0.0</td>\n",
              "    </tr>\n",
              "    <tr>\n",
              "      <th>22</th>\n",
              "      <td>0.0000</td>\n",
              "      <td>1.0000</td>\n",
              "      <td>0.0000</td>\n",
              "      <td>0.0000</td>\n",
              "      <td>0.0000</td>\n",
              "      <td>0.0000</td>\n",
              "      <td>0.0000</td>\n",
              "      <td>0.0000</td>\n",
              "      <td>0.0000</td>\n",
              "      <td>0.0</td>\n",
              "    </tr>\n",
              "    <tr>\n",
              "      <th>23</th>\n",
              "      <td>0.9921</td>\n",
              "      <td>0.0000</td>\n",
              "      <td>0.0000</td>\n",
              "      <td>0.0000</td>\n",
              "      <td>0.0079</td>\n",
              "      <td>0.0000</td>\n",
              "      <td>0.0000</td>\n",
              "      <td>0.0000</td>\n",
              "      <td>0.0000</td>\n",
              "      <td>0.0</td>\n",
              "    </tr>\n",
              "    <tr>\n",
              "      <th>24</th>\n",
              "      <td>0.0000</td>\n",
              "      <td>0.0329</td>\n",
              "      <td>0.0000</td>\n",
              "      <td>0.0002</td>\n",
              "      <td>0.0000</td>\n",
              "      <td>0.0009</td>\n",
              "      <td>0.0000</td>\n",
              "      <td>0.9617</td>\n",
              "      <td>0.0000</td>\n",
              "      <td>0.0</td>\n",
              "    </tr>\n",
              "    <tr>\n",
              "      <th>25</th>\n",
              "      <td>0.0000</td>\n",
              "      <td>0.9978</td>\n",
              "      <td>0.0000</td>\n",
              "      <td>0.0000</td>\n",
              "      <td>0.0000</td>\n",
              "      <td>0.0000</td>\n",
              "      <td>0.0000</td>\n",
              "      <td>0.0012</td>\n",
              "      <td>0.0000</td>\n",
              "      <td>0.0</td>\n",
              "    </tr>\n",
              "    <tr>\n",
              "      <th>26</th>\n",
              "      <td>0.0000</td>\n",
              "      <td>1.0000</td>\n",
              "      <td>0.0000</td>\n",
              "      <td>0.0000</td>\n",
              "      <td>0.0000</td>\n",
              "      <td>0.0000</td>\n",
              "      <td>0.0000</td>\n",
              "      <td>0.0000</td>\n",
              "      <td>0.0000</td>\n",
              "      <td>0.0</td>\n",
              "    </tr>\n",
              "    <tr>\n",
              "      <th>27</th>\n",
              "      <td>1.0000</td>\n",
              "      <td>0.0000</td>\n",
              "      <td>0.0000</td>\n",
              "      <td>0.0000</td>\n",
              "      <td>0.0000</td>\n",
              "      <td>0.0000</td>\n",
              "      <td>0.0000</td>\n",
              "      <td>0.0000</td>\n",
              "      <td>0.0000</td>\n",
              "      <td>0.0</td>\n",
              "    </tr>\n",
              "    <tr>\n",
              "      <th>28</th>\n",
              "      <td>1.0000</td>\n",
              "      <td>0.0000</td>\n",
              "      <td>0.0000</td>\n",
              "      <td>0.0000</td>\n",
              "      <td>0.0000</td>\n",
              "      <td>0.0000</td>\n",
              "      <td>0.0000</td>\n",
              "      <td>0.0000</td>\n",
              "      <td>0.0000</td>\n",
              "      <td>0.0</td>\n",
              "    </tr>\n",
              "    <tr>\n",
              "      <th>29</th>\n",
              "      <td>0.0000</td>\n",
              "      <td>0.0000</td>\n",
              "      <td>0.0000</td>\n",
              "      <td>0.0000</td>\n",
              "      <td>1.0000</td>\n",
              "      <td>0.0000</td>\n",
              "      <td>0.0000</td>\n",
              "      <td>0.0000</td>\n",
              "      <td>0.0000</td>\n",
              "      <td>0.0</td>\n",
              "    </tr>\n",
              "    <tr>\n",
              "      <th>...</th>\n",
              "      <td>...</td>\n",
              "      <td>...</td>\n",
              "      <td>...</td>\n",
              "      <td>...</td>\n",
              "      <td>...</td>\n",
              "      <td>...</td>\n",
              "      <td>...</td>\n",
              "      <td>...</td>\n",
              "      <td>...</td>\n",
              "      <td>...</td>\n",
              "    </tr>\n",
              "    <tr>\n",
              "      <th>150</th>\n",
              "      <td>0.0016</td>\n",
              "      <td>0.0035</td>\n",
              "      <td>0.0000</td>\n",
              "      <td>0.0013</td>\n",
              "      <td>0.0000</td>\n",
              "      <td>0.0047</td>\n",
              "      <td>0.0000</td>\n",
              "      <td>0.0008</td>\n",
              "      <td>0.0032</td>\n",
              "      <td>0.0</td>\n",
              "    </tr>\n",
              "    <tr>\n",
              "      <th>151</th>\n",
              "      <td>0.0000</td>\n",
              "      <td>0.0000</td>\n",
              "      <td>0.0000</td>\n",
              "      <td>1.0000</td>\n",
              "      <td>0.0000</td>\n",
              "      <td>0.0000</td>\n",
              "      <td>0.0000</td>\n",
              "      <td>0.0000</td>\n",
              "      <td>0.0000</td>\n",
              "      <td>0.0</td>\n",
              "    </tr>\n",
              "    <tr>\n",
              "      <th>152</th>\n",
              "      <td>0.9857</td>\n",
              "      <td>0.0000</td>\n",
              "      <td>0.0143</td>\n",
              "      <td>0.0000</td>\n",
              "      <td>0.0000</td>\n",
              "      <td>0.0000</td>\n",
              "      <td>0.0000</td>\n",
              "      <td>0.0000</td>\n",
              "      <td>0.0000</td>\n",
              "      <td>0.0</td>\n",
              "    </tr>\n",
              "    <tr>\n",
              "      <th>153</th>\n",
              "      <td>0.0000</td>\n",
              "      <td>0.9320</td>\n",
              "      <td>0.0000</td>\n",
              "      <td>0.0000</td>\n",
              "      <td>0.0000</td>\n",
              "      <td>0.0000</td>\n",
              "      <td>0.0000</td>\n",
              "      <td>0.0000</td>\n",
              "      <td>0.0000</td>\n",
              "      <td>0.0</td>\n",
              "    </tr>\n",
              "    <tr>\n",
              "      <th>154</th>\n",
              "      <td>1.0000</td>\n",
              "      <td>0.0000</td>\n",
              "      <td>0.0000</td>\n",
              "      <td>0.0000</td>\n",
              "      <td>0.0000</td>\n",
              "      <td>0.0000</td>\n",
              "      <td>0.0000</td>\n",
              "      <td>0.0000</td>\n",
              "      <td>0.0000</td>\n",
              "      <td>0.0</td>\n",
              "    </tr>\n",
              "    <tr>\n",
              "      <th>155</th>\n",
              "      <td>0.9834</td>\n",
              "      <td>0.0166</td>\n",
              "      <td>0.0000</td>\n",
              "      <td>0.0000</td>\n",
              "      <td>0.0000</td>\n",
              "      <td>0.0000</td>\n",
              "      <td>0.0000</td>\n",
              "      <td>0.0000</td>\n",
              "      <td>0.0000</td>\n",
              "      <td>0.0</td>\n",
              "    </tr>\n",
              "    <tr>\n",
              "      <th>156</th>\n",
              "      <td>1.0000</td>\n",
              "      <td>0.0000</td>\n",
              "      <td>0.0000</td>\n",
              "      <td>0.0000</td>\n",
              "      <td>0.0000</td>\n",
              "      <td>0.0000</td>\n",
              "      <td>0.0000</td>\n",
              "      <td>0.0000</td>\n",
              "      <td>0.0000</td>\n",
              "      <td>0.0</td>\n",
              "    </tr>\n",
              "    <tr>\n",
              "      <th>157</th>\n",
              "      <td>0.0005</td>\n",
              "      <td>0.0275</td>\n",
              "      <td>0.0000</td>\n",
              "      <td>0.0000</td>\n",
              "      <td>0.0000</td>\n",
              "      <td>0.9081</td>\n",
              "      <td>0.0003</td>\n",
              "      <td>0.0613</td>\n",
              "      <td>0.0000</td>\n",
              "      <td>0.0</td>\n",
              "    </tr>\n",
              "    <tr>\n",
              "      <th>158</th>\n",
              "      <td>1.0000</td>\n",
              "      <td>0.0000</td>\n",
              "      <td>0.0000</td>\n",
              "      <td>0.0000</td>\n",
              "      <td>0.0000</td>\n",
              "      <td>0.0000</td>\n",
              "      <td>0.0000</td>\n",
              "      <td>0.0000</td>\n",
              "      <td>0.0000</td>\n",
              "      <td>0.0</td>\n",
              "    </tr>\n",
              "    <tr>\n",
              "      <th>159</th>\n",
              "      <td>0.0388</td>\n",
              "      <td>0.0000</td>\n",
              "      <td>0.0000</td>\n",
              "      <td>0.0000</td>\n",
              "      <td>0.0000</td>\n",
              "      <td>0.0000</td>\n",
              "      <td>0.0000</td>\n",
              "      <td>0.0000</td>\n",
              "      <td>0.0000</td>\n",
              "      <td>0.0</td>\n",
              "    </tr>\n",
              "    <tr>\n",
              "      <th>160</th>\n",
              "      <td>1.0000</td>\n",
              "      <td>0.0000</td>\n",
              "      <td>0.0000</td>\n",
              "      <td>0.0000</td>\n",
              "      <td>0.0000</td>\n",
              "      <td>0.0000</td>\n",
              "      <td>0.0000</td>\n",
              "      <td>0.0000</td>\n",
              "      <td>0.0000</td>\n",
              "      <td>0.0</td>\n",
              "    </tr>\n",
              "    <tr>\n",
              "      <th>161</th>\n",
              "      <td>1.0000</td>\n",
              "      <td>0.0000</td>\n",
              "      <td>0.0000</td>\n",
              "      <td>0.0000</td>\n",
              "      <td>0.0000</td>\n",
              "      <td>0.0000</td>\n",
              "      <td>0.0000</td>\n",
              "      <td>0.0000</td>\n",
              "      <td>0.0000</td>\n",
              "      <td>0.0</td>\n",
              "    </tr>\n",
              "    <tr>\n",
              "      <th>162</th>\n",
              "      <td>0.0000</td>\n",
              "      <td>0.0000</td>\n",
              "      <td>0.0000</td>\n",
              "      <td>0.9652</td>\n",
              "      <td>0.0000</td>\n",
              "      <td>0.0000</td>\n",
              "      <td>0.0002</td>\n",
              "      <td>0.0000</td>\n",
              "      <td>0.0000</td>\n",
              "      <td>0.0</td>\n",
              "    </tr>\n",
              "    <tr>\n",
              "      <th>163</th>\n",
              "      <td>0.9799</td>\n",
              "      <td>0.0200</td>\n",
              "      <td>0.0000</td>\n",
              "      <td>0.0000</td>\n",
              "      <td>0.0001</td>\n",
              "      <td>0.0000</td>\n",
              "      <td>0.0000</td>\n",
              "      <td>0.0000</td>\n",
              "      <td>0.0000</td>\n",
              "      <td>0.0</td>\n",
              "    </tr>\n",
              "    <tr>\n",
              "      <th>164</th>\n",
              "      <td>0.0009</td>\n",
              "      <td>0.6012</td>\n",
              "      <td>0.0000</td>\n",
              "      <td>0.3938</td>\n",
              "      <td>0.0000</td>\n",
              "      <td>0.0000</td>\n",
              "      <td>0.0000</td>\n",
              "      <td>0.0000</td>\n",
              "      <td>0.0000</td>\n",
              "      <td>0.0</td>\n",
              "    </tr>\n",
              "    <tr>\n",
              "      <th>165</th>\n",
              "      <td>0.0005</td>\n",
              "      <td>0.0000</td>\n",
              "      <td>0.9995</td>\n",
              "      <td>0.0000</td>\n",
              "      <td>0.0000</td>\n",
              "      <td>0.0000</td>\n",
              "      <td>0.0000</td>\n",
              "      <td>0.0000</td>\n",
              "      <td>0.0000</td>\n",
              "      <td>0.0</td>\n",
              "    </tr>\n",
              "    <tr>\n",
              "      <th>166</th>\n",
              "      <td>0.0000</td>\n",
              "      <td>1.0000</td>\n",
              "      <td>0.0000</td>\n",
              "      <td>0.0000</td>\n",
              "      <td>0.0000</td>\n",
              "      <td>0.0000</td>\n",
              "      <td>0.0000</td>\n",
              "      <td>0.0000</td>\n",
              "      <td>0.0000</td>\n",
              "      <td>0.0</td>\n",
              "    </tr>\n",
              "    <tr>\n",
              "      <th>167</th>\n",
              "      <td>0.0000</td>\n",
              "      <td>0.9994</td>\n",
              "      <td>0.0000</td>\n",
              "      <td>0.0000</td>\n",
              "      <td>0.0000</td>\n",
              "      <td>0.0000</td>\n",
              "      <td>0.0000</td>\n",
              "      <td>0.0006</td>\n",
              "      <td>0.0000</td>\n",
              "      <td>0.0</td>\n",
              "    </tr>\n",
              "    <tr>\n",
              "      <th>168</th>\n",
              "      <td>1.0000</td>\n",
              "      <td>0.0000</td>\n",
              "      <td>0.0000</td>\n",
              "      <td>0.0000</td>\n",
              "      <td>0.0000</td>\n",
              "      <td>0.0000</td>\n",
              "      <td>0.0000</td>\n",
              "      <td>0.0000</td>\n",
              "      <td>0.0000</td>\n",
              "      <td>0.0</td>\n",
              "    </tr>\n",
              "    <tr>\n",
              "      <th>169</th>\n",
              "      <td>1.0000</td>\n",
              "      <td>0.0000</td>\n",
              "      <td>0.0000</td>\n",
              "      <td>0.0000</td>\n",
              "      <td>0.0000</td>\n",
              "      <td>0.0000</td>\n",
              "      <td>0.0000</td>\n",
              "      <td>0.0000</td>\n",
              "      <td>0.0000</td>\n",
              "      <td>0.0</td>\n",
              "    </tr>\n",
              "    <tr>\n",
              "      <th>170</th>\n",
              "      <td>0.0000</td>\n",
              "      <td>1.0000</td>\n",
              "      <td>0.0000</td>\n",
              "      <td>0.0000</td>\n",
              "      <td>0.0000</td>\n",
              "      <td>0.0000</td>\n",
              "      <td>0.0000</td>\n",
              "      <td>0.0000</td>\n",
              "      <td>0.0000</td>\n",
              "      <td>0.0</td>\n",
              "    </tr>\n",
              "    <tr>\n",
              "      <th>171</th>\n",
              "      <td>0.0000</td>\n",
              "      <td>1.0000</td>\n",
              "      <td>0.0000</td>\n",
              "      <td>0.0000</td>\n",
              "      <td>0.0000</td>\n",
              "      <td>0.0000</td>\n",
              "      <td>0.0000</td>\n",
              "      <td>0.0000</td>\n",
              "      <td>0.0000</td>\n",
              "      <td>0.0</td>\n",
              "    </tr>\n",
              "    <tr>\n",
              "      <th>172</th>\n",
              "      <td>0.7755</td>\n",
              "      <td>0.0705</td>\n",
              "      <td>0.0000</td>\n",
              "      <td>0.0000</td>\n",
              "      <td>0.1343</td>\n",
              "      <td>0.0000</td>\n",
              "      <td>0.0000</td>\n",
              "      <td>0.0003</td>\n",
              "      <td>0.0000</td>\n",
              "      <td>0.0</td>\n",
              "    </tr>\n",
              "    <tr>\n",
              "      <th>173</th>\n",
              "      <td>1.0000</td>\n",
              "      <td>0.0000</td>\n",
              "      <td>0.0000</td>\n",
              "      <td>0.0000</td>\n",
              "      <td>0.0000</td>\n",
              "      <td>0.0000</td>\n",
              "      <td>0.0000</td>\n",
              "      <td>0.0000</td>\n",
              "      <td>0.0000</td>\n",
              "      <td>0.0</td>\n",
              "    </tr>\n",
              "    <tr>\n",
              "      <th>174</th>\n",
              "      <td>0.5148</td>\n",
              "      <td>0.0022</td>\n",
              "      <td>0.0000</td>\n",
              "      <td>0.0000</td>\n",
              "      <td>0.0000</td>\n",
              "      <td>0.0000</td>\n",
              "      <td>0.0000</td>\n",
              "      <td>0.0000</td>\n",
              "      <td>0.0000</td>\n",
              "      <td>0.0</td>\n",
              "    </tr>\n",
              "    <tr>\n",
              "      <th>175</th>\n",
              "      <td>0.0494</td>\n",
              "      <td>0.9051</td>\n",
              "      <td>0.0000</td>\n",
              "      <td>0.0000</td>\n",
              "      <td>0.0000</td>\n",
              "      <td>0.0094</td>\n",
              "      <td>0.0013</td>\n",
              "      <td>0.0000</td>\n",
              "      <td>0.0345</td>\n",
              "      <td>0.0</td>\n",
              "    </tr>\n",
              "    <tr>\n",
              "      <th>176</th>\n",
              "      <td>0.0000</td>\n",
              "      <td>0.0000</td>\n",
              "      <td>0.0000</td>\n",
              "      <td>0.0000</td>\n",
              "      <td>0.9991</td>\n",
              "      <td>0.0000</td>\n",
              "      <td>0.0000</td>\n",
              "      <td>0.0000</td>\n",
              "      <td>0.0000</td>\n",
              "      <td>0.0</td>\n",
              "    </tr>\n",
              "    <tr>\n",
              "      <th>177</th>\n",
              "      <td>0.2045</td>\n",
              "      <td>0.2063</td>\n",
              "      <td>0.0000</td>\n",
              "      <td>0.0010</td>\n",
              "      <td>0.0000</td>\n",
              "      <td>0.0827</td>\n",
              "      <td>0.0115</td>\n",
              "      <td>0.0001</td>\n",
              "      <td>0.3094</td>\n",
              "      <td>0.0</td>\n",
              "    </tr>\n",
              "    <tr>\n",
              "      <th>178</th>\n",
              "      <td>1.0000</td>\n",
              "      <td>0.0000</td>\n",
              "      <td>0.0000</td>\n",
              "      <td>0.0000</td>\n",
              "      <td>0.0000</td>\n",
              "      <td>0.0000</td>\n",
              "      <td>0.0000</td>\n",
              "      <td>0.0000</td>\n",
              "      <td>0.0000</td>\n",
              "      <td>0.0</td>\n",
              "    </tr>\n",
              "    <tr>\n",
              "      <th>179</th>\n",
              "      <td>0.0101</td>\n",
              "      <td>0.9892</td>\n",
              "      <td>0.0005</td>\n",
              "      <td>0.0000</td>\n",
              "      <td>0.0000</td>\n",
              "      <td>0.0000</td>\n",
              "      <td>0.0000</td>\n",
              "      <td>0.0000</td>\n",
              "      <td>0.0000</td>\n",
              "      <td>0.0</td>\n",
              "    </tr>\n",
              "  </tbody>\n",
              "</table>\n",
              "<p>180 rows × 10 columns</p>\n",
              "</div>"
            ],
            "text/plain": [
              "        659     722     772     398     781     520     652     680     478  \\\n",
              "0    1.0000  0.0000  0.0000  0.0000  0.0000  0.0000  0.0000  0.0000  0.0000   \n",
              "1    0.0000  0.0001  0.0000  0.0000  0.0000  0.0133  0.9723  0.0000  0.0000   \n",
              "2    0.0000  1.0000  0.0000  0.0000  0.0000  0.0000  0.0000  0.0000  0.0000   \n",
              "3    0.0000  0.0000  0.0000  0.0000  0.0000  0.0000  0.0000  0.5789  0.0000   \n",
              "4    1.0000  0.0000  0.0000  0.0000  0.0000  0.0000  0.0000  0.0000  0.0000   \n",
              "5    0.0000  0.8507  0.0000  0.0000  0.0000  0.0000  0.0837  0.0000  0.0014   \n",
              "6    0.0000  0.0000  1.0000  0.0000  0.0000  0.0000  0.0000  0.0000  0.0000   \n",
              "7    0.1614  0.8386  0.0000  0.0000  0.0000  0.0000  0.0000  0.0000  0.0000   \n",
              "8    0.0000  0.0001  0.0000  0.7974  0.0000  0.0000  0.1957  0.0061  0.0000   \n",
              "9    0.9988  0.0001  0.0000  0.0000  0.0000  0.0000  0.0000  0.0000  0.0000   \n",
              "10   1.0000  0.0000  0.0000  0.0000  0.0000  0.0000  0.0000  0.0000  0.0000   \n",
              "11   0.0000  0.9360  0.0076  0.0000  0.0000  0.0000  0.0055  0.0004  0.0000   \n",
              "12   0.0000  0.0000  0.0000  0.0000  0.0000  0.0000  0.0000  0.0000  0.0000   \n",
              "13   1.0000  0.0000  0.0000  0.0000  0.0000  0.0000  0.0000  0.0000  0.0000   \n",
              "14   1.0000  0.0000  0.0000  0.0000  0.0000  0.0000  0.0000  0.0000  0.0000   \n",
              "15   0.9886  0.0000  0.0114  0.0000  0.0000  0.0000  0.0000  0.0000  0.0000   \n",
              "16   1.0000  0.0000  0.0000  0.0000  0.0000  0.0000  0.0000  0.0000  0.0000   \n",
              "17   1.0000  0.0000  0.0000  0.0000  0.0000  0.0000  0.0000  0.0000  0.0000   \n",
              "18   1.0000  0.0000  0.0000  0.0000  0.0000  0.0000  0.0000  0.0000  0.0000   \n",
              "19   0.0000  1.0000  0.0000  0.0000  0.0000  0.0000  0.0000  0.0000  0.0000   \n",
              "20   1.0000  0.0000  0.0000  0.0000  0.0000  0.0000  0.0000  0.0000  0.0000   \n",
              "21   0.0000  0.0000  0.0000  0.9952  0.0000  0.0044  0.0001  0.0000  0.0000   \n",
              "22   0.0000  1.0000  0.0000  0.0000  0.0000  0.0000  0.0000  0.0000  0.0000   \n",
              "23   0.9921  0.0000  0.0000  0.0000  0.0079  0.0000  0.0000  0.0000  0.0000   \n",
              "24   0.0000  0.0329  0.0000  0.0002  0.0000  0.0009  0.0000  0.9617  0.0000   \n",
              "25   0.0000  0.9978  0.0000  0.0000  0.0000  0.0000  0.0000  0.0012  0.0000   \n",
              "26   0.0000  1.0000  0.0000  0.0000  0.0000  0.0000  0.0000  0.0000  0.0000   \n",
              "27   1.0000  0.0000  0.0000  0.0000  0.0000  0.0000  0.0000  0.0000  0.0000   \n",
              "28   1.0000  0.0000  0.0000  0.0000  0.0000  0.0000  0.0000  0.0000  0.0000   \n",
              "29   0.0000  0.0000  0.0000  0.0000  1.0000  0.0000  0.0000  0.0000  0.0000   \n",
              "..      ...     ...     ...     ...     ...     ...     ...     ...     ...   \n",
              "150  0.0016  0.0035  0.0000  0.0013  0.0000  0.0047  0.0000  0.0008  0.0032   \n",
              "151  0.0000  0.0000  0.0000  1.0000  0.0000  0.0000  0.0000  0.0000  0.0000   \n",
              "152  0.9857  0.0000  0.0143  0.0000  0.0000  0.0000  0.0000  0.0000  0.0000   \n",
              "153  0.0000  0.9320  0.0000  0.0000  0.0000  0.0000  0.0000  0.0000  0.0000   \n",
              "154  1.0000  0.0000  0.0000  0.0000  0.0000  0.0000  0.0000  0.0000  0.0000   \n",
              "155  0.9834  0.0166  0.0000  0.0000  0.0000  0.0000  0.0000  0.0000  0.0000   \n",
              "156  1.0000  0.0000  0.0000  0.0000  0.0000  0.0000  0.0000  0.0000  0.0000   \n",
              "157  0.0005  0.0275  0.0000  0.0000  0.0000  0.9081  0.0003  0.0613  0.0000   \n",
              "158  1.0000  0.0000  0.0000  0.0000  0.0000  0.0000  0.0000  0.0000  0.0000   \n",
              "159  0.0388  0.0000  0.0000  0.0000  0.0000  0.0000  0.0000  0.0000  0.0000   \n",
              "160  1.0000  0.0000  0.0000  0.0000  0.0000  0.0000  0.0000  0.0000  0.0000   \n",
              "161  1.0000  0.0000  0.0000  0.0000  0.0000  0.0000  0.0000  0.0000  0.0000   \n",
              "162  0.0000  0.0000  0.0000  0.9652  0.0000  0.0000  0.0002  0.0000  0.0000   \n",
              "163  0.9799  0.0200  0.0000  0.0000  0.0001  0.0000  0.0000  0.0000  0.0000   \n",
              "164  0.0009  0.6012  0.0000  0.3938  0.0000  0.0000  0.0000  0.0000  0.0000   \n",
              "165  0.0005  0.0000  0.9995  0.0000  0.0000  0.0000  0.0000  0.0000  0.0000   \n",
              "166  0.0000  1.0000  0.0000  0.0000  0.0000  0.0000  0.0000  0.0000  0.0000   \n",
              "167  0.0000  0.9994  0.0000  0.0000  0.0000  0.0000  0.0000  0.0006  0.0000   \n",
              "168  1.0000  0.0000  0.0000  0.0000  0.0000  0.0000  0.0000  0.0000  0.0000   \n",
              "169  1.0000  0.0000  0.0000  0.0000  0.0000  0.0000  0.0000  0.0000  0.0000   \n",
              "170  0.0000  1.0000  0.0000  0.0000  0.0000  0.0000  0.0000  0.0000  0.0000   \n",
              "171  0.0000  1.0000  0.0000  0.0000  0.0000  0.0000  0.0000  0.0000  0.0000   \n",
              "172  0.7755  0.0705  0.0000  0.0000  0.1343  0.0000  0.0000  0.0003  0.0000   \n",
              "173  1.0000  0.0000  0.0000  0.0000  0.0000  0.0000  0.0000  0.0000  0.0000   \n",
              "174  0.5148  0.0022  0.0000  0.0000  0.0000  0.0000  0.0000  0.0000  0.0000   \n",
              "175  0.0494  0.9051  0.0000  0.0000  0.0000  0.0094  0.0013  0.0000  0.0345   \n",
              "176  0.0000  0.0000  0.0000  0.0000  0.9991  0.0000  0.0000  0.0000  0.0000   \n",
              "177  0.2045  0.2063  0.0000  0.0010  0.0000  0.0827  0.0115  0.0001  0.3094   \n",
              "178  1.0000  0.0000  0.0000  0.0000  0.0000  0.0000  0.0000  0.0000  0.0000   \n",
              "179  0.0101  0.9892  0.0005  0.0000  0.0000  0.0000  0.0000  0.0000  0.0000   \n",
              "\n",
              "     235  \n",
              "0    0.0  \n",
              "1    0.0  \n",
              "2    0.0  \n",
              "3    0.0  \n",
              "4    0.0  \n",
              "5    0.0  \n",
              "6    0.0  \n",
              "7    0.0  \n",
              "8    0.0  \n",
              "9    0.0  \n",
              "10   0.0  \n",
              "11   0.0  \n",
              "12   0.0  \n",
              "13   0.0  \n",
              "14   0.0  \n",
              "15   0.0  \n",
              "16   0.0  \n",
              "17   0.0  \n",
              "18   0.0  \n",
              "19   0.0  \n",
              "20   0.0  \n",
              "21   0.0  \n",
              "22   0.0  \n",
              "23   0.0  \n",
              "24   0.0  \n",
              "25   0.0  \n",
              "26   0.0  \n",
              "27   0.0  \n",
              "28   0.0  \n",
              "29   0.0  \n",
              "..   ...  \n",
              "150  0.0  \n",
              "151  0.0  \n",
              "152  0.0  \n",
              "153  0.0  \n",
              "154  0.0  \n",
              "155  0.0  \n",
              "156  0.0  \n",
              "157  0.0  \n",
              "158  0.0  \n",
              "159  0.0  \n",
              "160  0.0  \n",
              "161  0.0  \n",
              "162  0.0  \n",
              "163  0.0  \n",
              "164  0.0  \n",
              "165  0.0  \n",
              "166  0.0  \n",
              "167  0.0  \n",
              "168  0.0  \n",
              "169  0.0  \n",
              "170  0.0  \n",
              "171  0.0  \n",
              "172  0.0  \n",
              "173  0.0  \n",
              "174  0.0  \n",
              "175  0.0  \n",
              "176  0.0  \n",
              "177  0.0  \n",
              "178  0.0  \n",
              "179  0.0  \n",
              "\n",
              "[180 rows x 10 columns]"
            ]
          },
          "metadata": {
            "tags": []
          },
          "execution_count": 24
        }
      ]
    },
    {
      "metadata": {
        "id": "H70aUWJI-Y-K",
        "colab_type": "code",
        "colab": {
          "autoexec": {
            "startup": false,
            "wait_interval": 0
          },
          "base_uri": "https://localhost:8080/",
          "height": 285
        },
        "outputId": "048ecaf7-55c7-4ca4-829e-120574e411e9",
        "executionInfo": {
          "status": "ok",
          "timestamp": 1531687338856,
          "user_tz": 300,
          "elapsed": 481,
          "user": {
            "displayName": "sergi castel",
            "photoUrl": "//lh5.googleusercontent.com/-t7uPTy_PD5c/AAAAAAAAAAI/AAAAAAAABjU/YrQqLvCov5A/s50-c-k-no/photo.jpg",
            "userId": "104485759475975710875"
          }
        }
      },
      "cell_type": "code",
      "source": [
        "# Create confusion matrix(6 classes, 10 top classes)\n",
        "\n",
        "target_names = ['egr','man','owl','puf','tou','wod']\n",
        "\n",
        "confusionMatrix = pd.DataFrame(np.zeros(shape=(6,topIndex.shape[0])),columns=topIndex)\n",
        "yTestL = np.argmax(yTest,axis=1)\n",
        "for index, row in finalPred.iterrows():\n",
        "    maxClass=finalPred.iloc[index,:].argmax()\n",
        "    trueClass = yTestL[index]\n",
        "    confusionMatrix.loc[trueClass,maxClass]= confusionMatrix.loc[trueClass,maxClass]+1\n",
        "    a=0\n",
        "\n",
        "confusionMatrix.reset_index(level=0, inplace=True)\n",
        "\n",
        "def set_index(row):\n",
        "  if row['index']==0: return target_names[0]\n",
        "  elif   row['index']==1: return target_names[1]\n",
        "  elif   row['index']==2: return target_names[2]\n",
        "  elif   row['index']==3: return target_names[3]\n",
        "  elif   row['index']==4: return target_names[4]\n",
        "  else:  return target_names[5]\n",
        "    \n",
        "confusionMatrix=confusionMatrix.assign(index=confusionMatrix.apply(set_index,axis=1))\n",
        "confusionMatrix.columns.values[0]='Class'\n",
        "    \n",
        "confusionMatrix\n",
        "\n"
      ],
      "execution_count": 25,
      "outputs": [
        {
          "output_type": "stream",
          "text": [
            "/usr/local/lib/python3.6/dist-packages/ipykernel_launcher.py:7: FutureWarning: 'argmax' is deprecated. Use 'idxmax' instead. The behavior of 'argmax' will be corrected to return the positional maximum in the future. Use 'series.values.argmax' to get the position of the maximum now.\n",
            "  import sys\n"
          ],
          "name": "stderr"
        },
        {
          "output_type": "execute_result",
          "data": {
            "text/html": [
              "<div>\n",
              "<style scoped>\n",
              "    .dataframe tbody tr th:only-of-type {\n",
              "        vertical-align: middle;\n",
              "    }\n",
              "\n",
              "    .dataframe tbody tr th {\n",
              "        vertical-align: top;\n",
              "    }\n",
              "\n",
              "    .dataframe thead th {\n",
              "        text-align: right;\n",
              "    }\n",
              "</style>\n",
              "<table border=\"1\" class=\"dataframe\">\n",
              "  <thead>\n",
              "    <tr style=\"text-align: right;\">\n",
              "      <th></th>\n",
              "      <th>Class</th>\n",
              "      <th>659</th>\n",
              "      <th>722</th>\n",
              "      <th>772</th>\n",
              "      <th>398</th>\n",
              "      <th>781</th>\n",
              "      <th>520</th>\n",
              "      <th>652</th>\n",
              "      <th>680</th>\n",
              "      <th>478</th>\n",
              "      <th>235</th>\n",
              "    </tr>\n",
              "  </thead>\n",
              "  <tbody>\n",
              "    <tr>\n",
              "      <th>0</th>\n",
              "      <td>egr</td>\n",
              "      <td>15.0</td>\n",
              "      <td>6.0</td>\n",
              "      <td>2.0</td>\n",
              "      <td>2.0</td>\n",
              "      <td>2.0</td>\n",
              "      <td>0.0</td>\n",
              "      <td>0.0</td>\n",
              "      <td>1.0</td>\n",
              "      <td>0.0</td>\n",
              "      <td>1.0</td>\n",
              "    </tr>\n",
              "    <tr>\n",
              "      <th>1</th>\n",
              "      <td>man</td>\n",
              "      <td>13.0</td>\n",
              "      <td>14.0</td>\n",
              "      <td>3.0</td>\n",
              "      <td>0.0</td>\n",
              "      <td>1.0</td>\n",
              "      <td>1.0</td>\n",
              "      <td>0.0</td>\n",
              "      <td>0.0</td>\n",
              "      <td>1.0</td>\n",
              "      <td>0.0</td>\n",
              "    </tr>\n",
              "    <tr>\n",
              "      <th>2</th>\n",
              "      <td>owl</td>\n",
              "      <td>18.0</td>\n",
              "      <td>6.0</td>\n",
              "      <td>2.0</td>\n",
              "      <td>2.0</td>\n",
              "      <td>0.0</td>\n",
              "      <td>2.0</td>\n",
              "      <td>3.0</td>\n",
              "      <td>0.0</td>\n",
              "      <td>0.0</td>\n",
              "      <td>0.0</td>\n",
              "    </tr>\n",
              "    <tr>\n",
              "      <th>3</th>\n",
              "      <td>puf</td>\n",
              "      <td>19.0</td>\n",
              "      <td>9.0</td>\n",
              "      <td>1.0</td>\n",
              "      <td>2.0</td>\n",
              "      <td>0.0</td>\n",
              "      <td>1.0</td>\n",
              "      <td>0.0</td>\n",
              "      <td>1.0</td>\n",
              "      <td>1.0</td>\n",
              "      <td>0.0</td>\n",
              "    </tr>\n",
              "    <tr>\n",
              "      <th>4</th>\n",
              "      <td>tou</td>\n",
              "      <td>11.0</td>\n",
              "      <td>9.0</td>\n",
              "      <td>0.0</td>\n",
              "      <td>0.0</td>\n",
              "      <td>2.0</td>\n",
              "      <td>0.0</td>\n",
              "      <td>1.0</td>\n",
              "      <td>3.0</td>\n",
              "      <td>1.0</td>\n",
              "      <td>0.0</td>\n",
              "    </tr>\n",
              "    <tr>\n",
              "      <th>5</th>\n",
              "      <td>wod</td>\n",
              "      <td>9.0</td>\n",
              "      <td>8.0</td>\n",
              "      <td>3.0</td>\n",
              "      <td>3.0</td>\n",
              "      <td>0.0</td>\n",
              "      <td>1.0</td>\n",
              "      <td>0.0</td>\n",
              "      <td>0.0</td>\n",
              "      <td>0.0</td>\n",
              "      <td>0.0</td>\n",
              "    </tr>\n",
              "  </tbody>\n",
              "</table>\n",
              "</div>"
            ],
            "text/plain": [
              "  Class   659   722  772  398  781  520  652  680  478  235\n",
              "0   egr  15.0   6.0  2.0  2.0  2.0  0.0  0.0  1.0  0.0  1.0\n",
              "1   man  13.0  14.0  3.0  0.0  1.0  1.0  0.0  0.0  1.0  0.0\n",
              "2   owl  18.0   6.0  2.0  2.0  0.0  2.0  3.0  0.0  0.0  0.0\n",
              "3   puf  19.0   9.0  1.0  2.0  0.0  1.0  0.0  1.0  1.0  0.0\n",
              "4   tou  11.0   9.0  0.0  0.0  2.0  0.0  1.0  3.0  1.0  0.0\n",
              "5   wod   9.0   8.0  3.0  3.0  0.0  1.0  0.0  0.0  0.0  0.0"
            ]
          },
          "metadata": {
            "tags": []
          },
          "execution_count": 25
        }
      ]
    },
    {
      "metadata": {
        "id": "0C3aUFiriyrH",
        "colab_type": "text"
      },
      "cell_type": "markdown",
      "source": [
        "# Transfer Learning\n",
        "We use the pre-trained CNN model as a feature extractor. The pretrained model was 'Xception'. We also replace the top part of the pretrained CNN with two layers of 256 and 6 neurons respectively."
      ]
    },
    {
      "metadata": {
        "id": "tlrFjvW7JYaR",
        "colab_type": "text"
      },
      "cell_type": "markdown",
      "source": [
        "## Xception Model"
      ]
    },
    {
      "metadata": {
        "id": "B0e8nqD2LL3v",
        "colab_type": "code",
        "colab": {
          "autoexec": {
            "startup": false,
            "wait_interval": 0
          }
        }
      },
      "cell_type": "code",
      "source": [
        "K.clear_session()"
      ],
      "execution_count": 0,
      "outputs": []
    },
    {
      "metadata": {
        "id": "Q2ol5JI3iyrI",
        "colab_type": "code",
        "colab": {
          "autoexec": {
            "startup": false,
            "wait_interval": 0
          },
          "base_uri": "https://localhost:8080/",
          "height": 74
        },
        "outputId": "bdf31ce3-e8f1-4b33-d3c2-103a914a93d3",
        "executionInfo": {
          "status": "ok",
          "timestamp": 1531687361222,
          "user_tz": 300,
          "elapsed": 16377,
          "user": {
            "displayName": "sergi castel",
            "photoUrl": "//lh5.googleusercontent.com/-t7uPTy_PD5c/AAAAAAAAAAI/AAAAAAAABjU/YrQqLvCov5A/s50-c-k-no/photo.jpg",
            "userId": "104485759475975710875"
          }
        }
      },
      "cell_type": "code",
      "source": [
        "from keras.applications.xception import Xception\n",
        "from keras.applications.vgg16 import VGG16\n",
        "\n",
        "modelXceptionTF = Xception(weights='imagenet', include_top=False)"
      ],
      "execution_count": 26,
      "outputs": [
        {
          "output_type": "stream",
          "text": [
            "Downloading data from https://github.com/fchollet/deep-learning-models/releases/download/v0.4/xception_weights_tf_dim_ordering_tf_kernels_notop.h5\n",
            "83689472/83683744 [==============================] - 3s 0us/step\n"
          ],
          "name": "stdout"
        }
      ]
    },
    {
      "metadata": {
        "id": "roEe4Yh9iyrL",
        "colab_type": "code",
        "colab": {
          "autoexec": {
            "startup": false,
            "wait_interval": 0
          }
        }
      },
      "cell_type": "code",
      "source": [
        "# Pre-process X.\n",
        "newXtrain=modelXceptionTF.predict(xTrain)\n",
        "\n",
        "# Pre-process X.\n",
        "newXtest=modelXceptionTF.predict(xTest)"
      ],
      "execution_count": 0,
      "outputs": []
    },
    {
      "metadata": {
        "id": "5PLUnq9SiyrN",
        "colab_type": "code",
        "colab": {
          "autoexec": {
            "startup": false,
            "wait_interval": 0
          },
          "base_uri": "https://localhost:8080/",
          "height": 35
        },
        "outputId": "c9711dd4-08b8-4e51-89f9-6872ba53fa3e",
        "executionInfo": {
          "status": "ok",
          "timestamp": 1531687397104,
          "user_tz": 300,
          "elapsed": 324,
          "user": {
            "displayName": "sergi castel",
            "photoUrl": "//lh5.googleusercontent.com/-t7uPTy_PD5c/AAAAAAAAAAI/AAAAAAAABjU/YrQqLvCov5A/s50-c-k-no/photo.jpg",
            "userId": "104485759475975710875"
          }
        }
      },
      "cell_type": "code",
      "source": [
        "newXtrain.shape"
      ],
      "execution_count": 28,
      "outputs": [
        {
          "output_type": "execute_result",
          "data": {
            "text/plain": [
              "(420, 10, 10, 2048)"
            ]
          },
          "metadata": {
            "tags": []
          },
          "execution_count": 28
        }
      ]
    },
    {
      "metadata": {
        "id": "meKYZzFgiyrP",
        "colab_type": "code",
        "colab": {
          "autoexec": {
            "startup": false,
            "wait_interval": 0
          },
          "base_uri": "https://localhost:8080/",
          "height": 326
        },
        "outputId": "22d007a3-86bb-41f7-be6d-0e1bc0b25377",
        "executionInfo": {
          "status": "ok",
          "timestamp": 1531687424926,
          "user_tz": 300,
          "elapsed": 178,
          "user": {
            "displayName": "sergi castel",
            "photoUrl": "//lh5.googleusercontent.com/-t7uPTy_PD5c/AAAAAAAAAAI/AAAAAAAABjU/YrQqLvCov5A/s50-c-k-no/photo.jpg",
            "userId": "104485759475975710875"
          }
        }
      },
      "cell_type": "code",
      "source": [
        "from keras.models import Sequential\n",
        "from keras.layers import Conv2D, MaxPooling2D\n",
        "from keras.layers import Activation, Dropout, Flatten, Dense\n",
        "from keras import backend as K\n",
        "import keras.optimizers as opts\n",
        "from livelossplot import PlotLossesKeras\n",
        "\n",
        "# Model structure.\n",
        "outputClasses = 6\n",
        "\n",
        "# Create the model. \n",
        "cnn_transfer = Sequential()\n",
        "\n",
        "# Apply a convolutional layer. \n",
        "cnn_transfer.add(Flatten(input_shape=newXtrain.shape[1:]))\n",
        "\n",
        "# Add the fully connected.\n",
        "cnn_transfer.add(Dense(256, activation='relu'))\n",
        "\n",
        "# Add a dropout.\n",
        "#cnn_transfer.add(Dropout(0.2))\n",
        "\n",
        "# Add the fully connected.\n",
        "cnn_transfer.add(Dense(outputClasses))\n",
        "\n",
        "# Add the activation softmax.\n",
        "cnn_transfer.add(Activation('softmax'))\n",
        "\n",
        "print(cnn_transfer.summary(70))\n",
        "\n",
        "# Compile the model. \n",
        "op=opts.Adam(lr=0.0001, epsilon=None, decay=0.0)\n",
        "cnn_transfer.compile(loss = 'categorical_crossentropy',\n",
        "              optimizer = op,\n",
        "              metrics = ['accuracy'])\n",
        "\n",
        "batch_size = 100\n",
        "epochs = 20\n",
        "\n",
        "trainingCNN_Transfer = cnn_transfer.fit(newXtrain, yTrain,\n",
        "                    batch_size=batch_size,\n",
        "                    epochs=epochs,\n",
        "                    verbose=1,\n",
        "                    shuffle = True, \n",
        "                    validation_split = 0.2,\n",
        "                    callbacks=[PlotLossesKeras()])\n"
      ],
      "execution_count": 29,
      "outputs": [
        {
          "output_type": "display_data",
          "data": {
            "image/png": "[encoded data removed]",
            "text/plain": [
              "<matplotlib.figure.Figure at 0x7ffaa3578828>"
            ]
          },
          "metadata": {
            "tags": []
          }
        }
      ]
    },
    {
      "metadata": {
        "id": "JGDF2QdMiyrY",
        "colab_type": "code",
        "colab": {
          "autoexec": {
            "startup": false,
            "wait_interval": 0
          },
          "base_uri": "https://localhost:8080/",
          "height": 126
        },
        "outputId": "148d4a9e-83d9-40ab-b333-10d1b4d08eed",
        "executionInfo": {
          "status": "ok",
          "timestamp": 1531687432817,
          "user_tz": 300,
          "elapsed": 492,
          "user": {
            "displayName": "sergi castel",
            "photoUrl": "//lh5.googleusercontent.com/-t7uPTy_PD5c/AAAAAAAAAAI/AAAAAAAABjU/YrQqLvCov5A/s50-c-k-no/photo.jpg",
            "userId": "104485759475975710875"
          }
        }
      },
      "cell_type": "code",
      "source": [
        "# Perform the neural network over the test set. \n",
        "print('Evaluating the test set...')\n",
        "score = cnn_transfer.evaluate(newXtest, yTest)\n",
        "\n",
        "print('\\nTest score:', score[0])\n",
        "print('Test accuracy:', score[1])\n",
        "Accu_Xception= score[1]\n",
        "Accu_Xception"
      ],
      "execution_count": 30,
      "outputs": [
        {
          "output_type": "stream",
          "text": [
            "Evaluating the test set...\n",
            "180/180 [==============================] - 0s 1ms/step\n",
            "\n",
            "Test score: 11.26485735575358\n",
            "Test accuracy: 0.28888888888888886\n"
          ],
          "name": "stdout"
        },
        {
          "output_type": "execute_result",
          "data": {
            "text/plain": [
              "0.28888888888888886"
            ]
          },
          "metadata": {
            "tags": []
          },
          "execution_count": 30
        }
      ]
    },
    {
      "metadata": {
        "id": "m2cegctiiyra",
        "colab_type": "code",
        "colab": {
          "autoexec": {
            "startup": false,
            "wait_interval": 0
          },
          "base_uri": "https://localhost:8080/",
          "height": 528
        },
        "outputId": "e4494a34-7a2c-4b1a-8ad9-a17de7fb4956",
        "executionInfo": {
          "status": "ok",
          "timestamp": 1531687437559,
          "user_tz": 300,
          "elapsed": 1200,
          "user": {
            "displayName": "sergi castel",
            "photoUrl": "//lh5.googleusercontent.com/-t7uPTy_PD5c/AAAAAAAAAAI/AAAAAAAABjU/YrQqLvCov5A/s50-c-k-no/photo.jpg",
            "userId": "104485759475975710875"
          }
        }
      },
      "cell_type": "code",
      "source": [
        "from sklearn.metrics import confusion_matrix,classification_report\n",
        "import pandas as pd\n",
        "import numpy as np\n",
        "\n",
        "# Set the classes' names.\n",
        "target_names = ['egr','man','owl','puf','tou','wod']\n",
        "\n",
        "# Predict class in test.\n",
        "Y_pred = cnn_transfer.predict(newXtest)\n",
        "\n",
        "# Choose the class with higher probability.\n",
        "y_pred = np.argmax(Y_pred, axis=1)\n",
        "\n",
        "print('-------------------------------------------------')\n",
        "print('-------------------------------------------------')\n",
        "print('-----------------Confusion Matrix----------------')\n",
        "print(pd.DataFrame(confusion_matrix(yTest.argmax(axis=1), y_pred),columns=target_names, index=target_names))\n",
        "print('-------------------------------------------------')\n",
        "print('-------------------------------------------------\\n')\n",
        "print('---------------Classification Report-------------')\n",
        "\n",
        "print(classification_report(yTest.argmax(axis=1), y_pred, target_names=target_names))"
      ],
      "execution_count": 31,
      "outputs": [
        {
          "output_type": "stream",
          "text": [
            "-------------------------------------------------\n",
            "-------------------------------------------------\n",
            "-----------------Confusion Matrix----------------\n",
            "     egr  man  owl  puf  tou  wod\n",
            "egr   21    2    6    0    0    0\n",
            "man   11    7    1    1    0   13\n",
            "owl   13    3   14    2    0    1\n",
            "puf   13    6   11    1    0    3\n",
            "tou   13    5    1    5    0    3\n",
            "wod    8    5    1    1    0    9\n",
            "-------------------------------------------------\n",
            "-------------------------------------------------\n",
            "\n",
            "---------------Classification Report-------------\n",
            "             precision    recall  f1-score   support\n",
            "\n",
            "        egr       0.27      0.72      0.39        29\n",
            "        man       0.25      0.21      0.23        33\n",
            "        owl       0.41      0.42      0.42        33\n",
            "        puf       0.10      0.03      0.05        34\n",
            "        tou       0.00      0.00      0.00        27\n",
            "        wod       0.31      0.38      0.34        24\n",
            "\n",
            "avg / total       0.22      0.29      0.24       180\n",
            "\n"
          ],
          "name": "stdout"
        },
        {
          "output_type": "stream",
          "text": [
            "/usr/local/lib/python3.6/dist-packages/sklearn/metrics/classification.py:1135: UndefinedMetricWarning: Precision and F-score are ill-defined and being set to 0.0 in labels with no predicted samples.\n",
            "  'precision', 'predicted', average, warn_for)\n"
          ],
          "name": "stderr"
        }
      ]
    },
    {
      "metadata": {
        "id": "08kuwcAZJoL9",
        "colab_type": "text"
      },
      "cell_type": "markdown",
      "source": [
        "## VGG16 Model"
      ]
    },
    {
      "metadata": {
        "id": "SeefKI3OI0wX",
        "colab_type": "code",
        "colab": {
          "autoexec": {
            "startup": false,
            "wait_interval": 0
          },
          "base_uri": "https://localhost:8080/",
          "height": 74
        },
        "outputId": "2a3a3605-2a0b-4085-ae19-5e24a335c96a",
        "executionInfo": {
          "status": "ok",
          "timestamp": 1531687461301,
          "user_tz": 300,
          "elapsed": 5738,
          "user": {
            "displayName": "sergi castel",
            "photoUrl": "//lh5.googleusercontent.com/-t7uPTy_PD5c/AAAAAAAAAAI/AAAAAAAABjU/YrQqLvCov5A/s50-c-k-no/photo.jpg",
            "userId": "104485759475975710875"
          }
        }
      },
      "cell_type": "code",
      "source": [
        "from keras.applications.xception import Xception\n",
        "from keras.applications.vgg16 import VGG16\n",
        "\n",
        "modelXceptionTF = VGG16(weights='imagenet', include_top=False)"
      ],
      "execution_count": 32,
      "outputs": [
        {
          "output_type": "stream",
          "text": [
            "Downloading data from https://github.com/fchollet/deep-learning-models/releases/download/v0.1/vgg16_weights_tf_dim_ordering_tf_kernels_notop.h5\n",
            "58892288/58889256 [==============================] - 2s 0us/step\n"
          ],
          "name": "stdout"
        }
      ]
    },
    {
      "metadata": {
        "id": "RhtCIkp3I7tJ",
        "colab_type": "code",
        "colab": {
          "autoexec": {
            "startup": false,
            "wait_interval": 0
          }
        }
      },
      "cell_type": "code",
      "source": [
        "# Pre-process X.\n",
        "newXtrain=modelXceptionTF.predict(xTrain)\n",
        "\n",
        "# Pre-process X.\n",
        "newXtest=modelXceptionTF.predict(xTest)"
      ],
      "execution_count": 0,
      "outputs": []
    },
    {
      "metadata": {
        "id": "QLpIu0LII0zn",
        "colab_type": "code",
        "colab": {
          "autoexec": {
            "startup": false,
            "wait_interval": 0
          },
          "base_uri": "https://localhost:8080/",
          "height": 35
        },
        "outputId": "b14e3a89-57d4-48fa-ec52-9d4792dbe65c",
        "executionInfo": {
          "status": "ok",
          "timestamp": 1531684054606,
          "user_tz": 300,
          "elapsed": 341,
          "user": {
            "displayName": "sergi castel",
            "photoUrl": "//lh5.googleusercontent.com/-t7uPTy_PD5c/AAAAAAAAAAI/AAAAAAAABjU/YrQqLvCov5A/s50-c-k-no/photo.jpg",
            "userId": "104485759475975710875"
          }
        }
      },
      "cell_type": "code",
      "source": [
        "newXtrain.shape"
      ],
      "execution_count": 67,
      "outputs": [
        {
          "output_type": "execute_result",
          "data": {
            "text/plain": [
              "(420, 9, 9, 512)"
            ]
          },
          "metadata": {
            "tags": []
          },
          "execution_count": 67
        }
      ]
    },
    {
      "metadata": {
        "id": "9NziI7psI02s",
        "colab_type": "code",
        "colab": {
          "autoexec": {
            "startup": false,
            "wait_interval": 0
          },
          "base_uri": "https://localhost:8080/",
          "height": 326
        },
        "outputId": "85928331-2eaa-469b-a857-f29a376f8949",
        "executionInfo": {
          "status": "ok",
          "timestamp": 1531687533077,
          "user_tz": 300,
          "elapsed": 5,
          "user": {
            "displayName": "sergi castel",
            "photoUrl": "//lh5.googleusercontent.com/-t7uPTy_PD5c/AAAAAAAAAAI/AAAAAAAABjU/YrQqLvCov5A/s50-c-k-no/photo.jpg",
            "userId": "104485759475975710875"
          }
        }
      },
      "cell_type": "code",
      "source": [
        "from keras.models import Sequential\n",
        "from keras.layers import Conv2D, MaxPooling2D\n",
        "from keras.layers import Activation, Dropout, Flatten, Dense\n",
        "from keras import backend as K\n",
        "import keras.optimizers as opts\n",
        "from livelossplot import PlotLossesKeras\n",
        "\n",
        "# Model structure.\n",
        "outputClasses = 6\n",
        "\n",
        "# Create the model. \n",
        "cnn_transfer = Sequential()\n",
        "\n",
        "# Apply a convolutional layer. \n",
        "cnn_transfer.add(Flatten(input_shape=newXtrain.shape[1:]))\n",
        "\n",
        "# Add the fully connected.\n",
        "cnn_transfer.add(Dense(256, activation='relu'))\n",
        "\n",
        "# Add a dropout.\n",
        "cnn_transfer.add(Dropout(0.5))\n",
        "\n",
        "# Add the fully connected.\n",
        "cnn_transfer.add(Dense(outputClasses))\n",
        "\n",
        "# Add the activation softmax.\n",
        "cnn_transfer.add(Activation('softmax'))\n",
        "\n",
        "print(cnn_transfer.summary(70))\n",
        "\n",
        "# Compile the model. \n",
        "op=opts.Adam(lr=0.0001,epsilon=None, decay=0.0)\n",
        "cnn_transfer.compile(loss = 'categorical_crossentropy',\n",
        "              optimizer = op,\n",
        "              metrics = ['accuracy'])\n",
        "\n",
        "batch_size = 150\n",
        "epochs = 50\n",
        "\n",
        "trainingCNN_Transfer = cnn_transfer.fit(newXtrain, yTrain,\n",
        "                    batch_size=batch_size,\n",
        "                    epochs=epochs,\n",
        "                    verbose=1,\n",
        "                    shuffle = True, \n",
        "                    validation_split = 0.15,\n",
        "                    callbacks=[PlotLossesKeras()])\n"
      ],
      "execution_count": 34,
      "outputs": [
        {
          "output_type": "display_data",
          "data": {
            "image/png": "[encoded data removed]",
            "text/plain": [
              "<matplotlib.figure.Figure at 0x7ffaa3ccab00>"
            ]
          },
          "metadata": {
            "tags": []
          }
        }
      ]
    },
    {
      "metadata": {
        "id": "0PO9JeTNI06B",
        "colab_type": "code",
        "colab": {
          "autoexec": {
            "startup": false,
            "wait_interval": 0
          },
          "base_uri": "https://localhost:8080/",
          "height": 126
        },
        "outputId": "abc4bd92-60d0-422d-bf4f-887c331b2c54",
        "executionInfo": {
          "status": "ok",
          "timestamp": 1531687538067,
          "user_tz": 300,
          "elapsed": 1756,
          "user": {
            "displayName": "sergi castel",
            "photoUrl": "//lh5.googleusercontent.com/-t7uPTy_PD5c/AAAAAAAAAAI/AAAAAAAABjU/YrQqLvCov5A/s50-c-k-no/photo.jpg",
            "userId": "104485759475975710875"
          }
        }
      },
      "cell_type": "code",
      "source": [
        "# Perform the neural network over the test set. \n",
        "print('Evaluating the test set...')\n",
        "score = cnn_transfer.evaluate(newXtest, yTest)\n",
        "\n",
        "print('\\nTest score:', score[0])\n",
        "print('Test accuracy:', score[1])\n",
        "\n",
        "Accu_VGG16=score[1]\n",
        "Accu_VGG16"
      ],
      "execution_count": 35,
      "outputs": [
        {
          "output_type": "stream",
          "text": [
            "Evaluating the test set...\n",
            "180/180 [==============================] - 0s 529us/step\n",
            "\n",
            "Test score: 0.08652253929071398\n",
            "Test accuracy: 0.9833333333333333\n"
          ],
          "name": "stdout"
        },
        {
          "output_type": "execute_result",
          "data": {
            "text/plain": [
              "0.9833333333333333"
            ]
          },
          "metadata": {
            "tags": []
          },
          "execution_count": 35
        }
      ]
    },
    {
      "metadata": {
        "id": "oAndurTlI09p",
        "colab_type": "code",
        "colab": {
          "autoexec": {
            "startup": false,
            "wait_interval": 0
          },
          "base_uri": "https://localhost:8080/",
          "height": 472
        },
        "outputId": "62829a16-7555-4f0b-ab9e-32a1fbc9709c",
        "executionInfo": {
          "status": "ok",
          "timestamp": 1531687543114,
          "user_tz": 300,
          "elapsed": 1024,
          "user": {
            "displayName": "sergi castel",
            "photoUrl": "//lh5.googleusercontent.com/-t7uPTy_PD5c/AAAAAAAAAAI/AAAAAAAABjU/YrQqLvCov5A/s50-c-k-no/photo.jpg",
            "userId": "104485759475975710875"
          }
        }
      },
      "cell_type": "code",
      "source": [
        "from sklearn.metrics import confusion_matrix,classification_report\n",
        "import pandas as pd\n",
        "import numpy as np\n",
        "\n",
        "# Set the classes' names.\n",
        "target_names = ['egr','man','owl','puf','tou','wod']\n",
        "\n",
        "# Predict class in test.\n",
        "Y_pred = cnn_transfer.predict(newXtest)\n",
        "\n",
        "# Choose the class with higher probability.\n",
        "y_pred = np.argmax(Y_pred, axis=1)\n",
        "\n",
        "print('-------------------------------------------------')\n",
        "print('-------------------------------------------------')\n",
        "print('-----------------Confusion Matrix----------------')\n",
        "print(pd.DataFrame(confusion_matrix(yTest.argmax(axis=1), y_pred),columns=target_names, index=target_names))\n",
        "print('-------------------------------------------------')\n",
        "print('-------------------------------------------------\\n')\n",
        "print('---------------Classification Report-------------')\n",
        "\n",
        "print(classification_report(yTest.argmax(axis=1), y_pred, target_names=target_names))"
      ],
      "execution_count": 36,
      "outputs": [
        {
          "output_type": "stream",
          "text": [
            "-------------------------------------------------\n",
            "-------------------------------------------------\n",
            "-----------------Confusion Matrix----------------\n",
            "     egr  man  owl  puf  tou  wod\n",
            "egr   29    0    0    0    0    0\n",
            "man    0   33    0    0    0    0\n",
            "owl    0    0   32    0    0    1\n",
            "puf    0    0    0   34    0    0\n",
            "tou    0    0    0    0   27    0\n",
            "wod    0    1    0    1    0   22\n",
            "-------------------------------------------------\n",
            "-------------------------------------------------\n",
            "\n",
            "---------------Classification Report-------------\n",
            "             precision    recall  f1-score   support\n",
            "\n",
            "        egr       1.00      1.00      1.00        29\n",
            "        man       0.97      1.00      0.99        33\n",
            "        owl       1.00      0.97      0.98        33\n",
            "        puf       0.97      1.00      0.99        34\n",
            "        tou       1.00      1.00      1.00        27\n",
            "        wod       0.96      0.92      0.94        24\n",
            "\n",
            "avg / total       0.98      0.98      0.98       180\n",
            "\n"
          ],
          "name": "stdout"
        }
      ]
    },
    {
      "metadata": {
        "id": "kupedClOYx51",
        "colab_type": "text"
      },
      "cell_type": "markdown",
      "source": [
        "## ResNet50 Model"
      ]
    },
    {
      "metadata": {
        "id": "wo-A9HAXX66Q",
        "colab_type": "code",
        "colab": {
          "autoexec": {
            "startup": false,
            "wait_interval": 0
          },
          "base_uri": "https://localhost:8080/",
          "height": 74
        },
        "outputId": "9861ea7b-1ed2-4ea6-b202-0ae5cae91bf1",
        "executionInfo": {
          "status": "ok",
          "timestamp": 1531687579167,
          "user_tz": 300,
          "elapsed": 22404,
          "user": {
            "displayName": "sergi castel",
            "photoUrl": "//lh5.googleusercontent.com/-t7uPTy_PD5c/AAAAAAAAAAI/AAAAAAAABjU/YrQqLvCov5A/s50-c-k-no/photo.jpg",
            "userId": "104485759475975710875"
          }
        }
      },
      "cell_type": "code",
      "source": [
        "from keras.applications.resnet50 import ResNet50\n",
        "\n",
        "modelXceptionTF = ResNet50(weights='imagenet', include_top=False)"
      ],
      "execution_count": 37,
      "outputs": [
        {
          "output_type": "stream",
          "text": [
            "Downloading data from https://github.com/fchollet/deep-learning-models/releases/download/v0.2/resnet50_weights_tf_dim_ordering_tf_kernels_notop.h5\n",
            "94658560/94653016 [==============================] - 5s 0us/step\n"
          ],
          "name": "stdout"
        }
      ]
    },
    {
      "metadata": {
        "id": "sbGqDyixY3VH",
        "colab_type": "code",
        "colab": {
          "autoexec": {
            "startup": false,
            "wait_interval": 0
          }
        }
      },
      "cell_type": "code",
      "source": [
        "# Pre-process X.\n",
        "newXtrain=modelXceptionTF.predict(xTrain)\n",
        "\n",
        "# Pre-process X.\n",
        "newXtest=modelXceptionTF.predict(xTest)"
      ],
      "execution_count": 0,
      "outputs": []
    },
    {
      "metadata": {
        "id": "CCouDNUWY3RD",
        "colab_type": "code",
        "colab": {
          "autoexec": {
            "startup": false,
            "wait_interval": 0
          },
          "base_uri": "https://localhost:8080/",
          "height": 35
        },
        "outputId": "bb5b3065-821a-465b-f8bb-4a5215eb1228",
        "executionInfo": {
          "status": "ok",
          "timestamp": 1531687597094,
          "user_tz": 300,
          "elapsed": 318,
          "user": {
            "displayName": "sergi castel",
            "photoUrl": "//lh5.googleusercontent.com/-t7uPTy_PD5c/AAAAAAAAAAI/AAAAAAAABjU/YrQqLvCov5A/s50-c-k-no/photo.jpg",
            "userId": "104485759475975710875"
          }
        }
      },
      "cell_type": "code",
      "source": [
        "newXtrain.shape"
      ],
      "execution_count": 39,
      "outputs": [
        {
          "output_type": "execute_result",
          "data": {
            "text/plain": [
              "(420, 1, 1, 2048)"
            ]
          },
          "metadata": {
            "tags": []
          },
          "execution_count": 39
        }
      ]
    },
    {
      "metadata": {
        "id": "6VX4mfPfY3NF",
        "colab_type": "code",
        "colab": {
          "autoexec": {
            "startup": false,
            "wait_interval": 0
          },
          "base_uri": "https://localhost:8080/",
          "height": 326
        },
        "outputId": "49101db4-73a2-4d7c-9333-49e6672bc1a0",
        "executionInfo": {
          "status": "ok",
          "timestamp": 1531687652002,
          "user_tz": 300,
          "elapsed": 6,
          "user": {
            "displayName": "sergi castel",
            "photoUrl": "//lh5.googleusercontent.com/-t7uPTy_PD5c/AAAAAAAAAAI/AAAAAAAABjU/YrQqLvCov5A/s50-c-k-no/photo.jpg",
            "userId": "104485759475975710875"
          }
        }
      },
      "cell_type": "code",
      "source": [
        "from keras.models import Sequential\n",
        "from keras.layers import Conv2D, MaxPooling2D\n",
        "from keras.layers import Activation, Dropout, Flatten, Dense\n",
        "from keras import backend as K\n",
        "import keras.optimizers as opts\n",
        "from livelossplot import PlotLossesKeras\n",
        "\n",
        "# Model structure.\n",
        "outputClasses = 6\n",
        "\n",
        "# Create the model. \n",
        "cnn_transfer = Sequential()\n",
        "\n",
        "# Apply a convolutional layer. \n",
        "cnn_transfer.add(Flatten(input_shape=newXtrain.shape[1:]))\n",
        "\n",
        "# Add the fully connected.\n",
        "cnn_transfer.add(Dense(256, activation='relu'))\n",
        "\n",
        "# Add a dropout.\n",
        "cnn_transfer.add(Dropout(0.5))\n",
        "\n",
        "# Add the fully connected.\n",
        "cnn_transfer.add(Dense(outputClasses))\n",
        "\n",
        "# Add the activation softmax.\n",
        "cnn_transfer.add(Activation('softmax'))\n",
        "\n",
        "print(cnn_transfer.summary(70))\n",
        "\n",
        "# Compile the model. \n",
        "op=opts.Adam(lr=0.0001, epsilon=None, decay=0.0)\n",
        "cnn_transfer.compile(loss = 'categorical_crossentropy',\n",
        "              optimizer = op,\n",
        "              metrics = ['accuracy'])\n",
        "\n",
        "batch_size = 100\n",
        "epochs = 20\n",
        "\n",
        "trainingCNN_Transfer = cnn_transfer.fit(newXtrain, yTrain,\n",
        "                    batch_size=batch_size,\n",
        "                    epochs=epochs,\n",
        "                    verbose=1,\n",
        "                    shuffle = True, \n",
        "                    validation_split = 0.2,\n",
        "                    callbacks=[PlotLossesKeras()])"
      ],
      "execution_count": 41,
      "outputs": [
        {
          "output_type": "display_data",
          "data": {
            "image/png": "[encoded data removed]",
            "text/plain": [
              "<matplotlib.figure.Figure at 0x7ffaa06f1cc0>"
            ]
          },
          "metadata": {
            "tags": []
          }
        }
      ]
    },
    {
      "metadata": {
        "id": "AsrwL765Y3Kp",
        "colab_type": "code",
        "colab": {
          "autoexec": {
            "startup": false,
            "wait_interval": 0
          },
          "base_uri": "https://localhost:8080/",
          "height": 126
        },
        "outputId": "38de0b3f-84c8-4b2e-e699-acda4a0b7505",
        "executionInfo": {
          "status": "ok",
          "timestamp": 1531687658754,
          "user_tz": 300,
          "elapsed": 340,
          "user": {
            "displayName": "sergi castel",
            "photoUrl": "//lh5.googleusercontent.com/-t7uPTy_PD5c/AAAAAAAAAAI/AAAAAAAABjU/YrQqLvCov5A/s50-c-k-no/photo.jpg",
            "userId": "104485759475975710875"
          }
        }
      },
      "cell_type": "code",
      "source": [
        "# Perform the neural network over the test set. \n",
        "print('Evaluating the test set...')\n",
        "score = cnn_transfer.evaluate(newXtest, yTest)\n",
        "\n",
        "print('\\nTest score:', score[0])\n",
        "print('Test accuracy:', score[1])\n",
        "Accu_RestNet=score[1]\n",
        "Accu_RestNet"
      ],
      "execution_count": 42,
      "outputs": [
        {
          "output_type": "stream",
          "text": [
            "Evaluating the test set...\n",
            "180/180 [==============================] - 0s 149us/step\n",
            "\n",
            "Test score: 0.11291628711753421\n",
            "Test accuracy: 0.9888888888888889\n"
          ],
          "name": "stdout"
        },
        {
          "output_type": "execute_result",
          "data": {
            "text/plain": [
              "0.9888888888888889"
            ]
          },
          "metadata": {
            "tags": []
          },
          "execution_count": 42
        }
      ]
    },
    {
      "metadata": {
        "id": "MRwbg7Npc7SG",
        "colab_type": "code",
        "colab": {
          "autoexec": {
            "startup": false,
            "wait_interval": 0
          },
          "base_uri": "https://localhost:8080/",
          "height": 472
        },
        "outputId": "8c378fb8-dfcc-458b-f966-b9d27556a9d2",
        "executionInfo": {
          "status": "ok",
          "timestamp": 1531687674130,
          "user_tz": 300,
          "elapsed": 1348,
          "user": {
            "displayName": "sergi castel",
            "photoUrl": "//lh5.googleusercontent.com/-t7uPTy_PD5c/AAAAAAAAAAI/AAAAAAAABjU/YrQqLvCov5A/s50-c-k-no/photo.jpg",
            "userId": "104485759475975710875"
          }
        }
      },
      "cell_type": "code",
      "source": [
        "from sklearn.metrics import confusion_matrix,classification_report\n",
        "import pandas as pd\n",
        "import numpy as np\n",
        "\n",
        "# Set the classes' names.\n",
        "target_names = ['egr','man','owl','puf','tou','wod']\n",
        "\n",
        "# Predict class in test.\n",
        "Y_pred = cnn_transfer.predict(newXtest)\n",
        "\n",
        "# Choose the class with higher probability.\n",
        "y_pred = np.argmax(Y_pred, axis=1)\n",
        "\n",
        "print('-------------------------------------------------')\n",
        "print('-------------------------------------------------')\n",
        "print('-----------------Confusion Matrix----------------')\n",
        "print(pd.DataFrame(confusion_matrix(yTest.argmax(axis=1), y_pred),columns=target_names, index=target_names))\n",
        "print('-------------------------------------------------')\n",
        "print('-------------------------------------------------\\n')\n",
        "print('---------------Classification Report-------------')\n",
        "\n",
        "print(classification_report(yTest.argmax(axis=1), y_pred, target_names=target_names))"
      ],
      "execution_count": 43,
      "outputs": [
        {
          "output_type": "stream",
          "text": [
            "-------------------------------------------------\n",
            "-------------------------------------------------\n",
            "-----------------Confusion Matrix----------------\n",
            "     egr  man  owl  puf  tou  wod\n",
            "egr   29    0    0    0    0    0\n",
            "man    0   31    0    1    0    1\n",
            "owl    0    0   33    0    0    0\n",
            "puf    0    0    0   34    0    0\n",
            "tou    0    0    0    0   27    0\n",
            "wod    0    0    0    0    0   24\n",
            "-------------------------------------------------\n",
            "-------------------------------------------------\n",
            "\n",
            "---------------Classification Report-------------\n",
            "             precision    recall  f1-score   support\n",
            "\n",
            "        egr       1.00      1.00      1.00        29\n",
            "        man       1.00      0.94      0.97        33\n",
            "        owl       1.00      1.00      1.00        33\n",
            "        puf       0.97      1.00      0.99        34\n",
            "        tou       1.00      1.00      1.00        27\n",
            "        wod       0.96      1.00      0.98        24\n",
            "\n",
            "avg / total       0.99      0.99      0.99       180\n",
            "\n"
          ],
          "name": "stdout"
        }
      ]
    },
    {
      "metadata": {
        "id": "uK1HJAmHncUB",
        "colab_type": "text"
      },
      "cell_type": "markdown",
      "source": [
        "## InceptionV3 Model"
      ]
    },
    {
      "metadata": {
        "id": "M-EhYdCKmo75",
        "colab_type": "code",
        "colab": {
          "autoexec": {
            "startup": false,
            "wait_interval": 0
          },
          "base_uri": "https://localhost:8080/",
          "height": 74
        },
        "outputId": "ae5249f3-6498-489e-c337-203235135f9a",
        "executionInfo": {
          "status": "ok",
          "timestamp": 1531687704696,
          "user_tz": 300,
          "elapsed": 27632,
          "user": {
            "displayName": "sergi castel",
            "photoUrl": "//lh5.googleusercontent.com/-t7uPTy_PD5c/AAAAAAAAAAI/AAAAAAAABjU/YrQqLvCov5A/s50-c-k-no/photo.jpg",
            "userId": "104485759475975710875"
          }
        }
      },
      "cell_type": "code",
      "source": [
        "from keras.applications.inception_v3 import InceptionV3\n",
        "\n",
        "modelXceptionTF = InceptionV3(weights='imagenet', include_top=False)"
      ],
      "execution_count": 44,
      "outputs": [
        {
          "output_type": "stream",
          "text": [
            "Downloading data from https://github.com/fchollet/deep-learning-models/releases/download/v0.5/inception_v3_weights_tf_dim_ordering_tf_kernels_notop.h5\n",
            "87916544/87910968 [==============================] - 5s 0us/step\n"
          ],
          "name": "stdout"
        }
      ]
    },
    {
      "metadata": {
        "id": "l9usL0SImo3W",
        "colab_type": "code",
        "colab": {
          "autoexec": {
            "startup": false,
            "wait_interval": 0
          }
        }
      },
      "cell_type": "code",
      "source": [
        "# Pre-process X.\n",
        "newXtrain=modelXceptionTF.predict(xTrain)\n",
        "\n",
        "# Pre-process X.\n",
        "newXtest=modelXceptionTF.predict(xTest)"
      ],
      "execution_count": 0,
      "outputs": []
    },
    {
      "metadata": {
        "id": "LeKkpJVqmosZ",
        "colab_type": "code",
        "colab": {
          "autoexec": {
            "startup": false,
            "wait_interval": 0
          },
          "base_uri": "https://localhost:8080/",
          "height": 35
        },
        "outputId": "fe3e2935-45f5-4743-9c83-1fb157961430",
        "executionInfo": {
          "status": "ok",
          "timestamp": 1531687732843,
          "user_tz": 300,
          "elapsed": 336,
          "user": {
            "displayName": "sergi castel",
            "photoUrl": "//lh5.googleusercontent.com/-t7uPTy_PD5c/AAAAAAAAAAI/AAAAAAAABjU/YrQqLvCov5A/s50-c-k-no/photo.jpg",
            "userId": "104485759475975710875"
          }
        }
      },
      "cell_type": "code",
      "source": [
        "newXtrain.shape"
      ],
      "execution_count": 47,
      "outputs": [
        {
          "output_type": "execute_result",
          "data": {
            "text/plain": [
              "(420, 8, 8, 2048)"
            ]
          },
          "metadata": {
            "tags": []
          },
          "execution_count": 47
        }
      ]
    },
    {
      "metadata": {
        "id": "Sd4NcVqBmoco",
        "colab_type": "code",
        "colab": {
          "autoexec": {
            "startup": false,
            "wait_interval": 0
          },
          "base_uri": "https://localhost:8080/",
          "height": 326
        },
        "outputId": "bbf60598-3d04-4f8a-c883-d0e89e56a1e9",
        "executionInfo": {
          "status": "ok",
          "timestamp": 1531687826144,
          "user_tz": 300,
          "elapsed": 5,
          "user": {
            "displayName": "sergi castel",
            "photoUrl": "//lh5.googleusercontent.com/-t7uPTy_PD5c/AAAAAAAAAAI/AAAAAAAABjU/YrQqLvCov5A/s50-c-k-no/photo.jpg",
            "userId": "104485759475975710875"
          }
        }
      },
      "cell_type": "code",
      "source": [
        "from keras.models import Sequential\n",
        "from keras.layers import Conv2D, MaxPooling2D\n",
        "from keras.layers import Activation, Dropout, Flatten, Dense\n",
        "from keras import backend as K\n",
        "import keras.optimizers as opts\n",
        "from livelossplot import PlotLossesKeras\n",
        "\n",
        "# Model structure.\n",
        "outputClasses = 6\n",
        "\n",
        "# Create the model. \n",
        "cnn_transfer = Sequential()\n",
        "\n",
        "# Apply a convolutional layer. \n",
        "cnn_transfer.add(Flatten(input_shape=newXtrain.shape[1:]))\n",
        "\n",
        "# Add the fully connected.\n",
        "cnn_transfer.add(Dense(256, activation='relu'))\n",
        "\n",
        "# Add a dropout.\n",
        "cnn_transfer.add(Dropout(0.2))\n",
        "\n",
        "# Add the fully connected.\n",
        "cnn_transfer.add(Dense(outputClasses))\n",
        "\n",
        "# Add the activation softmax.\n",
        "cnn_transfer.add(Activation('softmax'))\n",
        "\n",
        "print(cnn_transfer.summary(70))\n",
        "\n",
        "# Compile the model. \n",
        "op=opts.SGD(lr=0.0001, decay=0.0)\n",
        "cnn_transfer.compile(loss = 'categorical_crossentropy',\n",
        "              optimizer = op,\n",
        "              metrics = ['accuracy'])\n",
        "\n",
        "batch_size = 100\n",
        "epochs = 50\n",
        "\n",
        "trainingCNN_Transfer = cnn_transfer.fit(newXtrain, yTrain,\n",
        "                    batch_size=batch_size,\n",
        "                    epochs=epochs,\n",
        "                    verbose=1,\n",
        "                    shuffle = True, \n",
        "                    validation_split = 0.2,\n",
        "                    callbacks=[PlotLossesKeras()])"
      ],
      "execution_count": 49,
      "outputs": [
        {
          "output_type": "display_data",
          "data": {
            "image/png": "[encoded data removed]",
            "text/plain": [
              "<matplotlib.figure.Figure at 0x7ffa95461550>"
            ]
          },
          "metadata": {
            "tags": []
          }
        }
      ]
    },
    {
      "metadata": {
        "id": "7pYO1rd6amQ2",
        "colab_type": "code",
        "colab": {
          "autoexec": {
            "startup": false,
            "wait_interval": 0
          },
          "base_uri": "https://localhost:8080/",
          "height": 126
        },
        "outputId": "95af5f91-4742-4538-cd40-4f438c7cf634",
        "executionInfo": {
          "status": "ok",
          "timestamp": 1531687831438,
          "user_tz": 300,
          "elapsed": 482,
          "user": {
            "displayName": "sergi castel",
            "photoUrl": "//lh5.googleusercontent.com/-t7uPTy_PD5c/AAAAAAAAAAI/AAAAAAAABjU/YrQqLvCov5A/s50-c-k-no/photo.jpg",
            "userId": "104485759475975710875"
          }
        }
      },
      "cell_type": "code",
      "source": [
        "# Perform the neural network over the test set. \n",
        "print('Evaluating the test set...')\n",
        "score = cnn_transfer.evaluate(newXtest, yTest)\n",
        "\n",
        "print('\\nTest score:', score[0])\n",
        "print('Test accuracy:', score[1])\n",
        "Accu_InceptionV3=score[1]\n",
        "Accu_InceptionV3"
      ],
      "execution_count": 50,
      "outputs": [
        {
          "output_type": "stream",
          "text": [
            "Evaluating the test set...\n",
            "180/180 [==============================] - 0s 1ms/step\n",
            "\n",
            "Test score: 8.754955334133571\n",
            "Test accuracy: 0.43888888955116273\n"
          ],
          "name": "stdout"
        },
        {
          "output_type": "execute_result",
          "data": {
            "text/plain": [
              "0.43888888955116273"
            ]
          },
          "metadata": {
            "tags": []
          },
          "execution_count": 50
        }
      ]
    },
    {
      "metadata": {
        "id": "EW5iblt6moVI",
        "colab_type": "code",
        "colab": {
          "autoexec": {
            "startup": false,
            "wait_interval": 0
          },
          "base_uri": "https://localhost:8080/",
          "height": 528
        },
        "outputId": "5330efee-bdff-4fb6-ae00-114edc1268be",
        "executionInfo": {
          "status": "ok",
          "timestamp": 1531687840080,
          "user_tz": 300,
          "elapsed": 2626,
          "user": {
            "displayName": "sergi castel",
            "photoUrl": "//lh5.googleusercontent.com/-t7uPTy_PD5c/AAAAAAAAAAI/AAAAAAAABjU/YrQqLvCov5A/s50-c-k-no/photo.jpg",
            "userId": "104485759475975710875"
          }
        }
      },
      "cell_type": "code",
      "source": [
        "from sklearn.metrics import confusion_matrix,classification_report\n",
        "import pandas as pd\n",
        "import numpy as np\n",
        "\n",
        "# Set the classes' names.\n",
        "target_names = ['egr','man','owl','puf','tou','wod']\n",
        "\n",
        "# Predict class in test.\n",
        "Y_pred = cnn_transfer.predict(newXtest)\n",
        "\n",
        "# Choose the class with higher probability.\n",
        "y_pred = np.argmax(Y_pred, axis=1)\n",
        "\n",
        "print('-------------------------------------------------')\n",
        "print('-------------------------------------------------')\n",
        "print('-----------------Confusion Matrix----------------')\n",
        "print(pd.DataFrame(confusion_matrix(yTest.argmax(axis=1), y_pred),columns=target_names, index=target_names))\n",
        "print('-------------------------------------------------')\n",
        "print('-------------------------------------------------\\n')\n",
        "print('---------------Classification Report-------------')\n",
        "\n",
        "print(classification_report(yTest.argmax(axis=1), y_pred, target_names=target_names))"
      ],
      "execution_count": 51,
      "outputs": [
        {
          "output_type": "stream",
          "text": [
            "-------------------------------------------------\n",
            "-------------------------------------------------\n",
            "-----------------Confusion Matrix----------------\n",
            "     egr  man  owl  puf  tou  wod\n",
            "egr    3    2    8   16    0    0\n",
            "man    0   24    1    8    0    0\n",
            "owl    0    3   25    5    0    0\n",
            "puf    0    1    6   27    0    0\n",
            "tou    0    7    5   15    0    0\n",
            "wod    0   15    3    6    0    0\n",
            "-------------------------------------------------\n",
            "-------------------------------------------------\n",
            "\n",
            "---------------Classification Report-------------\n",
            "             precision    recall  f1-score   support\n",
            "\n",
            "        egr       1.00      0.10      0.19        29\n",
            "        man       0.46      0.73      0.56        33\n",
            "        owl       0.52      0.76      0.62        33\n",
            "        puf       0.35      0.79      0.49        34\n",
            "        tou       0.00      0.00      0.00        27\n",
            "        wod       0.00      0.00      0.00        24\n",
            "\n",
            "avg / total       0.41      0.44      0.34       180\n",
            "\n"
          ],
          "name": "stdout"
        },
        {
          "output_type": "stream",
          "text": [
            "/usr/local/lib/python3.6/dist-packages/sklearn/metrics/classification.py:1135: UndefinedMetricWarning: Precision and F-score are ill-defined and being set to 0.0 in labels with no predicted samples.\n",
            "  'precision', 'predicted', average, warn_for)\n"
          ],
          "name": "stderr"
        }
      ]
    },
    {
      "metadata": {
        "id": "CzhjTglKZi3F",
        "colab_type": "text"
      },
      "cell_type": "markdown",
      "source": [
        "## Comparing Transfer Learning Models"
      ]
    },
    {
      "metadata": {
        "id": "45Du4VytZiK0",
        "colab_type": "code",
        "colab": {
          "autoexec": {
            "startup": false,
            "wait_interval": 0
          },
          "base_uri": "https://localhost:8080/",
          "height": 351
        },
        "outputId": "32e1a75c-a609-4117-83d7-099cc99e0a9a",
        "executionInfo": {
          "status": "ok",
          "timestamp": 1531688012324,
          "user_tz": 300,
          "elapsed": 2570,
          "user": {
            "displayName": "sergi castel",
            "photoUrl": "//lh5.googleusercontent.com/-t7uPTy_PD5c/AAAAAAAAAAI/AAAAAAAABjU/YrQqLvCov5A/s50-c-k-no/photo.jpg",
            "userId": "104485759475975710875"
          }
        }
      },
      "cell_type": "code",
      "source": [
        "plt.figure(figsize=(10,5))\n",
        "plt.bar([\"Xception\",\"VGG16\",\"ResNet50\",\"InceptionV3\"],sorted([Accu_Xception,Accu_VGG16,Accu_RestNet,Accu_InceptionV3]),color=\"orange\",align='center')\n",
        "plt.title(\"TRANSFER LEARNING MODELS\")\n",
        "plt.xlabel(\"Models\",fontsize=12)\n",
        "plt.ylabel(\"Accuracy\")\n",
        "plt.show()"
      ],
      "execution_count": 53,
      "outputs": [
        {
          "output_type": "display_data",
          "data": {
            "image/png": "[encoded data removed]",
            "text/plain": [
              "<matplotlib.figure.Figure at 0x7ffa9532ff28>"
            ]
          },
          "metadata": {
            "tags": []
          }
        }
      ]
    },
    {
      "metadata": {
        "id": "Z5l9aEkKiyrd",
        "colab_type": "text"
      },
      "cell_type": "markdown",
      "source": [
        "# Fine Tuning "
      ]
    },
    {
      "metadata": {
        "id": "iZq6WOw4iyre",
        "colab_type": "text"
      },
      "cell_type": "markdown",
      "source": [
        "We use the pre-trained CNN model as a feature extractor. The pretrained model was 'Xception'. We also replace the top part of the pretrained CNN with two layers of 256 and 6 neurons respectively. Weigths in Xception are also trained."
      ]
    },
    {
      "metadata": {
        "id": "cTXqrgUhxfPp",
        "colab_type": "code",
        "colab": {
          "autoexec": {
            "startup": false,
            "wait_interval": 0
          }
        }
      },
      "cell_type": "code",
      "source": [
        "K.clear_session()"
      ],
      "execution_count": 0,
      "outputs": []
    },
    {
      "metadata": {
        "id": "0b_w5KuBzXeT",
        "colab_type": "text"
      },
      "cell_type": "markdown",
      "source": [
        "## Xception Model"
      ]
    },
    {
      "metadata": {
        "id": "DrI1hf8siyrf",
        "colab_type": "code",
        "colab": {
          "autoexec": {
            "startup": false,
            "wait_interval": 0
          },
          "base_uri": "https://localhost:8080/",
          "height": 326
        },
        "outputId": "7d574774-3d55-4d3f-8360-76976ce7ee13",
        "executionInfo": {
          "status": "ok",
          "timestamp": 1531689028204,
          "user_tz": 300,
          "elapsed": 5,
          "user": {
            "displayName": "sergi castel",
            "photoUrl": "//lh5.googleusercontent.com/-t7uPTy_PD5c/AAAAAAAAAAI/AAAAAAAABjU/YrQqLvCov5A/s50-c-k-no/photo.jpg",
            "userId": "104485759475975710875"
          }
        }
      },
      "cell_type": "code",
      "source": [
        "from keras.applications.xception import Xception\n",
        "from keras.models import Sequential\n",
        "from keras.layers import Conv2D, MaxPooling2D\n",
        "from keras.layers import Activation, Dropout, Flatten, Dense\n",
        "from keras import backend as K\n",
        "import keras.optimizers as opts\n",
        "from livelossplot import PlotLossesKeras\n",
        "\n",
        "# Model structure.\n",
        "outputClasses = 6\n",
        "\n",
        "# Load pretrained model..\n",
        "modelXception = Xception(weights='imagenet', include_top=False, input_shape=(xsize,ysize,3))\n",
        "#modelXception = VGG16(weights='imagenet', include_top=False, input_shape=(xsize,ysize,3))\n",
        "\n",
        "# Create the model. \n",
        "modelFineTuning = Sequential()\n",
        "\n",
        "# Add pretrained model. \n",
        "modelFineTuning.add(modelXception)\n",
        "\n",
        "# Apply a convolutional layer. \n",
        "modelFineTuning.add(Flatten())\n",
        "\n",
        "# Add the fully connected.\n",
        "modelFineTuning.add(Dense(256, activation='softmax'))\n",
        "\n",
        "# Add a dropout.\n",
        "modelFineTuning.add(Dropout(0.5))\n",
        "\n",
        "# Add the fully connected.\n",
        "modelFineTuning.add(Dense(outputClasses))\n",
        "\n",
        "# Add the activation softmax.\n",
        "modelFineTuning.add(Activation('softmax'))\n",
        "\n",
        "modelFineTuning.summary(70)\n",
        "\n",
        "# Compile the model. \n",
        "op=opts.SGD(lr=0.0001, decay=0.0)\n",
        "#op=opts.RMSprop()\n",
        "modelFineTuning.compile(loss = 'categorical_crossentropy',\n",
        "              optimizer = op,\n",
        "              metrics = ['accuracy'])\n",
        "\n",
        "batch_size = 10\n",
        "epochs = 2\n",
        "\n",
        "# Train Model.\n",
        "trainingCNN_FineTuning = modelFineTuning.fit(xTrain, yTrain,\n",
        "                    batch_size=batch_size,\n",
        "                    epochs=epochs,\n",
        "                    verbose=1,\n",
        "                    shuffle = True, \n",
        "                    validation_split =0.1,callbacks=[PlotLossesKeras()])\n",
        "\n"
      ],
      "execution_count": 16,
      "outputs": [
        {
          "output_type": "display_data",
          "data": {
            "image/png": "[encoded data removed]",
            "text/plain": [
              "<matplotlib.figure.Figure at 0x7f0664d1e3c8>"
            ]
          },
          "metadata": {
            "tags": []
          }
        }
      ]
    },
    {
      "metadata": {
        "id": "qjENYk3viyrp",
        "colab_type": "code",
        "colab": {
          "autoexec": {
            "startup": false,
            "wait_interval": 0
          },
          "base_uri": "https://localhost:8080/",
          "height": 115
        },
        "outputId": "14b463e1-5ce2-489a-d9d3-97df8c9b9114",
        "executionInfo": {
          "status": "ok",
          "timestamp": 1531689807708,
          "user_tz": 300,
          "elapsed": 4237,
          "user": {
            "displayName": "sergi castel",
            "photoUrl": "//lh5.googleusercontent.com/-t7uPTy_PD5c/AAAAAAAAAAI/AAAAAAAABjU/YrQqLvCov5A/s50-c-k-no/photo.jpg",
            "userId": "104485759475975710875"
          }
        }
      },
      "cell_type": "code",
      "source": [
        "# Perform the neural network over the test set. \n",
        "print('Evaluating the test set...')\n",
        "score = modelFineTuning.evaluate(xTest, yTest)\n",
        "\n",
        "print('\\nTest score:', score[0])\n",
        "print('Test accuracy:', score[1])\n",
        "Accur_Xception=score[1]\n",
        "Accur_Xception"
      ],
      "execution_count": 24,
      "outputs": [
        {
          "output_type": "stream",
          "text": [
            "Evaluating the test set...\n",
            "180/180 [==============================] - 4s 21ms/step\n",
            "\n",
            "Test score: 1.7934069156646728\n",
            "Test accuracy: 0.10000000066227382\n"
          ],
          "name": "stdout"
        },
        {
          "output_type": "execute_result",
          "data": {
            "text/plain": [
              "0.10000000066227382"
            ]
          },
          "metadata": {
            "tags": []
          },
          "execution_count": 24
        }
      ]
    },
    {
      "metadata": {
        "id": "YxMMbhDPiyrs",
        "colab_type": "code",
        "colab": {
          "autoexec": {
            "startup": false,
            "wait_interval": 0
          }
        }
      },
      "cell_type": "code",
      "source": [
        "from sklearn.metrics import confusion_matrix,classification_report\n",
        "import pandas as pd\n",
        "import numpy as np\n",
        "\n",
        "# Set the classes' names.\n",
        "target_names = ['egr','man','owl','puf','tou','wod']\n",
        "\n",
        "# Predict class in test.\n",
        "Y_pred = modelFineTuning.predict(xTest)\n",
        "\n",
        "# Choose the class with higher probability.\n",
        "y_pred = np.argmax(Y_pred, axis=1)\n",
        "\n",
        "print('-------------------------------------------------')\n",
        "print('-------------------------------------------------')\n",
        "print('-----------------Confusion Matrix----------------')\n",
        "print(pd.DataFrame(confusion_matrix(yTest.argmax(axis=1), y_pred),columns=target_names, index=target_names))\n",
        "print('-------------------------------------------------')\n",
        "print('-------------------------------------------------\\n')\n",
        "print('---------------Classification Report-------------')\n",
        "\n",
        "print(classification_report(yTest.argmax(axis=1), y_pred, target_names=target_names))"
      ],
      "execution_count": 0,
      "outputs": []
    },
    {
      "metadata": {
        "id": "bwf6ocAvyLmI",
        "colab_type": "text"
      },
      "cell_type": "markdown",
      "source": [
        "## VGG16 Model"
      ]
    },
    {
      "metadata": {
        "id": "8KWaaI1QyLNp",
        "colab_type": "code",
        "colab": {
          "autoexec": {
            "startup": false,
            "wait_interval": 0
          },
          "base_uri": "https://localhost:8080/",
          "height": 326
        },
        "outputId": "0842c0d9-7b83-458b-e5d2-503076477f44",
        "executionInfo": {
          "status": "ok",
          "timestamp": 1531690805062,
          "user_tz": 300,
          "elapsed": 7,
          "user": {
            "displayName": "sergi castel",
            "photoUrl": "//lh5.googleusercontent.com/-t7uPTy_PD5c/AAAAAAAAAAI/AAAAAAAABjU/YrQqLvCov5A/s50-c-k-no/photo.jpg",
            "userId": "104485759475975710875"
          }
        }
      },
      "cell_type": "code",
      "source": [
        "from keras.applications.xception import Xception\n",
        "from keras.applications.vgg16 import VGG16\n",
        "from keras.models import Sequential\n",
        "from keras.layers import Conv2D, MaxPooling2D\n",
        "from keras.layers import Activation, Dropout, Flatten, Dense\n",
        "from keras import backend as K\n",
        "import keras.optimizers as opts\n",
        "from livelossplot import PlotLossesKeras\n",
        "\n",
        "# Model structure.\n",
        "outputClasses = 6\n",
        "\n",
        "# Load pretrained model..\n",
        "modelXception = VGG16(weights='imagenet', include_top=False, input_shape=(xsize,ysize,3))\n",
        "\n",
        "# Create the model. \n",
        "modelFineTuning = Sequential()\n",
        "\n",
        "# Add pretrained model. \n",
        "modelFineTuning.add(modelXception)\n",
        "\n",
        "# Apply a convolutional layer. \n",
        "modelFineTuning.add(Flatten())\n",
        "\n",
        "# Add the fully connected.\n",
        "modelFineTuning.add(Dense(256, activation='softmax'))\n",
        "\n",
        "# Add a dropout.\n",
        "#modelFineTuning.add(Dropout(0.5))\n",
        "\n",
        "# Add the fully connected.\n",
        "modelFineTuning.add(Dense(outputClasses))\n",
        "\n",
        "# Add the activation softmax.\n",
        "modelFineTuning.add(Activation('softmax'))\n",
        "\n",
        "modelFineTuning.summary(70)\n",
        "\n",
        "# Compile the model. \n",
        "op=opts.adadelta(lr=0.001, decay=0.0)\n",
        "#op=opts.RMSprop()\n",
        "modelFineTuning.compile(loss = 'categorical_crossentropy',\n",
        "              optimizer = op,\n",
        "              metrics = ['accuracy'])\n",
        "\n",
        "batch_size = 10\n",
        "epochs = 5\n",
        "\n",
        "# Train Model.\n",
        "trainingCNN_FineTuning = modelFineTuning.fit(xTrain, yTrain,\n",
        "                    batch_size=batch_size,\n",
        "                    epochs=epochs,\n",
        "                    verbose=1,\n",
        "                    shuffle = True, \n",
        "                    validation_split =0.2,callbacks=[PlotLossesKeras()])\n"
      ],
      "execution_count": 32,
      "outputs": [
        {
          "output_type": "display_data",
          "data": {
            "image/png": "[encoded data removed]",
            "text/plain": [
              "<matplotlib.figure.Figure at 0x7f05dfa3b898>"
            ]
          },
          "metadata": {
            "tags": []
          }
        }
      ]
    },
    {
      "metadata": {
        "id": "_XAux7ipyLEB",
        "colab_type": "code",
        "colab": {
          "autoexec": {
            "startup": false,
            "wait_interval": 0
          },
          "base_uri": "https://localhost:8080/",
          "height": 115
        },
        "outputId": "2ceb2108-16e7-4b89-baa6-f65937fe3e43",
        "executionInfo": {
          "status": "ok",
          "timestamp": 1531690814228,
          "user_tz": 300,
          "elapsed": 3777,
          "user": {
            "displayName": "sergi castel",
            "photoUrl": "//lh5.googleusercontent.com/-t7uPTy_PD5c/AAAAAAAAAAI/AAAAAAAABjU/YrQqLvCov5A/s50-c-k-no/photo.jpg",
            "userId": "104485759475975710875"
          }
        }
      },
      "cell_type": "code",
      "source": [
        "# Perform the neural network over the test set. \n",
        "print('Evaluating the test set...')\n",
        "score = modelFineTuning.evaluate(xTest, yTest)\n",
        "\n",
        "print('\\nTest score:', score[0])\n",
        "print('Test accuracy:', score[1])\n",
        "Accur_VGG16=score[1]\n",
        "Accur_VGG16"
      ],
      "execution_count": 33,
      "outputs": [
        {
          "output_type": "stream",
          "text": [
            "Evaluating the test set...\n",
            "180/180 [==============================] - 3s 19ms/step\n",
            "\n",
            "Test score: 1.7819314161936441\n",
            "Test accuracy: 0.21666666699780357\n"
          ],
          "name": "stdout"
        },
        {
          "output_type": "execute_result",
          "data": {
            "text/plain": [
              "0.21666666699780357"
            ]
          },
          "metadata": {
            "tags": []
          },
          "execution_count": 33
        }
      ]
    },
    {
      "metadata": {
        "id": "j02tjM9gyK3I",
        "colab_type": "code",
        "colab": {
          "autoexec": {
            "startup": false,
            "wait_interval": 0
          },
          "base_uri": "https://localhost:8080/",
          "height": 423
        },
        "outputId": "f8525d6a-cef0-4f8d-cdef-0620dfe97180",
        "executionInfo": {
          "status": "ok",
          "timestamp": 1531690828990,
          "user_tz": 300,
          "elapsed": 7991,
          "user": {
            "displayName": "sergi castel",
            "photoUrl": "//lh5.googleusercontent.com/-t7uPTy_PD5c/AAAAAAAAAAI/AAAAAAAABjU/YrQqLvCov5A/s50-c-k-no/photo.jpg",
            "userId": "104485759475975710875"
          }
        }
      },
      "cell_type": "code",
      "source": [
        "from sklearn.metrics import confusion_matrix,classification_report\n",
        "import pandas as pd\n",
        "import numpy as np\n",
        "\n",
        "# Set the classes' names.\n",
        "target_names = ['egr','man','owl','puf','tou','wod']\n",
        "\n",
        "# Predict class in test.\n",
        "Y_pred = modelFineTuning.predict(xTest)\n",
        "\n",
        "# Choose the class with higher probability.\n",
        "y_pred = np.argmax(Y_pred, axis=1)\n",
        "\n",
        "print('-------------------------------------------------')\n",
        "print('-------------------------------------------------')\n",
        "print('-----------------Confusion Matrix----------------')\n",
        "print(pd.DataFrame(confusion_matrix(yTest.argmax(axis=1), y_pred),columns=target_names, index=target_names))\n",
        "print('-------------------------------------------------')\n",
        "print('-------------------------------------------------\\n')\n",
        "print('---------------Classification Report-------------')\n",
        "\n",
        "print(classification_report(yTest.argmax(axis=1), y_pred, target_names=target_names))"
      ],
      "execution_count": 34,
      "outputs": [
        {
          "output_type": "stream",
          "text": [
            "-------------------------------------------------\n",
            "-------------------------------------------------\n",
            "-----------------Confusion Matrix----------------\n",
            "     egr  man  owl  puf  tou  wod\n",
            "egr    7   10    6    1    3    2\n",
            "man    3   13    9    2    4    2\n",
            "owl    3    8    8    6    4    4\n",
            "puf    5    6    9    5    5    4\n",
            "tou    3    4   11    4    3    2\n",
            "wod    2    6    4    4    5    3\n",
            "-------------------------------------------------\n",
            "-------------------------------------------------\n",
            "\n",
            "---------------Classification Report-------------\n",
            "             precision    recall  f1-score   support\n",
            "\n",
            "        egr       0.30      0.24      0.27        29\n",
            "        man       0.28      0.39      0.33        33\n",
            "        owl       0.17      0.24      0.20        33\n",
            "        puf       0.23      0.15      0.18        34\n",
            "        tou       0.12      0.11      0.12        27\n",
            "        wod       0.18      0.12      0.15        24\n",
            "\n",
            "avg / total       0.22      0.22      0.21       180\n",
            "\n"
          ],
          "name": "stdout"
        }
      ]
    },
    {
      "metadata": {
        "id": "wBCLjyt_zRcX",
        "colab_type": "text"
      },
      "cell_type": "markdown",
      "source": [
        "## ResNet50 Model"
      ]
    },
    {
      "metadata": {
        "id": "a5372gumzsJz",
        "colab_type": "code",
        "colab": {
          "autoexec": {
            "startup": false,
            "wait_interval": 0
          },
          "base_uri": "https://localhost:8080/",
          "height": 326
        },
        "outputId": "b442e43f-def8-4e55-f711-7b92cbb1e01b",
        "executionInfo": {
          "status": "ok",
          "timestamp": 1531691074793,
          "user_tz": 300,
          "elapsed": 10,
          "user": {
            "displayName": "sergi castel",
            "photoUrl": "//lh5.googleusercontent.com/-t7uPTy_PD5c/AAAAAAAAAAI/AAAAAAAABjU/YrQqLvCov5A/s50-c-k-no/photo.jpg",
            "userId": "104485759475975710875"
          }
        }
      },
      "cell_type": "code",
      "source": [
        "from keras.applications.xception import Xception\n",
        "from keras.applications.vgg16 import VGG16\n",
        "from keras.applications.resnet50 import ResNet50\n",
        "from keras.models import Sequential\n",
        "from keras.layers import Conv2D, MaxPooling2D\n",
        "from keras.layers import Activation, Dropout, Flatten, Dense\n",
        "from keras import backend as K\n",
        "import keras.optimizers as opts\n",
        "from livelossplot import PlotLossesKeras\n",
        "\n",
        "# Model structure.\n",
        "outputClasses = 6\n",
        "\n",
        "# Load pretrained model..\n",
        "modelXception = ResNet50(weights='imagenet', include_top=False, input_shape=(xsize,ysize,3))\n",
        "\n",
        "# Create the model. \n",
        "modelFineTuning = Sequential()\n",
        "\n",
        "# Add pretrained model. \n",
        "modelFineTuning.add(modelXception)\n",
        "\n",
        "# Apply a convolutional layer. \n",
        "modelFineTuning.add(Flatten())\n",
        "\n",
        "# Add the fully connected.\n",
        "modelFineTuning.add(Dense(256, activation='softmax'))\n",
        "\n",
        "# Add a dropout.\n",
        "#modelFineTuning.add(Dropout(0.5))\n",
        "\n",
        "# Add the fully connected.\n",
        "modelFineTuning.add(Dense(outputClasses))\n",
        "\n",
        "# Add the activation softmax.\n",
        "modelFineTuning.add(Activation('softmax'))\n",
        "\n",
        "modelFineTuning.summary(70)\n",
        "\n",
        "# Compile the model. \n",
        "op=opts.adadelta(lr=0.001, decay=0.0)\n",
        "#op=opts.RMSprop()\n",
        "modelFineTuning.compile(loss = 'categorical_crossentropy',\n",
        "              optimizer = op,\n",
        "              metrics = ['accuracy'])\n",
        "\n",
        "batch_size = 10\n",
        "epochs = 5\n",
        "\n",
        "# Train Model.\n",
        "trainingCNN_FineTuning = modelFineTuning.fit(xTrain, yTrain,\n",
        "                    batch_size=batch_size,\n",
        "                    epochs=epochs,\n",
        "                    verbose=1,\n",
        "                    shuffle = True, \n",
        "                    validation_split =0.2,callbacks=[PlotLossesKeras()])"
      ],
      "execution_count": 35,
      "outputs": [
        {
          "output_type": "display_data",
          "data": {
            "image/png": "[encoded data removed]",
            "text/plain": [
              "<matplotlib.figure.Figure at 0x7f05cb5afba8>"
            ]
          },
          "metadata": {
            "tags": []
          }
        }
      ]
    },
    {
      "metadata": {
        "id": "525fwgW6zsE1",
        "colab_type": "code",
        "colab": {
          "autoexec": {
            "startup": false,
            "wait_interval": 0
          },
          "base_uri": "https://localhost:8080/",
          "height": 115
        },
        "outputId": "040168ed-12af-44f9-e4ad-b8dbda1820b1",
        "executionInfo": {
          "status": "ok",
          "timestamp": 1531691091816,
          "user_tz": 300,
          "elapsed": 4337,
          "user": {
            "displayName": "sergi castel",
            "photoUrl": "//lh5.googleusercontent.com/-t7uPTy_PD5c/AAAAAAAAAAI/AAAAAAAABjU/YrQqLvCov5A/s50-c-k-no/photo.jpg",
            "userId": "104485759475975710875"
          }
        }
      },
      "cell_type": "code",
      "source": [
        "# Perform the neural network over the test set. \n",
        "print('Evaluating the test set...')\n",
        "score = modelFineTuning.evaluate(xTest, yTest)\n",
        "\n",
        "print('\\nTest score:', score[0])\n",
        "print('Test accuracy:', score[1])\n",
        "Accur_ResNet=score[1]\n",
        "Accur_ResNet"
      ],
      "execution_count": 36,
      "outputs": [
        {
          "output_type": "stream",
          "text": [
            "Evaluating the test set...\n",
            "180/180 [==============================] - 4s 22ms/step\n",
            "\n",
            "Test score: 1.790646998087565\n",
            "Test accuracy: 0.26111111243565877\n"
          ],
          "name": "stdout"
        },
        {
          "output_type": "execute_result",
          "data": {
            "text/plain": [
              "0.26111111243565877"
            ]
          },
          "metadata": {
            "tags": []
          },
          "execution_count": 36
        }
      ]
    },
    {
      "metadata": {
        "id": "jaU4gW3VzsA6",
        "colab_type": "code",
        "colab": {
          "autoexec": {
            "startup": false,
            "wait_interval": 0
          },
          "base_uri": "https://localhost:8080/",
          "height": 456
        },
        "outputId": "96038c66-7c0d-4e95-ed97-01f4ed011348",
        "executionInfo": {
          "status": "ok",
          "timestamp": 1531691105980,
          "user_tz": 300,
          "elapsed": 9673,
          "user": {
            "displayName": "sergi castel",
            "photoUrl": "//lh5.googleusercontent.com/-t7uPTy_PD5c/AAAAAAAAAAI/AAAAAAAABjU/YrQqLvCov5A/s50-c-k-no/photo.jpg",
            "userId": "104485759475975710875"
          }
        }
      },
      "cell_type": "code",
      "source": [
        "from sklearn.metrics import confusion_matrix,classification_report\n",
        "import pandas as pd\n",
        "import numpy as np\n",
        "\n",
        "# Set the classes' names.\n",
        "target_names = ['egr','man','owl','puf','tou','wod']\n",
        "\n",
        "# Predict class in test.\n",
        "Y_pred = modelFineTuning.predict(xTest)\n",
        "\n",
        "# Choose the class with higher probability.\n",
        "y_pred = np.argmax(Y_pred, axis=1)\n",
        "\n",
        "print('-------------------------------------------------')\n",
        "print('-------------------------------------------------')\n",
        "print('-----------------Confusion Matrix----------------')\n",
        "print(pd.DataFrame(confusion_matrix(yTest.argmax(axis=1), y_pred),columns=target_names, index=target_names))\n",
        "print('-------------------------------------------------')\n",
        "print('-------------------------------------------------\\n')\n",
        "print('---------------Classification Report-------------')\n",
        "\n",
        "print(classification_report(yTest.argmax(axis=1), y_pred, target_names=target_names))"
      ],
      "execution_count": 37,
      "outputs": [
        {
          "output_type": "stream",
          "text": [
            "-------------------------------------------------\n",
            "-------------------------------------------------\n",
            "-----------------Confusion Matrix----------------\n",
            "     egr  man  owl  puf  tou  wod\n",
            "egr    0    0    7   11    7    4\n",
            "man    0    0    9   23    0    1\n",
            "owl    0    0   13   17    0    3\n",
            "puf    0    0    2   31    0    1\n",
            "tou    0    0    8   15    2    2\n",
            "wod    0    0    3   18    2    1\n",
            "-------------------------------------------------\n",
            "-------------------------------------------------\n",
            "\n",
            "---------------Classification Report-------------\n",
            "             precision    recall  f1-score   support\n",
            "\n",
            "        egr       0.00      0.00      0.00        29\n",
            "        man       0.00      0.00      0.00        33\n",
            "        owl       0.31      0.39      0.35        33\n",
            "        puf       0.27      0.91      0.42        34\n",
            "        tou       0.18      0.07      0.11        27\n",
            "        wod       0.08      0.04      0.06        24\n",
            "\n",
            "avg / total       0.15      0.26      0.17       180\n",
            "\n"
          ],
          "name": "stdout"
        },
        {
          "output_type": "stream",
          "text": [
            "/usr/local/lib/python3.6/dist-packages/sklearn/metrics/classification.py:1135: UndefinedMetricWarning: Precision and F-score are ill-defined and being set to 0.0 in labels with no predicted samples.\n",
            "  'precision', 'predicted', average, warn_for)\n"
          ],
          "name": "stderr"
        }
      ]
    },
    {
      "metadata": {
        "id": "SKAUT2PA1a1I",
        "colab_type": "text"
      },
      "cell_type": "markdown",
      "source": [
        "## InceptionV3 Model"
      ]
    },
    {
      "metadata": {
        "id": "4opaRUoV1Kmc",
        "colab_type": "code",
        "colab": {
          "autoexec": {
            "startup": false,
            "wait_interval": 0
          },
          "base_uri": "https://localhost:8080/",
          "height": 326
        },
        "outputId": "21e8e199-3a8d-4e0f-c3f8-60aaf3e3f216",
        "executionInfo": {
          "status": "ok",
          "timestamp": 1531691421039,
          "user_tz": 300,
          "elapsed": 8,
          "user": {
            "displayName": "sergi castel",
            "photoUrl": "//lh5.googleusercontent.com/-t7uPTy_PD5c/AAAAAAAAAAI/AAAAAAAABjU/YrQqLvCov5A/s50-c-k-no/photo.jpg",
            "userId": "104485759475975710875"
          }
        }
      },
      "cell_type": "code",
      "source": [
        "from keras.applications.xception import Xception\n",
        "from keras.applications.vgg16 import VGG16\n",
        "from keras.applications.resnet50 import ResNet50\n",
        "from keras.applications.inception_v3 import InceptionV3\n",
        "from keras.models import Sequential\n",
        "from keras.layers import Conv2D, MaxPooling2D\n",
        "from keras.layers import Activation, Dropout, Flatten, Dense\n",
        "from keras import backend as K\n",
        "import keras.optimizers as opts\n",
        "from livelossplot import PlotLossesKeras\n",
        "\n",
        "# Model structure.\n",
        "outputClasses = 6\n",
        "\n",
        "# Load pretrained model..\n",
        "modelXception = InceptionV3(weights='imagenet', include_top=False, input_shape=(xsize,ysize,3))\n",
        "\n",
        "# Create the model. \n",
        "modelFineTuning = Sequential()\n",
        "\n",
        "# Add pretrained model. \n",
        "modelFineTuning.add(modelXception)\n",
        "\n",
        "# Apply a convolutional layer. \n",
        "modelFineTuning.add(Flatten())\n",
        "\n",
        "# Add the fully connected.\n",
        "modelFineTuning.add(Dense(256, activation='softmax'))\n",
        "\n",
        "# Add a dropout.\n",
        "#modelFineTuning.add(Dropout(0.5))\n",
        "\n",
        "# Add the fully connected.\n",
        "modelFineTuning.add(Dense(outputClasses))\n",
        "\n",
        "# Add the activation softmax.\n",
        "modelFineTuning.add(Activation('softmax'))\n",
        "\n",
        "modelFineTuning.summary(70)\n",
        "\n",
        "# Compile the model. \n",
        "op=opts.adadelta(lr=0.001, decay=0.0)\n",
        "#op=opts.RMSprop()\n",
        "modelFineTuning.compile(loss = 'categorical_crossentropy',\n",
        "              optimizer = op,\n",
        "              metrics = ['accuracy'])\n",
        "\n",
        "batch_size = 10\n",
        "\n",
        "epochs = 5\n",
        "\n",
        "# Train Model.\n",
        "trainingCNN_FineTuning = modelFineTuning.fit(xTrain, yTrain,\n",
        "                    batch_size=batch_size,\n",
        "                    epochs=epochs,\n",
        "                    verbose=1,\n",
        "                    shuffle = True, \n",
        "                    validation_split =0.2,callbacks=[PlotLossesKeras()])"
      ],
      "execution_count": 38,
      "outputs": [
        {
          "output_type": "display_data",
          "data": {
            "image/png": "[encoded data removed]",
            "text/plain": [
              "<matplotlib.figure.Figure at 0x7f0597674588>"
            ]
          },
          "metadata": {
            "tags": []
          }
        }
      ]
    },
    {
      "metadata": {
        "id": "RBJvhMjy1rDK",
        "colab_type": "code",
        "colab": {
          "autoexec": {
            "startup": false,
            "wait_interval": 0
          },
          "base_uri": "https://localhost:8080/",
          "height": 115
        },
        "outputId": "58129317-2357-4073-cb7c-1a5b1e4906d3",
        "executionInfo": {
          "status": "ok",
          "timestamp": 1531691436863,
          "user_tz": 300,
          "elapsed": 4229,
          "user": {
            "displayName": "sergi castel",
            "photoUrl": "//lh5.googleusercontent.com/-t7uPTy_PD5c/AAAAAAAAAAI/AAAAAAAABjU/YrQqLvCov5A/s50-c-k-no/photo.jpg",
            "userId": "104485759475975710875"
          }
        }
      },
      "cell_type": "code",
      "source": [
        "# Perform the neural network over the test set. \n",
        "print('Evaluating the test set...')\n",
        "score = modelFineTuning.evaluate(xTest, yTest)\n",
        "\n",
        "print('\\nTest score:', score[0])\n",
        "print('Test accuracy:', score[1])\n",
        "Accur_InceptionV3=score[1]\n",
        "Accur_InceptionV3"
      ],
      "execution_count": 39,
      "outputs": [
        {
          "output_type": "stream",
          "text": [
            "Evaluating the test set...\n",
            "180/180 [==============================] - 3s 16ms/step\n",
            "\n",
            "Test score: 1.7882328510284424\n",
            "Test accuracy: 0.3000000013245477\n"
          ],
          "name": "stdout"
        },
        {
          "output_type": "execute_result",
          "data": {
            "text/plain": [
              "0.3000000013245477"
            ]
          },
          "metadata": {
            "tags": []
          },
          "execution_count": 39
        }
      ]
    },
    {
      "metadata": {
        "id": "abUto7LF2x1C",
        "colab_type": "code",
        "colab": {
          "autoexec": {
            "startup": false,
            "wait_interval": 0
          },
          "base_uri": "https://localhost:8080/",
          "height": 423
        },
        "outputId": "a52709e9-ea70-4c5f-8080-8289f8a9709a",
        "executionInfo": {
          "status": "ok",
          "timestamp": 1531691458852,
          "user_tz": 300,
          "elapsed": 11881,
          "user": {
            "displayName": "sergi castel",
            "photoUrl": "//lh5.googleusercontent.com/-t7uPTy_PD5c/AAAAAAAAAAI/AAAAAAAABjU/YrQqLvCov5A/s50-c-k-no/photo.jpg",
            "userId": "104485759475975710875"
          }
        }
      },
      "cell_type": "code",
      "source": [
        "from sklearn.metrics import confusion_matrix,classification_report\n",
        "import pandas as pd\n",
        "import numpy as np\n",
        "\n",
        "# Set the classes' names.\n",
        "target_names = ['egr','man','owl','puf','tou','wod']\n",
        "\n",
        "# Predict class in test.\n",
        "Y_pred = modelFineTuning.predict(xTest)\n",
        "\n",
        "# Choose the class with higher probability.\n",
        "y_pred = np.argmax(Y_pred, axis=1)\n",
        "\n",
        "print('-------------------------------------------------')\n",
        "print('-------------------------------------------------')\n",
        "print('-----------------Confusion Matrix----------------')\n",
        "print(pd.DataFrame(confusion_matrix(yTest.argmax(axis=1), y_pred),columns=target_names, index=target_names))\n",
        "print('-------------------------------------------------')\n",
        "print('-------------------------------------------------\\n')\n",
        "print('---------------Classification Report-------------')\n",
        "\n",
        "print(classification_report(yTest.argmax(axis=1), y_pred, target_names=target_names))"
      ],
      "execution_count": 40,
      "outputs": [
        {
          "output_type": "stream",
          "text": [
            "-------------------------------------------------\n",
            "-------------------------------------------------\n",
            "-----------------Confusion Matrix----------------\n",
            "     egr  man  owl  puf  tou  wod\n",
            "egr   19    2    0    1    0    7\n",
            "man    3    5    1    1    4   19\n",
            "owl   13    2    3    1    2   12\n",
            "puf    7    4    2    4    4   13\n",
            "tou    6    4    1    1    8    7\n",
            "wod    0    4    0    4    1   15\n",
            "-------------------------------------------------\n",
            "-------------------------------------------------\n",
            "\n",
            "---------------Classification Report-------------\n",
            "             precision    recall  f1-score   support\n",
            "\n",
            "        egr       0.40      0.66      0.49        29\n",
            "        man       0.24      0.15      0.19        33\n",
            "        owl       0.43      0.09      0.15        33\n",
            "        puf       0.33      0.12      0.17        34\n",
            "        tou       0.42      0.30      0.35        27\n",
            "        wod       0.21      0.62      0.31        24\n",
            "\n",
            "avg / total       0.34      0.30      0.27       180\n",
            "\n"
          ],
          "name": "stdout"
        }
      ]
    },
    {
      "metadata": {
        "id": "Fblmp_T22yjX",
        "colab_type": "text"
      },
      "cell_type": "markdown",
      "source": [
        "## Comparing FIne Tuning Models"
      ]
    },
    {
      "metadata": {
        "id": "fNpMrWOD2ooI",
        "colab_type": "code",
        "colab": {
          "autoexec": {
            "startup": false,
            "wait_interval": 0
          },
          "base_uri": "https://localhost:8080/",
          "height": 351
        },
        "outputId": "55e71fbb-48f4-4c51-fc20-b877695fb295",
        "executionInfo": {
          "status": "ok",
          "timestamp": 1531691469855,
          "user_tz": 300,
          "elapsed": 455,
          "user": {
            "displayName": "sergi castel",
            "photoUrl": "//lh5.googleusercontent.com/-t7uPTy_PD5c/AAAAAAAAAAI/AAAAAAAABjU/YrQqLvCov5A/s50-c-k-no/photo.jpg",
            "userId": "104485759475975710875"
          }
        }
      },
      "cell_type": "code",
      "source": [
        "plt.figure(figsize=(10,5))\n",
        "plt.bar([\"Xception\",\"VGG16\",\"ResNet50\",\"InceptionV3\"],sorted([Accur_Xception,Accur_VGG16,Accur_ResNet,Accur_InceptionV3]),color=\"orange\",align='center')\n",
        "plt.title(\"FINE TUNING MODELS\")\n",
        "plt.xlabel(\"Models\",fontsize=12)\n",
        "plt.ylabel(\"Accuracy\")\n",
        "plt.show()"
      ],
      "execution_count": 41,
      "outputs": [
        {
          "output_type": "display_data",
          "data": {
            "image/png": "[encoded data removed]",
            "text/plain": [
              "<matplotlib.figure.Figure at 0x7f059760c5c0>"
            ]
          },
          "metadata": {
            "tags": []
          }
        }
      ]
    },
    {
      "metadata": {
        "id": "jlY3bobB1rz5",
        "colab_type": "code",
        "colab": {
          "autoexec": {
            "startup": false,
            "wait_interval": 0
          }
        }
      },
      "cell_type": "code",
      "source": [
        "from sklearn.metrics import confusion_matrix,classification_report\n",
        "import pandas as pd\n",
        "import numpy as np\n",
        "\n",
        "# Set the classes' names.\n",
        "target_names = ['egr','man','owl','puf','tou','wod']\n",
        "\n",
        "# Predict class in test.\n",
        "Y_pred = modelFineTuning.predict(xTest)\n",
        "\n",
        "# Choose the class with higher probability.\n",
        "y_pred = np.argmax(Y_pred, axis=1)\n",
        "\n",
        "print('-------------------------------------------------')\n",
        "print('-------------------------------------------------')\n",
        "print('-----------------Confusion Matrix----------------')\n",
        "print(pd.DataFrame(confusion_matrix(yTest.argmax(axis=1), y_pred),columns=target_names, index=target_names))\n",
        "print('-------------------------------------------------')\n",
        "print('-------------------------------------------------\\n')\n",
        "print('---------------Classification Report-------------')\n",
        "\n",
        "print(classification_report(yTest.argmax(axis=1), y_pred, target_names=target_names))"
      ],
      "execution_count": 0,
      "outputs": []
    },
    {
      "metadata": {
        "id": "b3dYVbYLP5pf",
        "colab_type": "code",
        "colab": {
          "autoexec": {
            "startup": false,
            "wait_interval": 0
          },
          "base_uri": "https://localhost:8080/",
          "height": 272
        },
        "outputId": "ea28a7b7-a428-40ea-c8e6-d7970e7cb58b",
        "executionInfo": {
          "status": "ok",
          "timestamp": 1531680943212,
          "user_tz": 300,
          "elapsed": 1227,
          "user": {
            "displayName": "sergi castel",
            "photoUrl": "//lh5.googleusercontent.com/-t7uPTy_PD5c/AAAAAAAAAAI/AAAAAAAABjU/YrQqLvCov5A/s50-c-k-no/photo.jpg",
            "userId": "104485759475975710875"
          }
        }
      },
      "cell_type": "code",
      "source": [
        "from tensorflow.python.client import device_lib\n",
        "device_lib.list_local_devices()"
      ],
      "execution_count": 18,
      "outputs": [
        {
          "output_type": "execute_result",
          "data": {
            "text/plain": [
              "[name: \"/device:CPU:0\"\n",
              " device_type: \"CPU\"\n",
              " memory_limit: 268435456\n",
              " locality {\n",
              " }\n",
              " incarnation: 3618519897196186857, name: \"/device:GPU:0\"\n",
              " device_type: \"GPU\"\n",
              " memory_limit: 187891712\n",
              " locality {\n",
              "   bus_id: 1\n",
              "   links {\n",
              "   }\n",
              " }\n",
              " incarnation: 3618103794504563862\n",
              " physical_device_desc: \"device: 0, name: Tesla K80, pci bus id: 0000:00:04.0, compute capability: 3.7\"]"
            ]
          },
          "metadata": {
            "tags": []
          },
          "execution_count": 18
        }
      ]
    },
    {
      "metadata": {
        "id": "w-m5dZhqTOfH",
        "colab_type": "code",
        "colab": {
          "autoexec": {
            "startup": false,
            "wait_interval": 0
          },
          "base_uri": "https://localhost:8080/",
          "height": 835
        },
        "outputId": "5b2593f1-e884-4acf-b95f-4b161a3dac01",
        "executionInfo": {
          "status": "ok",
          "timestamp": 1531680978774,
          "user_tz": 300,
          "elapsed": 2412,
          "user": {
            "displayName": "sergi castel",
            "photoUrl": "//lh5.googleusercontent.com/-t7uPTy_PD5c/AAAAAAAAAAI/AAAAAAAABjU/YrQqLvCov5A/s50-c-k-no/photo.jpg",
            "userId": "104485759475975710875"
          }
        }
      },
      "cell_type": "code",
      "source": [
        "!cat /proc/meminfo"
      ],
      "execution_count": 19,
      "outputs": [
        {
          "output_type": "stream",
          "text": [
            "MemTotal:       13335192 kB\r\n",
            "MemFree:         1341256 kB\r\n",
            "MemAvailable:    7542108 kB\r\n",
            "Buffers:          133316 kB\r\n",
            "Cached:          5182740 kB\r\n",
            "SwapCached:            0 kB\r\n",
            "Active:          5598644 kB\r\n",
            "Inactive:        5698376 kB\r\n",
            "Active(anon):    4893996 kB\r\n",
            "Inactive(anon):   244268 kB\r\n",
            "Active(file):     704648 kB\r\n",
            "Inactive(file):  5454108 kB\r\n",
            "Unevictable:           0 kB\r\n",
            "Mlocked:               0 kB\r\n",
            "SwapTotal:             0 kB\r\n",
            "SwapFree:              0 kB\r\n",
            "Dirty:               428 kB\r\n",
            "Writeback:             0 kB\r\n",
            "AnonPages:       5981100 kB\r\n",
            "Mapped:           742936 kB\r\n",
            "Shmem:            424860 kB\r\n",
            "Slab:             416524 kB\r\n",
            "SReclaimable:     368236 kB\r\n",
            "SUnreclaim:        48288 kB\r\n",
            "KernelStack:        3648 kB\r\n",
            "PageTables:        19800 kB\r\n",
            "NFS_Unstable:          0 kB\r\n",
            "Bounce:                0 kB\r\n",
            "WritebackTmp:          0 kB\r\n",
            "CommitLimit:     6667596 kB\r\n",
            "Committed_AS:    7971992 kB\r\n",
            "VmallocTotal:   34359738367 kB\r\n",
            "VmallocUsed:           0 kB\r\n",
            "VmallocChunk:          0 kB\r\n",
            "AnonHugePages:         0 kB\r\n",
            "ShmemHugePages:        0 kB\r\n",
            "ShmemPmdMapped:        0 kB\r\n",
            "HugePages_Total:       0\r\n",
            "HugePages_Free:        0\r\n",
            "HugePages_Rsvd:        0\r\n",
            "HugePages_Surp:        0\r\n",
            "Hugepagesize:       2048 kB\r\n",
            "DirectMap4k:      364492 kB\r\n",
            "DirectMap2M:    13266944 kB\r\n",
            "DirectMap1G:     2097152 kB\r\n"
          ],
          "name": "stdout"
        }
      ]
    },
    {
      "metadata": {
        "id": "x-5txG18T1Xb",
        "colab_type": "code",
        "colab": {
          "autoexec": {
            "startup": false,
            "wait_interval": 0
          }
        }
      },
      "cell_type": "code",
      "source": [
        "!kill -9 -1"
      ],
      "execution_count": 0,
      "outputs": []
    },
    {
      "metadata": {
        "id": "xlKb0GfoT-EO",
        "colab_type": "code",
        "colab": {
          "autoexec": {
            "startup": false,
            "wait_interval": 0
          },
          "base_uri": "https://localhost:8080/",
          "height": 1019
        },
        "outputId": "4bbe3923-36bd-49bc-8765-9798631078fb",
        "executionInfo": {
          "status": "ok",
          "timestamp": 1531681295776,
          "user_tz": 300,
          "elapsed": 2872,
          "user": {
            "displayName": "sergi castel",
            "photoUrl": "//lh5.googleusercontent.com/-t7uPTy_PD5c/AAAAAAAAAAI/AAAAAAAABjU/YrQqLvCov5A/s50-c-k-no/photo.jpg",
            "userId": "104485759475975710875"
          }
        }
      },
      "cell_type": "code",
      "source": [
        "!cat /proc/cpuinfo"
      ],
      "execution_count": 1,
      "outputs": [
        {
          "output_type": "stream",
          "text": [
            "processor\t: 0\r\n",
            "vendor_id\t: GenuineIntel\r\n",
            "cpu family\t: 6\r\n",
            "model\t\t: 63\r\n",
            "model name\t: Intel(R) Xeon(R) CPU @ 2.30GHz\r\n",
            "stepping\t: 0\r\n",
            "microcode\t: 0x1\r\n",
            "cpu MHz\t\t: 2300.000\r\n",
            "cache size\t: 46080 KB\r\n",
            "physical id\t: 0\r\n",
            "siblings\t: 2\r\n",
            "core id\t\t: 0\r\n",
            "cpu cores\t: 1\r\n",
            "apicid\t\t: 0\r\n",
            "initial apicid\t: 0\r\n",
            "fpu\t\t: yes\r\n",
            "fpu_exception\t: yes\r\n",
            "cpuid level\t: 13\r\n",
            "wp\t\t: yes\r\n",
            "flags\t\t: fpu vme de pse tsc msr pae mce cx8 apic sep mtrr pge mca cmov pat pse36 clflush mmx fxsr sse sse2 ss ht syscall nx pdpe1gb rdtscp lm constant_tsc rep_good nopl xtopology nonstop_tsc cpuid pni pclmulqdq ssse3 fma cx16 sse4_1 sse4_2 x2apic movbe popcnt aes xsave avx f16c rdrand hypervisor lahf_lm abm pti fsgsbase tsc_adjust bmi1 avx2 smep bmi2 erms xsaveopt\r\n",
            "bugs\t\t: cpu_meltdown spectre_v1 spectre_v2\r\n",
            "bogomips\t: 4600.00\r\n",
            "clflush size\t: 64\r\n",
            "cache_alignment\t: 64\r\n",
            "address sizes\t: 46 bits physical, 48 bits virtual\r\n",
            "power management:\r\n",
            "\r\n",
            "processor\t: 1\r\n",
            "vendor_id\t: GenuineIntel\r\n",
            "cpu family\t: 6\r\n",
            "model\t\t: 63\r\n",
            "model name\t: Intel(R) Xeon(R) CPU @ 2.30GHz\r\n",
            "stepping\t: 0\r\n",
            "microcode\t: 0x1\r\n",
            "cpu MHz\t\t: 2300.000\r\n",
            "cache size\t: 46080 KB\r\n",
            "physical id\t: 0\r\n",
            "siblings\t: 2\r\n",
            "core id\t\t: 0\r\n",
            "cpu cores\t: 1\r\n",
            "apicid\t\t: 1\r\n",
            "initial apicid\t: 1\r\n",
            "fpu\t\t: yes\r\n",
            "fpu_exception\t: yes\r\n",
            "cpuid level\t: 13\r\n",
            "wp\t\t: yes\r\n",
            "flags\t\t: fpu vme de pse tsc msr pae mce cx8 apic sep mtrr pge mca cmov pat pse36 clflush mmx fxsr sse sse2 ss ht syscall nx pdpe1gb rdtscp lm constant_tsc rep_good nopl xtopology nonstop_tsc cpuid pni pclmulqdq ssse3 fma cx16 sse4_1 sse4_2 x2apic movbe popcnt aes xsave avx f16c rdrand hypervisor lahf_lm abm pti fsgsbase tsc_adjust bmi1 avx2 smep bmi2 erms xsaveopt\r\n",
            "bugs\t\t: cpu_meltdown spectre_v1 spectre_v2\r\n",
            "bogomips\t: 4600.00\r\n",
            "clflush size\t: 64\r\n",
            "cache_alignment\t: 64\r\n",
            "address sizes\t: 46 bits physical, 48 bits virtual\r\n",
            "power management:\r\n",
            "\r\n"
          ],
          "name": "stdout"
        }
      ]
    }
  ]
}