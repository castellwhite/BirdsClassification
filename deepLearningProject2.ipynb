{
  "nbformat": 4,
  "nbformat_minor": 0,
  "metadata": {
    "colab": {
      "name": "deepLearningProject2.ipynb",
      "version": "0.3.2",
      "views": {},
      "default_view": {},
      "provenance": []
    },
    "kernelspec": {
      "name": "python3",
      "display_name": "Python 3"
    },
    "accelerator": "GPU"
  },
  "cells": [
    {
      "metadata": {
        "id": "b_T5zCbHUXRu",
        "colab_type": "code",
        "colab": {
          "autoexec": {
            "startup": false,
            "wait_interval": 0
          },
          "base_uri": "https://localhost:8080/",
          "height": 287
        },
        "outputId": "de4466c9-1ba8-4b5a-b357-1beb65d7c143",
        "executionInfo": {
          "status": "ok",
          "timestamp": 1530979519103,
          "user_tz": 300,
          "elapsed": 2305,
          "user": {
            "displayName": "sergi castel",
            "photoUrl": "//lh5.googleusercontent.com/-t7uPTy_PD5c/AAAAAAAAAAI/AAAAAAAABjU/YrQqLvCov5A/s50-c-k-no/photo.jpg",
            "userId": "104485759475975710875"
          }
        }
      },
      "cell_type": "code",
      "source": [
        "from IPython.display import Image\n",
        "from IPython.core.display import HTML \n",
        "Image(url= \"https://github.com/jesugome/InfluencersInSocialNetworks/raw/master/logoAnalytics.png\")"
      ],
      "execution_count": 14,
      "outputs": [
        {
          "output_type": "execute_result",
          "data": {
            "text/html": [
              "<img src=\"https://github.com/jesugome/InfluencersInSocialNetworks/raw/master/logoAnalytics.png\"/>"
            ],
            "text/plain": [
              "<IPython.core.display.Image object>"
            ]
          },
          "metadata": {
            "tags": []
          },
          "execution_count": 14
        }
      ]
    },
    {
      "metadata": {
        "id": "tCOAqRWuULWz",
        "colab_type": "text"
      },
      "cell_type": "markdown",
      "source": [
        "<h2><center>\n",
        "# Birds\n",
        "\n",
        "![Image of Yaktocat](http://tremendouswallpapers.com/wp-content/uploads/2014/12/Venette-Waste_Trend-F-W-14-15_Neat-Graphics_mandarin-duck.jpg)\n",
        "    \n",
        " ## Machine Learning Project\n",
        "\n",
        "Developed by [Jesus Solano](http://www.jesussolano.com/) -- [Sergio Castelblanco](http://www.jesussolano.com/) -- [Jose Sandoval](http://www.jesussolano.com/) -- [Aleksey Sepulveda](http://www.jesussolano.com/)\n",
        "\n",
        "\n",
        "version 8.3, June 24 2018"
      ]
    },
    {
      "metadata": {
        "id": "3AJZbRm_YXKT",
        "colab_type": "code",
        "colab": {
          "autoexec": {
            "startup": false,
            "wait_interval": 0
          },
          "base_uri": "https://localhost:8080/",
          "height": 37
        },
        "outputId": "4eaf7c14-4a92-43ce-e8c0-e5f693730e99",
        "executionInfo": {
          "status": "ok",
          "timestamp": 1530986233795,
          "user_tz": 300,
          "elapsed": 7348,
          "user": {
            "displayName": "Edgardo Aleksey Sepulveda Duran",
            "photoUrl": "https://lh3.googleusercontent.com/a/default-user=s128",
            "userId": "107257046089642896553"
          }
        }
      },
      "cell_type": "code",
      "source": [
        "# Install the PyDrive wrapper & import libraries.\n",
        "# This only needs to be done once per notebook.\n",
        "!pip install -U -q PyDrive\n",
        "from pydrive.auth import GoogleAuth\n",
        "from pydrive.drive import GoogleDrive\n",
        "from google.colab import auth\n",
        "from oauth2client.client import GoogleCredentials\n",
        "\n",
        "# Authenticate and create the PyDrive client.\n",
        "# This only needs to be done once per notebook.\n",
        "auth.authenticate_user()\n",
        "gauth = GoogleAuth()\n",
        "gauth.credentials = GoogleCredentials.get_application_default()\n",
        "drive = GoogleDrive(gauth)\n",
        "\n",
        "# Download a file based on its file ID.\n",
        "#\n",
        "# A file ID looks like: laggVyWshwcyP6kEI-y_W3P8D26sz\n",
        "file_id = '1Ys08yalsbM29fvvPhyDxv-SV7TBg3VxK'\n",
        "downloaded = drive.CreateFile({'id': file_id})\n",
        "downloaded.GetContentFile(downloaded['title'])"
      ],
      "execution_count": 1,
      "outputs": []
    },
    {
      "metadata": {
        "id": "P66vNgFKUE7D",
        "colab_type": "code",
        "colab": {
          "autoexec": {
            "startup": false,
            "wait_interval": 0
          },
          "base_uri": "https://localhost:8080/",
          "height": 37
        },
        "outputId": "cfd601a2-4dbd-4ac3-96a4-752c1723cc7a",
        "executionInfo": {
          "status": "ok",
          "timestamp": 1530986236228,
          "user_tz": 300,
          "elapsed": 1212,
          "user": {
            "displayName": "Edgardo Aleksey Sepulveda Duran",
            "photoUrl": "https://lh3.googleusercontent.com/a/default-user=s128",
            "userId": "107257046089642896553"
          }
        }
      },
      "cell_type": "code",
      "source": [
        "# Download datasets.\n",
        "import os.path\n",
        "from google.colab import files\n",
        "\n",
        "if not os.path.exists('birds.zip'):\n",
        "  ! wget http://www-cvr.ai.uiuc.edu/ponce_grp/data/birds/birds.zip\n",
        "    \n",
        "if not os.path.exists('birds_f_numbers.txt'):\n",
        "  ! wget http://www-cvr.ai.uiuc.edu/ponce_grp/data/birds/birds_f_numbers.txt\n",
        "    \n",
        "if not os.path.exists('birds_training_pairs.txt'):\n",
        "  ! wget http://www-cvr.ai.uiuc.edu/ponce_grp/data/birds/birds_training_pairs.txt \n"
      ],
      "execution_count": 2,
      "outputs": []
    },
    {
      "metadata": {
        "id": "pbfo31Fsht8F",
        "colab_type": "code",
        "colab": {
          "autoexec": {
            "startup": false,
            "wait_interval": 0
          },
          "base_uri": "https://localhost:8080/",
          "height": 37
        },
        "outputId": "6968a0f0-148f-4768-d19c-8eacb35de6ae",
        "executionInfo": {
          "status": "ok",
          "timestamp": 1530986238738,
          "user_tz": 300,
          "elapsed": 909,
          "user": {
            "displayName": "Edgardo Aleksey Sepulveda Duran",
            "photoUrl": "https://lh3.googleusercontent.com/a/default-user=s128",
            "userId": "107257046089642896553"
          }
        }
      },
      "cell_type": "code",
      "source": [
        "import os \n",
        "import zipfile\n",
        "with zipfile.ZipFile(\"birds.zip\",\"r\") as zip_ref:\n",
        "    zip_ref.extractall(os.getcwd())\n",
        "    \n"
      ],
      "execution_count": 3,
      "outputs": []
    },
    {
      "metadata": {
        "id": "Es2U3dQBWRjs",
        "colab_type": "code",
        "colab": {
          "autoexec": {
            "startup": false,
            "wait_interval": 0
          },
          "base_uri": "https://localhost:8080/",
          "height": 51
        },
        "outputId": "7d6836f8-9ac0-425a-893e-ebfbe279460c",
        "executionInfo": {
          "status": "ok",
          "timestamp": 1530986241844,
          "user_tz": 300,
          "elapsed": 1725,
          "user": {
            "displayName": "Edgardo Aleksey Sepulveda Duran",
            "photoUrl": "https://lh3.googleusercontent.com/a/default-user=s128",
            "userId": "107257046089642896553"
          }
        }
      },
      "cell_type": "code",
      "source": [
        "! ls"
      ],
      "execution_count": 4,
      "outputs": [
        {
          "output_type": "stream",
          "text": [
            "birds\t\t     birds_training_pairs.txt  cnn_data.zip  drive\r\n",
            "birds_f_numbers.txt  birds.zip\t\t       datalab\r\n"
          ],
          "name": "stdout"
        }
      ]
    },
    {
      "metadata": {
        "id": "KIT5PUwvY7Ca",
        "colab_type": "code",
        "colab": {
          "autoexec": {
            "startup": false,
            "wait_interval": 0
          },
          "base_uri": "https://localhost:8080/",
          "height": 306
        },
        "outputId": "6ff860ed-c8a5-486b-ef22-d1ec3dd4c340",
        "executionInfo": {
          "status": "ok",
          "timestamp": 1530986250056,
          "user_tz": 300,
          "elapsed": 1656,
          "user": {
            "displayName": "Edgardo Aleksey Sepulveda Duran",
            "photoUrl": "https://lh3.googleusercontent.com/a/default-user=s128",
            "userId": "107257046089642896553"
          }
        }
      },
      "cell_type": "code",
      "source": [
        "! ls birds/egret/"
      ],
      "execution_count": 5,
      "outputs": [
        {
          "output_type": "stream",
          "text": [
            "egr001.jpg  egr018.jpg\tegr035.jpg  egr052.jpg\tegr069.jpg  egr086.jpg\r\n",
            "egr002.jpg  egr019.jpg\tegr036.jpg  egr053.jpg\tegr070.jpg  egr087.jpg\r\n",
            "egr003.jpg  egr020.jpg\tegr037.jpg  egr054.jpg\tegr071.jpg  egr088.jpg\r\n",
            "egr004.jpg  egr021.jpg\tegr038.jpg  egr055.jpg\tegr072.jpg  egr089.jpg\r\n",
            "egr005.jpg  egr022.jpg\tegr039.jpg  egr056.jpg\tegr073.jpg  egr090.jpg\r\n",
            "egr006.jpg  egr023.jpg\tegr040.jpg  egr057.jpg\tegr074.jpg  egr091.jpg\r\n",
            "egr007.jpg  egr024.jpg\tegr041.jpg  egr058.jpg\tegr075.jpg  egr092.jpg\r\n",
            "egr008.jpg  egr025.jpg\tegr042.jpg  egr059.jpg\tegr076.jpg  egr093.jpg\r\n",
            "egr009.jpg  egr026.jpg\tegr043.jpg  egr060.jpg\tegr077.jpg  egr094.jpg\r\n",
            "egr010.jpg  egr027.jpg\tegr044.jpg  egr061.jpg\tegr078.jpg  egr095.jpg\r\n",
            "egr011.jpg  egr028.jpg\tegr045.jpg  egr062.jpg\tegr079.jpg  egr096.jpg\r\n",
            "egr012.jpg  egr029.jpg\tegr046.jpg  egr063.jpg\tegr080.jpg  egr097.jpg\r\n",
            "egr013.jpg  egr030.jpg\tegr047.jpg  egr064.jpg\tegr081.jpg  egr098.jpg\r\n",
            "egr014.jpg  egr031.jpg\tegr048.jpg  egr065.jpg\tegr082.jpg  egr099.jpg\r\n",
            "egr015.jpg  egr032.jpg\tegr049.jpg  egr066.jpg\tegr083.jpg  egr100.jpg\r\n",
            "egr016.jpg  egr033.jpg\tegr050.jpg  egr067.jpg\tegr084.jpg\r\n",
            "egr017.jpg  egr034.jpg\tegr051.jpg  egr068.jpg\tegr085.jpg\r\n"
          ],
          "name": "stdout"
        }
      ]
    },
    {
      "metadata": {
        "id": "bL8suCMClsZ0",
        "colab_type": "code",
        "colab": {
          "autoexec": {
            "startup": false,
            "wait_interval": 0
          },
          "base_uri": "https://localhost:8080/",
          "height": 303
        },
        "outputId": "d9df49e2-0447-4089-cfc1-3e3aa120052e",
        "executionInfo": {
          "status": "ok",
          "timestamp": 1530986254556,
          "user_tz": 300,
          "elapsed": 2179,
          "user": {
            "displayName": "Edgardo Aleksey Sepulveda Duran",
            "photoUrl": "https://lh3.googleusercontent.com/a/default-user=s128",
            "userId": "107257046089642896553"
          }
        }
      },
      "cell_type": "code",
      "source": [
        "%matplotlib inline\n",
        "import matplotlib.pyplot as plt\n",
        "from keras.preprocessing.image import ImageDataGenerator, array_to_img, img_to_array, load_img\n",
        "\n",
        "img = load_img('birds/egret/egr034.jpg')  # this is a PIL image\n",
        "x = img_to_array(img)  # this is a Numpy array with shape (3, 150, 150)\n",
        "plt.imshow(x)"
      ],
      "execution_count": 6,
      "outputs": [
        {
          "output_type": "stream",
          "text": [
            "Using TensorFlow backend.\n"
          ],
          "name": "stderr"
        },
        {
          "output_type": "execute_result",
          "data": {
            "text/plain": [
              "<matplotlib.image.AxesImage at 0x7f421f6ffdd8>"
            ]
          },
          "metadata": {
            "tags": []
          },
          "execution_count": 6
        },
        {
          "output_type": "display_data",
          "data": {
            "image/png": "[encoded data removed]",
            "text/plain": [
              "<matplotlib.figure.Figure at 0x7f426412ffd0>"
            ]
          },
          "metadata": {
            "tags": []
          }
        }
      ]
    },
    {
      "metadata": {
        "id": "IWkJzA_NorlU",
        "colab_type": "code",
        "colab": {
          "autoexec": {
            "startup": false,
            "wait_interval": 0
          },
          "base_uri": "https://localhost:8080/",
          "height": 17
        },
        "outputId": "ad9be5a8-ecfd-40eb-a8ce-080af7d2f48c",
        "executionInfo": {
          "status": "ok",
          "timestamp": 1530986262199,
          "user_tz": 300,
          "elapsed": 563,
          "user": {
            "displayName": "Edgardo Aleksey Sepulveda Duran",
            "photoUrl": "https://lh3.googleusercontent.com/a/default-user=s128",
            "userId": "107257046089642896553"
          }
        }
      },
      "cell_type": "code",
      "source": [
        "import random\n",
        "\n",
        "randomList= random.sample(range(1,101),100)\n",
        "\n",
        "formating = \"{:03d}\".format\n",
        "\n",
        "formatedList = [formating(item) for item in randomList]"
      ],
      "execution_count": 7,
      "outputs": []
    },
    {
      "metadata": {
        "id": "pTwmrX5c5WVD",
        "colab_type": "code",
        "colab": {
          "autoexec": {
            "startup": false,
            "wait_interval": 0
          },
          "base_uri": "https://localhost:8080/",
          "height": 167
        },
        "outputId": "6ccc5adc-a910-4879-f61b-f58e7d7eb22c",
        "executionInfo": {
          "status": "error",
          "timestamp": 1530987367470,
          "user_tz": 300,
          "elapsed": 366,
          "user": {
            "displayName": "sergi castel",
            "photoUrl": "//lh5.googleusercontent.com/-t7uPTy_PD5c/AAAAAAAAAAI/AAAAAAAABjU/YrQqLvCov5A/s50-c-k-no/photo.jpg",
            "userId": "104485759475975710875"
          }
        }
      },
      "cell_type": "code",
      "source": [
        "os.mkdir('datasets/train/')"
      ],
      "execution_count": 45,
      "outputs": [
        {
          "output_type": "error",
          "ename": "FileNotFoundError",
          "evalue": "ignored",
          "traceback": [
            "\u001b[0;31m---------------------------------------------------------------------------\u001b[0m",
            "\u001b[0;31mFileNotFoundError\u001b[0m                         Traceback (most recent call last)",
            "\u001b[0;32m<ipython-input-45-4e349ca92873>\u001b[0m in \u001b[0;36m<module>\u001b[0;34m()\u001b[0m\n\u001b[0;32m----> 1\u001b[0;31m \u001b[0mos\u001b[0m\u001b[0;34m.\u001b[0m\u001b[0mmkdir\u001b[0m\u001b[0;34m(\u001b[0m\u001b[0;34m'datasets/train/'\u001b[0m\u001b[0;34m)\u001b[0m\u001b[0;34m\u001b[0m\u001b[0m\n\u001b[0m",
            "\u001b[0;31mFileNotFoundError\u001b[0m: [Errno 2] No such file or directory: 'datasets/train/'"
          ]
        }
      ]
    },
    {
      "metadata": {
        "id": "PzJeM2EM4KBN",
        "colab_type": "code",
        "colab": {
          "autoexec": {
            "startup": false,
            "wait_interval": 0
          },
          "base_uri": "https://localhost:8080/",
          "height": 51
        },
        "outputId": "639bcc9f-9c6b-48ef-ac7e-1a3b7d9fe433",
        "executionInfo": {
          "status": "ok",
          "timestamp": 1530986304452,
          "user_tz": 300,
          "elapsed": 1632,
          "user": {
            "displayName": "Edgardo Aleksey Sepulveda Duran",
            "photoUrl": "https://lh3.googleusercontent.com/a/default-user=s128",
            "userId": "107257046089642896553"
          }
        }
      },
      "cell_type": "code",
      "source": [
        "! ls"
      ],
      "execution_count": 11,
      "outputs": [
        {
          "output_type": "stream",
          "text": [
            "birds\t\t     birds_training_pairs.txt  cnn_data.zip  drive\r\n",
            "birds_f_numbers.txt  birds.zip\t\t       datalab\r\n"
          ],
          "name": "stdout"
        }
      ]
    },
    {
      "metadata": {
        "id": "lKwAXiGooygT",
        "colab_type": "code",
        "colab": {
          "autoexec": {
            "startup": false,
            "wait_interval": 0
          },
          "base_uri": "https://localhost:8080/",
          "height": 34
        },
        "outputId": "132c07da-5b74-4b4a-be48-2e893bb59528",
        "executionInfo": {
          "status": "ok",
          "timestamp": 1530987172592,
          "user_tz": 300,
          "elapsed": 1532,
          "user": {
            "displayName": "Jesus Solano",
            "photoUrl": "https://lh3.googleusercontent.com/a/default-user=s128",
            "userId": "111266076568687218605"
          }
        }
      },
      "cell_type": "code",
      "source": [
        "from shutil import copy\n",
        "counter = 0\n",
        "\n",
        "! mkdir datasets/train\n",
        "\n",
        "for i in formatedList[:]:\n",
        "   if counter < 50:\n",
        "      copy('birds/egret/egr'+i+'.jpg','datasets/train/egr'+i+'.jpg')\n",
        "      counter=counter+1"
      ],
      "execution_count": 12,
      "outputs": [
        {
          "output_type": "stream",
          "text": [
            "mkdir: cannot create directory ‘datasets/train’: File exists\r\n"
          ],
          "name": "stdout"
        }
      ]
    },
    {
      "metadata": {
        "id": "chxMfQ6n1yKc",
        "colab_type": "code",
        "colab": {
          "autoexec": {
            "startup": false,
            "wait_interval": 0
          },
          "base_uri": "https://localhost:8080/",
          "height": 52
        },
        "outputId": "9b0c70bf-86c0-42ce-ee4a-59e60ac1f5f9",
        "executionInfo": {
          "status": "ok",
          "timestamp": 1530985760591,
          "user_tz": 300,
          "elapsed": 1537,
          "user": {
            "displayName": "sergi castel",
            "photoUrl": "//lh5.googleusercontent.com/-t7uPTy_PD5c/AAAAAAAAAAI/AAAAAAAABjU/YrQqLvCov5A/s50-c-k-no/photo.jpg",
            "userId": "104485759475975710875"
          }
        }
      },
      "cell_type": "code",
      "source": [
        "! ls"
      ],
      "execution_count": 39,
      "outputs": [
        {
          "output_type": "stream",
          "text": [
            "birds_f_numbers.txt\t  birds.zip\tdatalab\r\n",
            "birds_training_pairs.txt  cnn_data.zip\tdrive\r\n"
          ],
          "name": "stdout"
        }
      ]
    },
    {
      "metadata": {
        "id": "01k6MvFd1zJs",
        "colab_type": "code",
        "colab": {
          "autoexec": {
            "startup": false,
            "wait_interval": 0
          },
          "base_uri": "https://localhost:8080/",
          "height": 34
        },
        "outputId": "a67bb512-7e78-449c-c535-06fd53911c14",
        "executionInfo": {
          "status": "ok",
          "timestamp": 1530985804252,
          "user_tz": 300,
          "elapsed": 1512,
          "user": {
            "displayName": "sergi castel",
            "photoUrl": "//lh5.googleusercontent.com/-t7uPTy_PD5c/AAAAAAAAAAI/AAAAAAAABjU/YrQqLvCov5A/s50-c-k-no/photo.jpg",
            "userId": "104485759475975710875"
          }
        }
      },
      "cell_type": "code",
      "source": [
        "! ls datalab"
      ],
      "execution_count": 41,
      "outputs": [
        {
          "output_type": "stream",
          "text": [
            "adc.json\r\n"
          ],
          "name": "stdout"
        }
      ]
    },
    {
      "metadata": {
        "id": "2Izep6PW13Ko",
        "colab_type": "code",
        "colab": {
          "autoexec": {
            "startup": false,
            "wait_interval": 0
          },
          "base_uri": "https://localhost:8080/",
          "height": 170
        },
        "outputId": "c650c942-8242-4759-d52f-017a7c89922d",
        "executionInfo": {
          "status": "ok",
          "timestamp": 1530985716420,
          "user_tz": 300,
          "elapsed": 1489,
          "user": {
            "displayName": "Jesus Solano",
            "photoUrl": "https://lh3.googleusercontent.com/a/default-user=s128",
            "userId": "111266076568687218605"
          }
        }
      },
      "cell_type": "code",
      "source": [
        "! ls datasets/train\n"
      ],
      "execution_count": 149,
      "outputs": [
        {
          "output_type": "stream",
          "text": [
            "egr002.jpg  egr024.jpg\tegr036.jpg  egr056.jpg\tegr069.jpg  egr088.jpg\r\n",
            "egr004.jpg  egr025.jpg\tegr037.jpg  egr057.jpg\tegr074.jpg  egr091.jpg\r\n",
            "egr008.jpg  egr028.jpg\tegr039.jpg  egr058.jpg\tegr075.jpg  egr096.jpg\r\n",
            "egr012.jpg  egr029.jpg\tegr041.jpg  egr059.jpg\tegr076.jpg  egr099.jpg\r\n",
            "egr013.jpg  egr030.jpg\tegr047.jpg  egr060.jpg\tegr077.jpg  egr100.jpg\r\n",
            "egr014.jpg  egr031.jpg\tegr048.jpg  egr061.jpg\tegr079.jpg\r\n",
            "egr018.jpg  egr033.jpg\tegr050.jpg  egr063.jpg\tegr083.jpg\r\n",
            "egr019.jpg  egr034.jpg\tegr052.jpg  egr064.jpg\tegr084.jpg\r\n",
            "egr021.jpg  egr035.jpg\tegr055.jpg  egr067.jpg\tegr086.jpg\r\n"
          ],
          "name": "stdout"
        }
      ]
    },
    {
      "metadata": {
        "id": "AJeoxzWg2bTb",
        "colab_type": "code",
        "colab": {
          "autoexec": {
            "startup": false,
            "wait_interval": 0
          },
          "base_uri": "https://localhost:8080/",
          "height": 34
        },
        "outputId": "eece1349-bf01-472f-d206-7ac1c8fa0966",
        "executionInfo": {
          "status": "ok",
          "timestamp": 1530985859690,
          "user_tz": 300,
          "elapsed": 1655,
          "user": {
            "displayName": "Edgardo Aleksey Sepulveda Duran",
            "photoUrl": "https://lh3.googleusercontent.com/a/default-user=s128",
            "userId": "107257046089642896553"
          }
        }
      },
      "cell_type": "code",
      "source": [
        "! ls datalab/"
      ],
      "execution_count": 37,
      "outputs": [
        {
          "output_type": "stream",
          "text": [
            "adc.json  birds_f_numbers.txt\r\n"
          ],
          "name": "stdout"
        }
      ]
    },
    {
      "metadata": {
        "id": "bSoe5hSw3iCz",
        "colab_type": "code",
        "colab": {
          "autoexec": {
            "startup": false,
            "wait_interval": 0
          }
        }
      },
      "cell_type": "code",
      "source": [
        "### resize images\n",
        "\n",
        "from PIL import Image\n",
        "\n",
        "basewidth = 256\n",
        "hsize = 256\n",
        "img = Image.open('Birds.jpg')\n",
        "wpercent = (basewidth/float(img.size[0]))\n",
        "img = img.resize((basewidth,hsize), Image.ANTIALIAS)\n",
        "img.save('sompic1.jpg') "
      ],
      "execution_count": 0,
      "outputs": []
    },
    {
      "metadata": {
        "id": "PF1KlbnS65Tr",
        "colab_type": "code",
        "colab": {
          "autoexec": {
            "startup": false,
            "wait_interval": 0
          }
        }
      },
      "cell_type": "code",
      "source": [
        "https://colab.research.google.com/drive/1zB5kzpdKaESIsn66rvktauLuVBNG-J1h"
      ],
      "execution_count": 0,
      "outputs": []
    },
    {
      "metadata": {
        "id": "94NrOFw269nF",
        "colab_type": "text"
      },
      "cell_type": "markdown",
      "source": [
        ""
      ]
    }
  ]
}